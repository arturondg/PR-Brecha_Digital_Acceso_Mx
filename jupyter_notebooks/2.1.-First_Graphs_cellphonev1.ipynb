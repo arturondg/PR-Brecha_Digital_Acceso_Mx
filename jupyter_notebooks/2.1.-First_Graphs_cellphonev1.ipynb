{
 "cells": [
  {
   "attachments": {},
   "cell_type": "markdown",
   "metadata": {},
   "source": [
    "# Primeros Gráficos\n",
    "\n",
    "El objetivo general de este notebook es comenzar a adentrarse en la base de datos, obtener gráficas interesantes en  \n",
    "cuanto a la Brecha de Digital de Acceso, y más ampliamente, información general de interés."
   ]
  },
  {
   "attachments": {},
   "cell_type": "markdown",
   "metadata": {},
   "source": [
    "- ## Comparación de hogares con acceso a computadoras, celulares e internet por estrato socioeconómico\n",
    "\n",
    "Cómo lo dice el título, se producirá una gráfica para medir la cantidad a nivel nacional de computadoras,  \n",
    "celulares y acceso a internet con el que cuentan los hogares agrupado en estratos socioeconómicos que el  \n",
    "propio INEGI proporciona."
   ]
  },
  {
   "cell_type": "code",
   "execution_count": 1,
   "metadata": {},
   "outputs": [],
   "source": [
    "import pandas as pd #libraries"
   ]
  },
  {
   "attachments": {},
   "cell_type": "markdown",
   "metadata": {},
   "source": [
    "Primero cargamos la base de datos"
   ]
  },
  {
   "cell_type": "code",
   "execution_count": 2,
   "metadata": {},
   "outputs": [
    {
     "data": {
      "text/html": [
       "<div>\n",
       "<style scoped>\n",
       "    .dataframe tbody tr th:only-of-type {\n",
       "        vertical-align: middle;\n",
       "    }\n",
       "\n",
       "    .dataframe tbody tr th {\n",
       "        vertical-align: top;\n",
       "    }\n",
       "\n",
       "    .dataframe thead th {\n",
       "        text-align: right;\n",
       "    }\n",
       "</style>\n",
       "<table border=\"1\" class=\"dataframe\">\n",
       "  <thead>\n",
       "    <tr style=\"text-align: right;\">\n",
       "      <th></th>\n",
       "      <th>UPM</th>\n",
       "      <th>VIV_SEL</th>\n",
       "      <th>HOGAR</th>\n",
       "      <th>P4_1_1</th>\n",
       "      <th>P4_1_2</th>\n",
       "      <th>P4_1_3</th>\n",
       "      <th>P4_1_4</th>\n",
       "      <th>P4_1_5</th>\n",
       "      <th>P4_1_6</th>\n",
       "      <th>P4_1_6_1</th>\n",
       "      <th>...</th>\n",
       "      <th>P5_11_1</th>\n",
       "      <th>P5_11_2</th>\n",
       "      <th>P5_11_3</th>\n",
       "      <th>FAC_HOG</th>\n",
       "      <th>UPM_DIS</th>\n",
       "      <th>EST_DIS</th>\n",
       "      <th>DOMINIO</th>\n",
       "      <th>TLOC</th>\n",
       "      <th>ESTRATO</th>\n",
       "      <th>ENT</th>\n",
       "    </tr>\n",
       "  </thead>\n",
       "  <tbody>\n",
       "    <tr>\n",
       "      <th>0</th>\n",
       "      <td>100023</td>\n",
       "      <td>1</td>\n",
       "      <td>1</td>\n",
       "      <td>1</td>\n",
       "      <td>2</td>\n",
       "      <td>2</td>\n",
       "      <td>1</td>\n",
       "      <td>2</td>\n",
       "      <td>1</td>\n",
       "      <td>1</td>\n",
       "      <td>...</td>\n",
       "      <td>3</td>\n",
       "      <td>3</td>\n",
       "      <td>3</td>\n",
       "      <td>174</td>\n",
       "      <td>1</td>\n",
       "      <td>7</td>\n",
       "      <td>U</td>\n",
       "      <td>1</td>\n",
       "      <td>3</td>\n",
       "      <td>1</td>\n",
       "    </tr>\n",
       "    <tr>\n",
       "      <th>1</th>\n",
       "      <td>100023</td>\n",
       "      <td>2</td>\n",
       "      <td>1</td>\n",
       "      <td>2</td>\n",
       "      <td>2</td>\n",
       "      <td>2</td>\n",
       "      <td>1</td>\n",
       "      <td>2</td>\n",
       "      <td>1</td>\n",
       "      <td>5</td>\n",
       "      <td>...</td>\n",
       "      <td>2</td>\n",
       "      <td>1</td>\n",
       "      <td>1</td>\n",
       "      <td>174</td>\n",
       "      <td>1</td>\n",
       "      <td>7</td>\n",
       "      <td>U</td>\n",
       "      <td>1</td>\n",
       "      <td>3</td>\n",
       "      <td>1</td>\n",
       "    </tr>\n",
       "    <tr>\n",
       "      <th>2</th>\n",
       "      <td>100023</td>\n",
       "      <td>3</td>\n",
       "      <td>1</td>\n",
       "      <td>2</td>\n",
       "      <td>1</td>\n",
       "      <td>2</td>\n",
       "      <td>1</td>\n",
       "      <td>1</td>\n",
       "      <td>1</td>\n",
       "      <td>2</td>\n",
       "      <td>...</td>\n",
       "      <td>1</td>\n",
       "      <td>1</td>\n",
       "      <td>1</td>\n",
       "      <td>174</td>\n",
       "      <td>1</td>\n",
       "      <td>7</td>\n",
       "      <td>U</td>\n",
       "      <td>1</td>\n",
       "      <td>3</td>\n",
       "      <td>1</td>\n",
       "    </tr>\n",
       "    <tr>\n",
       "      <th>3</th>\n",
       "      <td>100023</td>\n",
       "      <td>4</td>\n",
       "      <td>1</td>\n",
       "      <td>1</td>\n",
       "      <td>2</td>\n",
       "      <td>2</td>\n",
       "      <td>1</td>\n",
       "      <td>1</td>\n",
       "      <td>1</td>\n",
       "      <td>8</td>\n",
       "      <td>...</td>\n",
       "      <td>1</td>\n",
       "      <td>1</td>\n",
       "      <td>1</td>\n",
       "      <td>174</td>\n",
       "      <td>1</td>\n",
       "      <td>7</td>\n",
       "      <td>U</td>\n",
       "      <td>1</td>\n",
       "      <td>3</td>\n",
       "      <td>1</td>\n",
       "    </tr>\n",
       "    <tr>\n",
       "      <th>4</th>\n",
       "      <td>100023</td>\n",
       "      <td>5</td>\n",
       "      <td>1</td>\n",
       "      <td>2</td>\n",
       "      <td>2</td>\n",
       "      <td>2</td>\n",
       "      <td>1</td>\n",
       "      <td>2</td>\n",
       "      <td>1</td>\n",
       "      <td>3</td>\n",
       "      <td>...</td>\n",
       "      <td>2</td>\n",
       "      <td>3</td>\n",
       "      <td>3</td>\n",
       "      <td>174</td>\n",
       "      <td>1</td>\n",
       "      <td>7</td>\n",
       "      <td>U</td>\n",
       "      <td>1</td>\n",
       "      <td>3</td>\n",
       "      <td>1</td>\n",
       "    </tr>\n",
       "  </tbody>\n",
       "</table>\n",
       "<p>5 rows × 84 columns</p>\n",
       "</div>"
      ],
      "text/plain": [
       "      UPM  VIV_SEL  HOGAR  P4_1_1  P4_1_2  P4_1_3  P4_1_4  P4_1_5  P4_1_6  \\\n",
       "0  100023        1      1       1       2       2       1       2       1   \n",
       "1  100023        2      1       2       2       2       1       2       1   \n",
       "2  100023        3      1       2       1       2       1       1       1   \n",
       "3  100023        4      1       1       2       2       1       1       1   \n",
       "4  100023        5      1       2       2       2       1       2       1   \n",
       "\n",
       "   P4_1_6_1  ...  P5_11_1  P5_11_2  P5_11_3  FAC_HOG  UPM_DIS EST_DIS  \\\n",
       "0         1  ...        3        3        3      174        1       7   \n",
       "1         5  ...        2        1        1      174        1       7   \n",
       "2         2  ...        1        1        1      174        1       7   \n",
       "3         8  ...        1        1        1      174        1       7   \n",
       "4         3  ...        2        3        3      174        1       7   \n",
       "\n",
       "   DOMINIO  TLOC  ESTRATO  ENT  \n",
       "0        U     1        3    1  \n",
       "1        U     1        3    1  \n",
       "2        U     1        3    1  \n",
       "3        U     1        3    1  \n",
       "4        U     1        3    1  \n",
       "\n",
       "[5 rows x 84 columns]"
      ]
     },
     "execution_count": 2,
     "metadata": {},
     "output_type": "execute_result"
    }
   ],
   "source": [
    "path_hogar = (\"../data/ENDUTIH_2021_transformed/ENDUTIH_HOGAR_2021.csv\") #Dataset \"hogar\"\n",
    "df_hogar = pd.read_csv(path_hogar) \n",
    "df_hogar.head() #show first 5 rows"
   ]
  },
  {
   "attachments": {},
   "cell_type": "markdown",
   "metadata": {},
   "source": [
    "Visualizamos el total de hogares en México, la cual es obtenida a través de la muestra en la variable \"FAC_HOG\" "
   ]
  },
  {
   "cell_type": "code",
   "execution_count": 3,
   "metadata": {},
   "outputs": [
    {
     "data": {
      "text/plain": [
       "36616301"
      ]
     },
     "execution_count": 3,
     "metadata": {},
     "output_type": "execute_result"
    }
   ],
   "source": [
    "total_hogares = sum(df_hogar['FAC_HOG']) #total households\n",
    "#df_hogar[\"FAC_HOG\"].sum()\n",
    "total_hogares #result"
   ]
  },
  {
   "attachments": {},
   "cell_type": "markdown",
   "metadata": {},
   "source": [
    "Elegimos variables de interés"
   ]
  },
  {
   "cell_type": "code",
   "execution_count": 4,
   "metadata": {},
   "outputs": [
    {
     "data": {
      "text/html": [
       "<div>\n",
       "<style scoped>\n",
       "    .dataframe tbody tr th:only-of-type {\n",
       "        vertical-align: middle;\n",
       "    }\n",
       "\n",
       "    .dataframe tbody tr th {\n",
       "        vertical-align: top;\n",
       "    }\n",
       "\n",
       "    .dataframe thead th {\n",
       "        text-align: right;\n",
       "    }\n",
       "</style>\n",
       "<table border=\"1\" class=\"dataframe\">\n",
       "  <thead>\n",
       "    <tr style=\"text-align: right;\">\n",
       "      <th></th>\n",
       "      <th>ESTRATO</th>\n",
       "      <th>P4_1_6</th>\n",
       "      <th>P4_2_1</th>\n",
       "      <th>P4_2_2</th>\n",
       "      <th>P4_4</th>\n",
       "      <th>FAC_HOG</th>\n",
       "    </tr>\n",
       "  </thead>\n",
       "  <tbody>\n",
       "    <tr>\n",
       "      <th>0</th>\n",
       "      <td>3</td>\n",
       "      <td>1</td>\n",
       "      <td>2</td>\n",
       "      <td>1</td>\n",
       "      <td>1</td>\n",
       "      <td>174</td>\n",
       "    </tr>\n",
       "    <tr>\n",
       "      <th>1</th>\n",
       "      <td>3</td>\n",
       "      <td>1</td>\n",
       "      <td>2</td>\n",
       "      <td>1</td>\n",
       "      <td>1</td>\n",
       "      <td>174</td>\n",
       "    </tr>\n",
       "    <tr>\n",
       "      <th>2</th>\n",
       "      <td>3</td>\n",
       "      <td>1</td>\n",
       "      <td>2</td>\n",
       "      <td>1</td>\n",
       "      <td>1</td>\n",
       "      <td>174</td>\n",
       "    </tr>\n",
       "    <tr>\n",
       "      <th>3</th>\n",
       "      <td>3</td>\n",
       "      <td>1</td>\n",
       "      <td>2</td>\n",
       "      <td>1</td>\n",
       "      <td>1</td>\n",
       "      <td>174</td>\n",
       "    </tr>\n",
       "    <tr>\n",
       "      <th>4</th>\n",
       "      <td>3</td>\n",
       "      <td>1</td>\n",
       "      <td>2</td>\n",
       "      <td>1</td>\n",
       "      <td>1</td>\n",
       "      <td>174</td>\n",
       "    </tr>\n",
       "  </tbody>\n",
       "</table>\n",
       "</div>"
      ],
      "text/plain": [
       "   ESTRATO  P4_1_6  P4_2_1  P4_2_2  P4_4  FAC_HOG\n",
       "0        3       1       2       1     1      174\n",
       "1        3       1       2       1     1      174\n",
       "2        3       1       2       1     1      174\n",
       "3        3       1       2       1     1      174\n",
       "4        3       1       2       1     1      174"
      ]
     },
     "execution_count": 4,
     "metadata": {},
     "output_type": "execute_result"
    }
   ],
   "source": [
    "df_pc_cel_hog = df_hogar[[\"ESTRATO\", \"P4_1_6\", \"P4_2_1\", \"P4_2_2\", \"P4_4\", \"FAC_HOG\"]] #filter columns\n",
    "df_pc_cel_hog.head() #show first 5 rows"
   ]
  },
  {
   "attachments": {},
   "cell_type": "markdown",
   "metadata": {},
   "source": [
    "Se cambian el nombre de las columnas para una mejor identificación de las columnas"
   ]
  },
  {
   "cell_type": "code",
   "execution_count": 5,
   "metadata": {},
   "outputs": [
    {
     "data": {
      "text/html": [
       "<div>\n",
       "<style scoped>\n",
       "    .dataframe tbody tr th:only-of-type {\n",
       "        vertical-align: middle;\n",
       "    }\n",
       "\n",
       "    .dataframe tbody tr th {\n",
       "        vertical-align: top;\n",
       "    }\n",
       "\n",
       "    .dataframe thead th {\n",
       "        text-align: right;\n",
       "    }\n",
       "</style>\n",
       "<table border=\"1\" class=\"dataframe\">\n",
       "  <thead>\n",
       "    <tr style=\"text-align: right;\">\n",
       "      <th></th>\n",
       "      <th>estrato</th>\n",
       "      <th>celular</th>\n",
       "      <th>pc</th>\n",
       "      <th>portatil</th>\n",
       "      <th>internet</th>\n",
       "      <th>factor</th>\n",
       "    </tr>\n",
       "  </thead>\n",
       "  <tbody>\n",
       "    <tr>\n",
       "      <th>0</th>\n",
       "      <td>3</td>\n",
       "      <td>1</td>\n",
       "      <td>2</td>\n",
       "      <td>1</td>\n",
       "      <td>1</td>\n",
       "      <td>174</td>\n",
       "    </tr>\n",
       "    <tr>\n",
       "      <th>1</th>\n",
       "      <td>3</td>\n",
       "      <td>1</td>\n",
       "      <td>2</td>\n",
       "      <td>1</td>\n",
       "      <td>1</td>\n",
       "      <td>174</td>\n",
       "    </tr>\n",
       "    <tr>\n",
       "      <th>2</th>\n",
       "      <td>3</td>\n",
       "      <td>1</td>\n",
       "      <td>2</td>\n",
       "      <td>1</td>\n",
       "      <td>1</td>\n",
       "      <td>174</td>\n",
       "    </tr>\n",
       "    <tr>\n",
       "      <th>3</th>\n",
       "      <td>3</td>\n",
       "      <td>1</td>\n",
       "      <td>2</td>\n",
       "      <td>1</td>\n",
       "      <td>1</td>\n",
       "      <td>174</td>\n",
       "    </tr>\n",
       "    <tr>\n",
       "      <th>4</th>\n",
       "      <td>3</td>\n",
       "      <td>1</td>\n",
       "      <td>2</td>\n",
       "      <td>1</td>\n",
       "      <td>1</td>\n",
       "      <td>174</td>\n",
       "    </tr>\n",
       "  </tbody>\n",
       "</table>\n",
       "</div>"
      ],
      "text/plain": [
       "   estrato  celular  pc  portatil  internet  factor\n",
       "0        3        1   2         1         1     174\n",
       "1        3        1   2         1         1     174\n",
       "2        3        1   2         1         1     174\n",
       "3        3        1   2         1         1     174\n",
       "4        3        1   2         1         1     174"
      ]
     },
     "execution_count": 5,
     "metadata": {},
     "output_type": "execute_result"
    }
   ],
   "source": [
    "df_pc_cel_hog = df_pc_cel_hog.rename(columns={\"ESTRATO\" : \"estrato\", \"FAC_HOG\" : \"factor\", \"P4_1_6\" : \"celular\", \"P4_2_1\" : \"pc\", \"P4_2_2\" : \"portatil\", \"P4_4\" : \"internet\" })\n",
    "df_pc_cel_hog.head() #show first 5 rows"
   ]
  },
  {
   "attachments": {},
   "cell_type": "markdown",
   "metadata": {},
   "source": [
    "Se identifican los valores de cada columna que pueda tener una categoría, en este caso \"estrato\" es el  \n",
    "estrato socioeconómico al que pertenece el caso, y las demás columnas contienen datos binarios, en el que  \n",
    "1 es Sí y 2 es No."
   ]
  },
  {
   "cell_type": "code",
   "execution_count": 6,
   "metadata": {},
   "outputs": [
    {
     "name": "stdout",
     "output_type": "stream",
     "text": [
      "estrato\n",
      "2    30686\n",
      "3    12401\n",
      "1    11202\n",
      "4     4996\n",
      "Name: estrato, dtype: int64\n",
      "celular\n",
      "1    55371\n",
      "2     3914\n",
      "Name: celular, dtype: int64\n",
      "pc\n",
      "2    51336\n",
      "1     7949\n",
      "Name: pc, dtype: int64\n",
      "portatil\n",
      "2    39468\n",
      "1    19817\n",
      "Name: portatil, dtype: int64\n",
      "internet\n",
      "1    38669\n",
      "2    20616\n",
      "Name: internet, dtype: int64\n"
     ]
    }
   ],
   "source": [
    "columns_pc_cel = [\"estrato\", \"celular\", \"pc\", \"portatil\", \"internet\"] #catoggorical columns\n",
    "for column in columns_pc_cel: \n",
    "    print(column)\n",
    "    print(df_pc_cel_hog[column].value_counts())"
   ]
  },
  {
   "attachments": {},
   "cell_type": "markdown",
   "metadata": {},
   "source": [
    "Se reemplazan valores, no sin antes cambiar el tipo de datos de la columna \"estrato\""
   ]
  },
  {
   "cell_type": "code",
   "execution_count": 7,
   "metadata": {},
   "outputs": [
    {
     "data": {
      "text/plain": [
       "2    30686\n",
       "3    12401\n",
       "1    11202\n",
       "4     4996\n",
       "Name: estrato, dtype: int64"
      ]
     },
     "execution_count": 7,
     "metadata": {},
     "output_type": "execute_result"
    }
   ],
   "source": [
    "df_pc_cel_hog[\"estrato\"] = df_pc_cel_hog[\"estrato\"].astype(\"object\") #chage datatype\n",
    "df_pc_cel_hog[\"estrato\"].value_counts() "
   ]
  },
  {
   "cell_type": "code",
   "execution_count": 8,
   "metadata": {},
   "outputs": [
    {
     "name": "stdout",
     "output_type": "stream",
     "text": [
      "object\n"
     ]
    }
   ],
   "source": [
    "print(df_pc_cel_hog[\"estrato\"].dtypes)"
   ]
  },
  {
   "cell_type": "code",
   "execution_count": 9,
   "metadata": {},
   "outputs": [],
   "source": [
    "df_pc_cel_hog[\"estrato\"] = df_pc_cel_hog[\"estrato\"].replace([1, 2, 3, 4], [\"Bajo\", \"Medio Bajo\", \"Medio Alto\", \"Alto\"]) #value substitution"
   ]
  },
  {
   "cell_type": "code",
   "execution_count": 10,
   "metadata": {},
   "outputs": [
    {
     "data": {
      "text/plain": [
       "Medio Bajo    30686\n",
       "Medio Alto    12401\n",
       "Bajo          11202\n",
       "Alto           4996\n",
       "Name: estrato, dtype: int64"
      ]
     },
     "execution_count": 10,
     "metadata": {},
     "output_type": "execute_result"
    }
   ],
   "source": [
    "df_pc_cel_hog[\"estrato\"].value_counts()"
   ]
  },
  {
   "attachments": {},
   "cell_type": "markdown",
   "metadata": {},
   "source": [
    "Se reemplazan los valores negativos (2) por 0. Esto es una forma fácil de hacerlo pues cada caso se sumara  \n",
    "dependiendo de una respuesta positiva a la pregunta"
   ]
  },
  {
   "cell_type": "code",
   "execution_count": 11,
   "metadata": {},
   "outputs": [
    {
     "name": "stdout",
     "output_type": "stream",
     "text": [
      "estrato\n",
      "Medio Bajo    30686\n",
      "Medio Alto    12401\n",
      "Bajo          11202\n",
      "Alto           4996\n",
      "Name: estrato, dtype: int64\n",
      "celular\n",
      "1    55371\n",
      "0     3914\n",
      "Name: celular, dtype: int64\n",
      "pc\n",
      "0    51336\n",
      "1     7949\n",
      "Name: pc, dtype: int64\n",
      "portatil\n",
      "0    39468\n",
      "1    19817\n",
      "Name: portatil, dtype: int64\n",
      "internet\n",
      "1    38669\n",
      "0    20616\n",
      "Name: internet, dtype: int64\n"
     ]
    }
   ],
   "source": [
    "df_pc_cel_hog2 = df_pc_cel_hog.replace(2, 0) #replace values\n",
    "for column in columns_pc_cel:\n",
    "    print(column)\n",
    "    print(df_pc_cel_hog2[column].value_counts())"
   ]
  },
  {
   "attachments": {},
   "cell_type": "markdown",
   "metadata": {},
   "source": [
    "Un pequeño vistazo a los campos agrupados, pero este no es el resultado final, pues son los datos de muestra"
   ]
  },
  {
   "cell_type": "code",
   "execution_count": 12,
   "metadata": {},
   "outputs": [
    {
     "data": {
      "text/html": [
       "<div>\n",
       "<style scoped>\n",
       "    .dataframe tbody tr th:only-of-type {\n",
       "        vertical-align: middle;\n",
       "    }\n",
       "\n",
       "    .dataframe tbody tr th {\n",
       "        vertical-align: top;\n",
       "    }\n",
       "\n",
       "    .dataframe thead th {\n",
       "        text-align: right;\n",
       "    }\n",
       "</style>\n",
       "<table border=\"1\" class=\"dataframe\">\n",
       "  <thead>\n",
       "    <tr style=\"text-align: right;\">\n",
       "      <th></th>\n",
       "      <th>celular</th>\n",
       "      <th>pc</th>\n",
       "      <th>portatil</th>\n",
       "      <th>internet</th>\n",
       "      <th>factor</th>\n",
       "    </tr>\n",
       "    <tr>\n",
       "      <th>estrato</th>\n",
       "      <th></th>\n",
       "      <th></th>\n",
       "      <th></th>\n",
       "      <th></th>\n",
       "      <th></th>\n",
       "    </tr>\n",
       "  </thead>\n",
       "  <tbody>\n",
       "    <tr>\n",
       "      <th>Alto</th>\n",
       "      <td>4925</td>\n",
       "      <td>1495</td>\n",
       "      <td>3325</td>\n",
       "      <td>4614</td>\n",
       "      <td>3678284</td>\n",
       "    </tr>\n",
       "    <tr>\n",
       "      <th>Bajo</th>\n",
       "      <td>9469</td>\n",
       "      <td>334</td>\n",
       "      <td>1419</td>\n",
       "      <td>3897</td>\n",
       "      <td>6966956</td>\n",
       "    </tr>\n",
       "    <tr>\n",
       "      <th>Medio Alto</th>\n",
       "      <td>11980</td>\n",
       "      <td>2611</td>\n",
       "      <td>5898</td>\n",
       "      <td>10262</td>\n",
       "      <td>7784565</td>\n",
       "    </tr>\n",
       "    <tr>\n",
       "      <th>Medio Bajo</th>\n",
       "      <td>28997</td>\n",
       "      <td>3509</td>\n",
       "      <td>9175</td>\n",
       "      <td>19896</td>\n",
       "      <td>18186496</td>\n",
       "    </tr>\n",
       "  </tbody>\n",
       "</table>\n",
       "</div>"
      ],
      "text/plain": [
       "            celular    pc  portatil  internet    factor\n",
       "estrato                                                \n",
       "Alto           4925  1495      3325      4614   3678284\n",
       "Bajo           9469   334      1419      3897   6966956\n",
       "Medio Alto    11980  2611      5898     10262   7784565\n",
       "Medio Bajo    28997  3509      9175     19896  18186496"
      ]
     },
     "execution_count": 12,
     "metadata": {},
     "output_type": "execute_result"
    }
   ],
   "source": [
    "df_pc_cel_hog2.groupby(\"estrato\").sum() #value grouping"
   ]
  },
  {
   "attachments": {},
   "cell_type": "markdown",
   "metadata": {},
   "source": [
    "Antes que nada, se va a crear una nueva columna, pues \"pc\" y \"portatil\" se considerarán dentro del  \n",
    "mismo ramo, ya que ambas representan un computadoras, y es lo que prentende compararse en contraposición  \n",
    "al celular."
   ]
  },
  {
   "cell_type": "code",
   "execution_count": 13,
   "metadata": {},
   "outputs": [
    {
     "data": {
      "text/html": [
       "<div>\n",
       "<style scoped>\n",
       "    .dataframe tbody tr th:only-of-type {\n",
       "        vertical-align: middle;\n",
       "    }\n",
       "\n",
       "    .dataframe tbody tr th {\n",
       "        vertical-align: top;\n",
       "    }\n",
       "\n",
       "    .dataframe thead th {\n",
       "        text-align: right;\n",
       "    }\n",
       "</style>\n",
       "<table border=\"1\" class=\"dataframe\">\n",
       "  <thead>\n",
       "    <tr style=\"text-align: right;\">\n",
       "      <th></th>\n",
       "      <th>estrato</th>\n",
       "      <th>pc</th>\n",
       "      <th>portatil</th>\n",
       "    </tr>\n",
       "  </thead>\n",
       "  <tbody>\n",
       "    <tr>\n",
       "      <th>0</th>\n",
       "      <td>Medio Alto</td>\n",
       "      <td>0</td>\n",
       "      <td>1</td>\n",
       "    </tr>\n",
       "    <tr>\n",
       "      <th>1</th>\n",
       "      <td>Medio Alto</td>\n",
       "      <td>0</td>\n",
       "      <td>1</td>\n",
       "    </tr>\n",
       "    <tr>\n",
       "      <th>2</th>\n",
       "      <td>Medio Alto</td>\n",
       "      <td>0</td>\n",
       "      <td>1</td>\n",
       "    </tr>\n",
       "    <tr>\n",
       "      <th>3</th>\n",
       "      <td>Medio Alto</td>\n",
       "      <td>0</td>\n",
       "      <td>1</td>\n",
       "    </tr>\n",
       "    <tr>\n",
       "      <th>4</th>\n",
       "      <td>Medio Alto</td>\n",
       "      <td>0</td>\n",
       "      <td>1</td>\n",
       "    </tr>\n",
       "  </tbody>\n",
       "</table>\n",
       "</div>"
      ],
      "text/plain": [
       "      estrato  pc  portatil\n",
       "0  Medio Alto   0         1\n",
       "1  Medio Alto   0         1\n",
       "2  Medio Alto   0         1\n",
       "3  Medio Alto   0         1\n",
       "4  Medio Alto   0         1"
      ]
     },
     "execution_count": 13,
     "metadata": {},
     "output_type": "execute_result"
    }
   ],
   "source": [
    "df_pc = df_pc_cel_hog2[[\"estrato\",\"pc\", \"portatil\"]]\n",
    "df_pc.head()"
   ]
  },
  {
   "cell_type": "code",
   "execution_count": 14,
   "metadata": {},
   "outputs": [
    {
     "data": {
      "text/html": [
       "<div>\n",
       "<style scoped>\n",
       "    .dataframe tbody tr th:only-of-type {\n",
       "        vertical-align: middle;\n",
       "    }\n",
       "\n",
       "    .dataframe tbody tr th {\n",
       "        vertical-align: top;\n",
       "    }\n",
       "\n",
       "    .dataframe thead th {\n",
       "        text-align: right;\n",
       "    }\n",
       "</style>\n",
       "<table border=\"1\" class=\"dataframe\">\n",
       "  <thead>\n",
       "    <tr style=\"text-align: right;\">\n",
       "      <th></th>\n",
       "      <th>estrato</th>\n",
       "      <th>pc</th>\n",
       "      <th>portatil</th>\n",
       "      <th>computadora</th>\n",
       "    </tr>\n",
       "  </thead>\n",
       "  <tbody>\n",
       "    <tr>\n",
       "      <th>0</th>\n",
       "      <td>Medio Alto</td>\n",
       "      <td>0</td>\n",
       "      <td>1</td>\n",
       "      <td>1</td>\n",
       "    </tr>\n",
       "    <tr>\n",
       "      <th>1</th>\n",
       "      <td>Medio Alto</td>\n",
       "      <td>0</td>\n",
       "      <td>1</td>\n",
       "      <td>1</td>\n",
       "    </tr>\n",
       "    <tr>\n",
       "      <th>2</th>\n",
       "      <td>Medio Alto</td>\n",
       "      <td>0</td>\n",
       "      <td>1</td>\n",
       "      <td>1</td>\n",
       "    </tr>\n",
       "    <tr>\n",
       "      <th>3</th>\n",
       "      <td>Medio Alto</td>\n",
       "      <td>0</td>\n",
       "      <td>1</td>\n",
       "      <td>1</td>\n",
       "    </tr>\n",
       "    <tr>\n",
       "      <th>4</th>\n",
       "      <td>Medio Alto</td>\n",
       "      <td>0</td>\n",
       "      <td>1</td>\n",
       "      <td>1</td>\n",
       "    </tr>\n",
       "  </tbody>\n",
       "</table>\n",
       "</div>"
      ],
      "text/plain": [
       "      estrato  pc  portatil  computadora\n",
       "0  Medio Alto   0         1            1\n",
       "1  Medio Alto   0         1            1\n",
       "2  Medio Alto   0         1            1\n",
       "3  Medio Alto   0         1            1\n",
       "4  Medio Alto   0         1            1"
      ]
     },
     "execution_count": 14,
     "metadata": {},
     "output_type": "execute_result"
    }
   ],
   "source": [
    "df_compu = (df_pc[\"pc\"] + df_pc[\"portatil\"]).apply(lambda x: 1 if x >= 1 else 0) #new column from the two previous ones, if you have a pc or laptop, you are considered to have a computer.\n",
    "df_compu2 = pd.concat([df_pc, df_compu], axis=1) #union of dataframe and new column\n",
    "df_compu2 = df_compu2.rename(columns={0 : \"computadora\"}) #change column name\n",
    "df_compu2.head() "
   ]
  },
  {
   "cell_type": "code",
   "execution_count": 15,
   "metadata": {},
   "outputs": [
    {
     "name": "stdout",
     "output_type": "stream",
     "text": [
      "estrato\n",
      "Medio Bajo    30686\n",
      "Medio Alto    12401\n",
      "Bajo          11202\n",
      "Alto           4996\n",
      "Name: estrato, dtype: int64\n",
      "pc\n",
      "0    51336\n",
      "1     7949\n",
      "Name: pc, dtype: int64\n",
      "portatil\n",
      "0    39468\n",
      "1    19817\n",
      "Name: portatil, dtype: int64\n",
      "computadora\n",
      "0    35946\n",
      "1    23339\n",
      "Name: computadora, dtype: int64\n"
     ]
    }
   ],
   "source": [
    "columns_compu = [\"estrato\", \"pc\", \"portatil\", \"computadora\"]\n",
    "for column in columns_compu: #count values of columns\n",
    "    print(column)\n",
    "    print(df_compu2[column].value_counts())"
   ]
  },
  {
   "attachments": {},
   "cell_type": "markdown",
   "metadata": {},
   "source": [
    "Antes que nada, vamos a revisar los smartphones"
   ]
  },
  {
   "cell_type": "code",
   "execution_count": 16,
   "metadata": {},
   "outputs": [
    {
     "data": {
      "text/plain": [
       "0    1\n",
       "1    5\n",
       "2    2\n",
       "3    8\n",
       "4    2\n",
       "Name: P4_1_6_2, dtype: int64"
      ]
     },
     "execution_count": 16,
     "metadata": {},
     "output_type": "execute_result"
    }
   ],
   "source": [
    "df_hogar[\"P4_1_6_2\"].head()"
   ]
  },
  {
   "attachments": {},
   "cell_type": "markdown",
   "metadata": {},
   "source": [
    "Se crea un nuevo dataframe, reemplazando las columnas de pc e internet por la nueva que contiene  \n",
    "ambas."
   ]
  },
  {
   "cell_type": "code",
   "execution_count": 17,
   "metadata": {},
   "outputs": [
    {
     "data": {
      "text/html": [
       "<div>\n",
       "<style scoped>\n",
       "    .dataframe tbody tr th:only-of-type {\n",
       "        vertical-align: middle;\n",
       "    }\n",
       "\n",
       "    .dataframe tbody tr th {\n",
       "        vertical-align: top;\n",
       "    }\n",
       "\n",
       "    .dataframe thead th {\n",
       "        text-align: right;\n",
       "    }\n",
       "</style>\n",
       "<table border=\"1\" class=\"dataframe\">\n",
       "  <thead>\n",
       "    <tr style=\"text-align: right;\">\n",
       "      <th></th>\n",
       "      <th>estrato</th>\n",
       "      <th>celular</th>\n",
       "      <th>pc</th>\n",
       "      <th>internet</th>\n",
       "      <th>factor</th>\n",
       "    </tr>\n",
       "  </thead>\n",
       "  <tbody>\n",
       "    <tr>\n",
       "      <th>0</th>\n",
       "      <td>Medio Alto</td>\n",
       "      <td>1</td>\n",
       "      <td>1</td>\n",
       "      <td>1</td>\n",
       "      <td>174</td>\n",
       "    </tr>\n",
       "    <tr>\n",
       "      <th>1</th>\n",
       "      <td>Medio Alto</td>\n",
       "      <td>1</td>\n",
       "      <td>1</td>\n",
       "      <td>1</td>\n",
       "      <td>174</td>\n",
       "    </tr>\n",
       "    <tr>\n",
       "      <th>2</th>\n",
       "      <td>Medio Alto</td>\n",
       "      <td>1</td>\n",
       "      <td>1</td>\n",
       "      <td>1</td>\n",
       "      <td>174</td>\n",
       "    </tr>\n",
       "    <tr>\n",
       "      <th>3</th>\n",
       "      <td>Medio Alto</td>\n",
       "      <td>1</td>\n",
       "      <td>1</td>\n",
       "      <td>1</td>\n",
       "      <td>174</td>\n",
       "    </tr>\n",
       "    <tr>\n",
       "      <th>4</th>\n",
       "      <td>Medio Alto</td>\n",
       "      <td>1</td>\n",
       "      <td>1</td>\n",
       "      <td>1</td>\n",
       "      <td>174</td>\n",
       "    </tr>\n",
       "  </tbody>\n",
       "</table>\n",
       "</div>"
      ],
      "text/plain": [
       "      estrato  celular  pc  internet  factor\n",
       "0  Medio Alto        1   1         1     174\n",
       "1  Medio Alto        1   1         1     174\n",
       "2  Medio Alto        1   1         1     174\n",
       "3  Medio Alto        1   1         1     174\n",
       "4  Medio Alto        1   1         1     174"
      ]
     },
     "execution_count": 17,
     "metadata": {},
     "output_type": "execute_result"
    }
   ],
   "source": [
    "df_tic_hog = df_pc_cel_hog2.drop(\"portatil\", axis=1) #drop portatil column\n",
    "df_tic_hog.loc[:, \"pc\"] = df_compu2[\"computadora\"] # replace pc columns by new column\n",
    "df_tic_hog.head()"
   ]
  },
  {
   "attachments": {},
   "cell_type": "markdown",
   "metadata": {},
   "source": [
    "Ya que cada caso es un muestra representativa, se usa el factor de expansión para poder dar cifras totales  \n",
    "respesto al total de hogares."
   ]
  },
  {
   "cell_type": "code",
   "execution_count": 18,
   "metadata": {},
   "outputs": [
    {
     "data": {
      "text/html": [
       "<div>\n",
       "<style scoped>\n",
       "    .dataframe tbody tr th:only-of-type {\n",
       "        vertical-align: middle;\n",
       "    }\n",
       "\n",
       "    .dataframe tbody tr th {\n",
       "        vertical-align: top;\n",
       "    }\n",
       "\n",
       "    .dataframe thead th {\n",
       "        text-align: right;\n",
       "    }\n",
       "</style>\n",
       "<table border=\"1\" class=\"dataframe\">\n",
       "  <thead>\n",
       "    <tr style=\"text-align: right;\">\n",
       "      <th></th>\n",
       "      <th>estrato</th>\n",
       "      <th>celular</th>\n",
       "      <th>pc</th>\n",
       "      <th>internet</th>\n",
       "      <th>factor</th>\n",
       "    </tr>\n",
       "  </thead>\n",
       "  <tbody>\n",
       "    <tr>\n",
       "      <th>0</th>\n",
       "      <td>Medio Alto</td>\n",
       "      <td>174</td>\n",
       "      <td>174</td>\n",
       "      <td>174</td>\n",
       "      <td>174</td>\n",
       "    </tr>\n",
       "    <tr>\n",
       "      <th>1</th>\n",
       "      <td>Medio Alto</td>\n",
       "      <td>174</td>\n",
       "      <td>174</td>\n",
       "      <td>174</td>\n",
       "      <td>174</td>\n",
       "    </tr>\n",
       "    <tr>\n",
       "      <th>2</th>\n",
       "      <td>Medio Alto</td>\n",
       "      <td>174</td>\n",
       "      <td>174</td>\n",
       "      <td>174</td>\n",
       "      <td>174</td>\n",
       "    </tr>\n",
       "    <tr>\n",
       "      <th>3</th>\n",
       "      <td>Medio Alto</td>\n",
       "      <td>174</td>\n",
       "      <td>174</td>\n",
       "      <td>174</td>\n",
       "      <td>174</td>\n",
       "    </tr>\n",
       "    <tr>\n",
       "      <th>4</th>\n",
       "      <td>Medio Alto</td>\n",
       "      <td>174</td>\n",
       "      <td>174</td>\n",
       "      <td>174</td>\n",
       "      <td>174</td>\n",
       "    </tr>\n",
       "  </tbody>\n",
       "</table>\n",
       "</div>"
      ],
      "text/plain": [
       "      estrato  celular   pc  internet  factor\n",
       "0  Medio Alto      174  174       174     174\n",
       "1  Medio Alto      174  174       174     174\n",
       "2  Medio Alto      174  174       174     174\n",
       "3  Medio Alto      174  174       174     174\n",
       "4  Medio Alto      174  174       174     174"
      ]
     },
     "execution_count": 18,
     "metadata": {},
     "output_type": "execute_result"
    }
   ],
   "source": [
    "df_tic_hog[[\"celular\", \"pc\", \"internet\"]] = df_tic_hog[[\"celular\", \"pc\", \"internet\"]].mul(df_tic_hog[\"factor\"], axis=0) # multiply cases by expansion factor\n",
    "df_tic_hog.head()"
   ]
  },
  {
   "attachments": {},
   "cell_type": "markdown",
   "metadata": {},
   "source": [
    "Se agrupan a partir de estrato"
   ]
  },
  {
   "cell_type": "code",
   "execution_count": 19,
   "metadata": {},
   "outputs": [
    {
     "data": {
      "text/html": [
       "<div>\n",
       "<style scoped>\n",
       "    .dataframe tbody tr th:only-of-type {\n",
       "        vertical-align: middle;\n",
       "    }\n",
       "\n",
       "    .dataframe tbody tr th {\n",
       "        vertical-align: top;\n",
       "    }\n",
       "\n",
       "    .dataframe thead th {\n",
       "        text-align: right;\n",
       "    }\n",
       "</style>\n",
       "<table border=\"1\" class=\"dataframe\">\n",
       "  <thead>\n",
       "    <tr style=\"text-align: right;\">\n",
       "      <th></th>\n",
       "      <th>celular</th>\n",
       "      <th>pc</th>\n",
       "      <th>internet</th>\n",
       "      <th>factor</th>\n",
       "    </tr>\n",
       "    <tr>\n",
       "      <th>estrato</th>\n",
       "      <th></th>\n",
       "      <th></th>\n",
       "      <th></th>\n",
       "      <th></th>\n",
       "    </tr>\n",
       "  </thead>\n",
       "  <tbody>\n",
       "    <tr>\n",
       "      <th>Alto</th>\n",
       "      <td>3630613</td>\n",
       "      <td>2811389</td>\n",
       "      <td>3387102</td>\n",
       "      <td>3678284</td>\n",
       "    </tr>\n",
       "    <tr>\n",
       "      <th>Bajo</th>\n",
       "      <td>5878340</td>\n",
       "      <td>940156</td>\n",
       "      <td>2370585</td>\n",
       "      <td>6966956</td>\n",
       "    </tr>\n",
       "    <tr>\n",
       "      <th>Medio Alto</th>\n",
       "      <td>7543808</td>\n",
       "      <td>4489643</td>\n",
       "      <td>6504759</td>\n",
       "      <td>7784565</td>\n",
       "    </tr>\n",
       "    <tr>\n",
       "      <th>Medio Bajo</th>\n",
       "      <td>17181273</td>\n",
       "      <td>6593355</td>\n",
       "      <td>12065467</td>\n",
       "      <td>18186496</td>\n",
       "    </tr>\n",
       "  </tbody>\n",
       "</table>\n",
       "</div>"
      ],
      "text/plain": [
       "             celular       pc  internet    factor\n",
       "estrato                                          \n",
       "Alto         3630613  2811389   3387102   3678284\n",
       "Bajo         5878340   940156   2370585   6966956\n",
       "Medio Alto   7543808  4489643   6504759   7784565\n",
       "Medio Bajo  17181273  6593355  12065467  18186496"
      ]
     },
     "execution_count": 19,
     "metadata": {},
     "output_type": "execute_result"
    }
   ],
   "source": [
    "df_tic_hog.groupby(\"estrato\").sum()"
   ]
  },
  {
   "attachments": {},
   "cell_type": "markdown",
   "metadata": {},
   "source": [
    "Vista de los totales por campo"
   ]
  },
  {
   "cell_type": "code",
   "execution_count": 20,
   "metadata": {},
   "outputs": [
    {
     "data": {
      "text/plain": [
       "estrato     Medio AltoMedio AltoMedio AltoMedio AltoMedio ...\n",
       "celular                                              34234034\n",
       "pc                                                   14834543\n",
       "internet                                             24327913\n",
       "factor                                               36616301\n",
       "dtype: object"
      ]
     },
     "execution_count": 20,
     "metadata": {},
     "output_type": "execute_result"
    }
   ],
   "source": [
    "df_tic_hog.sum()"
   ]
  },
  {
   "attachments": {},
   "cell_type": "markdown",
   "metadata": {},
   "source": [
    "Se ordenan para una mejor visualización"
   ]
  },
  {
   "cell_type": "code",
   "execution_count": 21,
   "metadata": {},
   "outputs": [
    {
     "data": {
      "text/html": [
       "<div>\n",
       "<style scoped>\n",
       "    .dataframe tbody tr th:only-of-type {\n",
       "        vertical-align: middle;\n",
       "    }\n",
       "\n",
       "    .dataframe tbody tr th {\n",
       "        vertical-align: top;\n",
       "    }\n",
       "\n",
       "    .dataframe thead th {\n",
       "        text-align: right;\n",
       "    }\n",
       "</style>\n",
       "<table border=\"1\" class=\"dataframe\">\n",
       "  <thead>\n",
       "    <tr style=\"text-align: right;\">\n",
       "      <th></th>\n",
       "      <th>Celular</th>\n",
       "      <th>Computadora</th>\n",
       "      <th>Internet</th>\n",
       "      <th>Total</th>\n",
       "    </tr>\n",
       "    <tr>\n",
       "      <th>estrato</th>\n",
       "      <th></th>\n",
       "      <th></th>\n",
       "      <th></th>\n",
       "      <th></th>\n",
       "    </tr>\n",
       "  </thead>\n",
       "  <tbody>\n",
       "    <tr>\n",
       "      <th>Bajo</th>\n",
       "      <td>5878340</td>\n",
       "      <td>940156</td>\n",
       "      <td>2370585</td>\n",
       "      <td>6966956</td>\n",
       "    </tr>\n",
       "    <tr>\n",
       "      <th>Medio Bajo</th>\n",
       "      <td>17181273</td>\n",
       "      <td>6593355</td>\n",
       "      <td>12065467</td>\n",
       "      <td>18186496</td>\n",
       "    </tr>\n",
       "    <tr>\n",
       "      <th>Medio Alto</th>\n",
       "      <td>7543808</td>\n",
       "      <td>4489643</td>\n",
       "      <td>6504759</td>\n",
       "      <td>7784565</td>\n",
       "    </tr>\n",
       "    <tr>\n",
       "      <th>Alto</th>\n",
       "      <td>3630613</td>\n",
       "      <td>2811389</td>\n",
       "      <td>3387102</td>\n",
       "      <td>3678284</td>\n",
       "    </tr>\n",
       "  </tbody>\n",
       "</table>\n",
       "</div>"
      ],
      "text/plain": [
       "             Celular  Computadora  Internet     Total\n",
       "estrato                                              \n",
       "Bajo         5878340       940156   2370585   6966956\n",
       "Medio Bajo  17181273      6593355  12065467  18186496\n",
       "Medio Alto   7543808      4489643   6504759   7784565\n",
       "Alto         3630613      2811389   3387102   3678284"
      ]
     },
     "execution_count": 21,
     "metadata": {},
     "output_type": "execute_result"
    }
   ],
   "source": [
    "categoria_ord = {'Bajo': 1, 'Medio Bajo': 2, 'Medio Alto': 3, 'Alto': 4} #Dictionary order\n",
    "df_tic_hog_tot = df_tic_hog.groupby(\"estrato\").sum() #new variable of grouping dataframe\n",
    "df_tic_hog_tot = df_tic_hog_tot.sort_index(key=lambda x: x.map(categoria_ord)) # order the table  \n",
    "df_tic_hog_tot = df_tic_hog_tot.rename(columns={\"celular\" : \"Celular\", \"pc\" : \"Computadora\", \"internet\" : \"Internet\", \"factor\" : \"Total\"}) # rename total household\n",
    "df_tic_hog_tot"
   ]
  },
  {
   "attachments": {},
   "cell_type": "markdown",
   "metadata": {},
   "source": [
    "Elaborando porcentajes respecto al total"
   ]
  },
  {
   "cell_type": "code",
   "execution_count": 22,
   "metadata": {},
   "outputs": [
    {
     "data": {
      "text/html": [
       "<div>\n",
       "<style scoped>\n",
       "    .dataframe tbody tr th:only-of-type {\n",
       "        vertical-align: middle;\n",
       "    }\n",
       "\n",
       "    .dataframe tbody tr th {\n",
       "        vertical-align: top;\n",
       "    }\n",
       "\n",
       "    .dataframe thead th {\n",
       "        text-align: right;\n",
       "    }\n",
       "</style>\n",
       "<table border=\"1\" class=\"dataframe\">\n",
       "  <thead>\n",
       "    <tr style=\"text-align: right;\">\n",
       "      <th></th>\n",
       "      <th>Celular</th>\n",
       "      <th>Computadora</th>\n",
       "      <th>Internet</th>\n",
       "      <th>Total</th>\n",
       "    </tr>\n",
       "    <tr>\n",
       "      <th>estrato</th>\n",
       "      <th></th>\n",
       "      <th></th>\n",
       "      <th></th>\n",
       "      <th></th>\n",
       "    </tr>\n",
       "  </thead>\n",
       "  <tbody>\n",
       "    <tr>\n",
       "      <th>Bajo</th>\n",
       "      <td>84.37</td>\n",
       "      <td>13.49</td>\n",
       "      <td>34.03</td>\n",
       "      <td>100.0</td>\n",
       "    </tr>\n",
       "    <tr>\n",
       "      <th>Medio Bajo</th>\n",
       "      <td>94.47</td>\n",
       "      <td>36.25</td>\n",
       "      <td>66.34</td>\n",
       "      <td>100.0</td>\n",
       "    </tr>\n",
       "    <tr>\n",
       "      <th>Medio Alto</th>\n",
       "      <td>96.91</td>\n",
       "      <td>57.67</td>\n",
       "      <td>83.56</td>\n",
       "      <td>100.0</td>\n",
       "    </tr>\n",
       "    <tr>\n",
       "      <th>Alto</th>\n",
       "      <td>98.70</td>\n",
       "      <td>76.43</td>\n",
       "      <td>92.08</td>\n",
       "      <td>100.0</td>\n",
       "    </tr>\n",
       "  </tbody>\n",
       "</table>\n",
       "</div>"
      ],
      "text/plain": [
       "            Celular  Computadora  Internet  Total\n",
       "estrato                                          \n",
       "Bajo          84.37        13.49     34.03  100.0\n",
       "Medio Bajo    94.47        36.25     66.34  100.0\n",
       "Medio Alto    96.91        57.67     83.56  100.0\n",
       "Alto          98.70        76.43     92.08  100.0"
      ]
     },
     "execution_count": 22,
     "metadata": {},
     "output_type": "execute_result"
    }
   ],
   "source": [
    "df_tics_hog = df_tic_hog_tot.copy()\n",
    "df_tics_hog[[\"Celular\", \"Computadora\", \"Internet\", \"Total\"]] = df_tics_hog[[\"Celular\", \"Computadora\", \"Internet\", \"Total\"]].apply(lambda x: (x / df_tics_hog[\"Total\"]) * 100).round(2)\n",
    "df_tics_hog"
   ]
  },
  {
   "attachments": {},
   "cell_type": "markdown",
   "metadata": {},
   "source": [
    "Importar librerías"
   ]
  },
  {
   "cell_type": "code",
   "execution_count": 23,
   "metadata": {},
   "outputs": [],
   "source": [
    "%matplotlib inline\n",
    "import matplotlib as mpl\n",
    "import matplotlib.pyplot as plt \n",
    "mpl.style.use('ggplot') \n",
    "import numpy as np \n",
    "import seaborn as sns"
   ]
  },
  {
   "attachments": {},
   "cell_type": "markdown",
   "metadata": {},
   "source": [
    "Gráfico de barras con valores absolutos"
   ]
  },
  {
   "cell_type": "code",
   "execution_count": 24,
   "metadata": {},
   "outputs": [
    {
     "data": {
      "image/png": "[encoded data removed]",
      "text/plain": [
       "<Figure size 800x600 with 1 Axes>"
      ]
     },
     "metadata": {},
     "output_type": "display_data"
    }
   ],
   "source": [
    "df_tic_hog_tot.plot(kind=\"bar\",\n",
    "                    alpha=0.65,\n",
    "                    figsize=(8,6))\n",
    "plt.title(\"Valores absolutos de hogares con acceso a TIC's por estrato socioecónomico\")\n",
    "plt.ylabel(\"Número de hogares\")\n",
    "plt.xlabel(\"Estrato socioeconómico\")\n",
    "plt.show()"
   ]
  },
  {
   "cell_type": "code",
   "execution_count": 25,
   "metadata": {},
   "outputs": [
    {
     "data": {
      "image/png": "[encoded data removed]",
      "text/plain": [
       "<Figure size 1000x800 with 1 Axes>"
      ]
     },
     "metadata": {},
     "output_type": "display_data"
    }
   ],
   "source": [
    "df_tics_hog.plot(kind=\"bar\",\n",
    "                    alpha=0.65,\n",
    "                    figsize=(10,8))\n",
    "plt.title(\"Porcentaje de hogares con acceso a TIC's por estrato socioecónomico\")\n",
    "plt.ylabel(\"Porcentaje\")\n",
    "plt.xlabel(\"Estrato socioeconómico\")\n",
    "plt.show()"
   ]
  },
  {
   "cell_type": "code",
   "execution_count": 26,
   "metadata": {},
   "outputs": [
    {
     "data": {
      "image/png": "[encoded data removed]",
      "text/plain": [
       "<Figure size 1200x700 with 1 Axes>"
      ]
     },
     "metadata": {},
     "output_type": "display_data"
    }
   ],
   "source": [
    "df_tics = df_tics_hog.drop(\"Total\", axis=1)\n",
    "\n",
    "df_tics.plot(kind=\"bar\",\n",
    "             alpha=0.65,\n",
    "             figsize=(12,7))\n",
    "plt.title(\"Porcentaje de hogares con acceso a TIC's por estrato socioecónomico\")\n",
    "plt.ylabel(\"Porcentaje\")\n",
    "plt.xlabel(\"Estrato socioeconómico\")\n",
    "plt.show()"
   ]
  },
  {
   "cell_type": "code",
   "execution_count": 30,
   "metadata": {},
   "outputs": [
    {
     "data": {
      "image/png": "[encoded data removed]",
      "text/plain": [
       "<Figure size 1300x1100 with 1 Axes>"
      ]
     },
     "metadata": {},
     "output_type": "display_data"
    }
   ],
   "source": [
    "df_tics_sns = df_tics.copy()\n",
    "df_tics_sns = pd.melt(df_tics_sns.reset_index(), id_vars=['estrato'], value_vars=['Celular', 'Computadora', 'Internet'], var_name='TIC', value_name='Porcentaje')\n",
    "plt.figure(figsize =(13, 11))\n",
    "sns.set(font_scale=1.2)\n",
    "colors = ['#e17055', '#00cec9', '#0984e3'] # bar colors\n",
    "colors2 = ['#e17055','#e17055','#e17055','#e17055', '#00cec9', '#00cec9','#00cec9','#00cec9','#0984e3','#0984e3','#0984e3','#0984e3'] #edge colors bar\n",
    "sns.set_style(\"darkgrid\", {\"axes.facecolor\": \"#2f3640\", # color plotting area background\n",
    "                           'axes.edgecolor': 'white', # color edge plotting area\n",
    "                           'axes.labelcolor': 'white', # color text axes\n",
    "                           'figure.facecolor': '#17202A', # background color of the figure area\n",
    "                           'grid.color': 'white', \n",
    "                           'xtick.color' : 'white',\n",
    "                           'text.color' : 'white',\n",
    "                           'xtick.color' : 'white',\n",
    "                           'ytick.color' : 'white'})\n",
    "ax = sns.barplot(data=df_tics_sns, x='estrato', y='Porcentaje', hue='TIC', palette=colors, alpha=0.75)\n",
    "\n",
    "for i, patch in enumerate(ax.patches):\n",
    "    patch.set_edgecolor(colors2[i % len(colors2)])\n",
    "    patch.set_linewidth(2.8)\n",
    "\n",
    "for i, patch in enumerate(ax.patches):\n",
    "    patch.set_edgecolor(colors2[i % len(colors2)])\n",
    "    patch.set_linewidth(2.8)\n",
    "    ax.annotate(f\"{patch.get_height():.2f}%\", \n",
    "                xy=(patch.get_x() + patch.get_width() / 2, patch.get_height()), \n",
    "                xytext=(0, 5), \n",
    "                textcoords='offset points', \n",
    "                ha='center', \n",
    "                va='bottom', \n",
    "                fontsize=13,\n",
    "                color='white',\n",
    "                label=\"Porcentaje\")\n",
    "\n",
    "ax.set_xlabel(\"Estrato Socioeconómico\", fontsize=18, labelpad=10)\n",
    "ax.set_ylabel(\"Porcentaje de hogares\", fontsize=18, labelpad=10)\n",
    "ax.set_title(\"Porcentaje de hogares con acceso a TIC's, por Estrato Socioecónomico en México\", fontsize=22, pad=30)\n",
    "plt.figtext(0.32, -.022, \"Fuente: INEGI. Encuesta Nacional sobre Disponibilidad y Uso\\n             de Tecnologías de la Información en los Hogares 2021\",\n",
    "            ha=\"center\", fontsize=16)\n",
    "plt.figtext(0.8, -0.022, \"github.com/arturondg\\n       linkedin.com/in/arturondg/\",\n",
    "            ha=\"center\", fontsize=16)\n",
    "plt.show()"
   ]
  },
  {
   "cell_type": "code",
   "execution_count": null,
   "metadata": {},
   "outputs": [],
   "source": []
  }
 ],
 "metadata": {
  "kernelspec": {
   "display_name": "brechaea",
   "language": "python",
   "name": "python3"
  },
  "language_info": {
   "codemirror_mode": {
    "name": "ipython",
    "version": 3
   },
   "file_extension": ".py",
   "mimetype": "text/x-python",
   "name": "python",
   "nbconvert_exporter": "python",
   "pygments_lexer": "ipython3",
   "version": "3.9.12"
  },
  "orig_nbformat": 4,
  "vscode": {
   "interpreter": {
    "hash": "fc8e55641114c509743700a47a6d5a001f3325508b3252b023f1c383aa2c4988"
   }
  }
 },
 "nbformat": 4,
 "nbformat_minor": 2
}
