{
 "cells": [
  {
   "attachments": {},
   "cell_type": "markdown",
   "metadata": {},
   "source": [
    "# Data Wrangling - ENDUTIH\n",
    "\n",
    "En este notebook se hará una revisión de los datos del ENDUTIH (Encuesta Nacional sobre Disponibilidad y Uso de Tecnologías de la Información en los Hogares) del 2021, con el objetivo principal de un sondeo rápido, pues apenas sse trata de un análisis exploratorio y el objetivo principal de todo este proyecto es el de tener un acercamiento a estos datos. De igual forma el documento es un borrador por lo que se seguirá actualizando."
   ]
  },
  {
   "attachments": {},
   "cell_type": "markdown",
   "metadata": {},
   "source": [
    "<div class=\"alert alert-block alert-info\" style=\"margin-top: 20px\">\n",
    "    <h2>Tabla de Contenidos</h2>\n",
    "    <ul style=\"list-style-type: square; font-size: 18px; margin-left: 0;\">\n",
    "        <li><a href=\"#0\">ENDUTIH 2021</a></li>\n",
    "        <ul style=\"list-style-type: disc; font-size: 16px; margin-left: 20px;\">\n",
    "            <li><a href=\"#1\">TR_ENDUTIH_VIVIENDA_ANUAL</a></li>\n",
    "            <ul style=\"list-style-type: decimal; font-size: 16px; margin-left: 20px;\">\n",
    "                <li><a href=\"#2\">Extracción de datos</a></li>\n",
    "                <li><a href=\"#3\">Lectura de datos</a></li>\n",
    "                <li><a href=\"#4\">Datos duplicados</a></li>\n",
    "                <li><a href=\"#5\">Valores Faltantes</a></li>\n",
    "                <li><a href=\"#6\">Revisión de los tipos de datos</a></li>\n",
    "            </ul>\n",
    "        </ul>\n",
    "        <ul style=\"list-style-type: disc; font-size: 16px; margin-left: 20px;\">\n",
    "            <li><a href=\"#7\">TR_ENUDITH_RESIDENTE_ANUAL</a></li>\n",
    "            <ul style=\"list-style-type: decimal; font-size: 16px; margin-left: 20px;\">\n",
    "                <li><a href=\"#8\">Lectura de datos</a></li>\n",
    "                <li><a href=\"#9\">Datos duplicados</a></li>\n",
    "                <li><a href=\"#10\">Valores Faltantes</a></li>\n",
    "                <li><a href=\"#11\">Revisión de los tipos de datos</a></li>\n",
    "            </ul>\n",
    "        </ul>\n",
    "        <ul style=\"list-style-type: disc; font-size: 16px; margin-left: 20px;\">\n",
    "            <li><a href=\"#12\">TR_ENDUTIH_HOGAR_ANUAL </a></li>\n",
    "            <ul style=\"list-style-type: decimal; font-size: 16px; margin-left: 20px;\">\n",
    "                <li><a href=\"#13\">Lectura de datos</a></li>\n",
    "                <li><a href=\"#14\">Datos duplicados</a></li>\n",
    "                <li><a href=\"#15\">Valores Faltantes</a></li>\n",
    "                <li><a href=\"#16\">Revisión de los tipos de datos</a></li>\n",
    "            </ul>\n",
    "        </ul>\n",
    "        <ul style=\"list-style-type: disc; font-size: 16px; margin-left: 20px;\">\n",
    "            <li><a href=\"#17\">TR_ENDUTIH_USUARIO_ANUAL</a></li>\n",
    "            <ul style=\"list-style-type: decimal; font-size: 16px; margin-left: 20px;\">\n",
    "                <li><a href=\"#18\">Lectura de datos</a></li>\n",
    "                <li><a href=\"#19\">Datos duplicados</a></li>\n",
    "                <li><a href=\"#20\">Valores Faltantes</a></li>\n",
    "                <li><a href=\"#21\">Revisión de los tipos de datos</a></li>\n",
    "            </ul>\n",
    "        </ul>\n",
    "        <ul style=\"list-style-type: disc; font-size: 16px; margin-left: 20px;\">\n",
    "            <li><a href=\"#22\">TR_ENDUTIH_USUARIO_ANUAL2</a></li>\n",
    "            <ul style=\"list-style-type: decimal; font-size: 16px; margin-left: 20px;\">\n",
    "                <li><a href=\"#23\">Lectura de datos</a></li>\n",
    "                <li><a href=\"#24\">Datos duplicados</a></li>\n",
    "                <li><a href=\"#25\">Valores Faltantes</a></li>\n",
    "                <li><a href=\"#26\">Revisión de los tipos de datos</a></li>\n",
    "            </ul>\n",
    "        </ul>\n",
    "            <li><a href=\"#27\">Guardando los archivos</a></li>\n",
    "        <ul style=\"list-style-type: disc; font-size: 16px; margin-left: 20px;\">\n",
    "            <li><a href=\"#28\">Transformando a .CSV</a></li>\n",
    "            <li><a href=\"#29\">Transformando a SQL</a></li>\n",
    "        </ul>\n",
    "        </ul>\n",
    "    </ul>\n",
    "</div>\n"
   ]
  },
  {
   "attachments": {},
   "cell_type": "markdown",
   "metadata": {},
   "source": [
    "## ENDUTIH 2021 \n",
    "<a id=\"0\"></a>\n",
    "\n",
    "Esta base de datos consta de 5 tablas diferentes relacionadas entre sí:\n",
    "\n",
    "- **TR_ENDUTIH_VIVIENDA_ANUAL**  \n",
    "Da a conocer los servicios básicos con los que cuenta la vivienda seleccionada con el fin de satisfacer las necesidades básicas de los integrantes del hogar, el número de residentes en la vivienda seleccionada y los hogares que hay en su interior.\n",
    "\n",
    "- **TR_ENDUTIH_RESIDENTE_ANUAL**  \n",
    "Identifica a quienes integran el hogar y conocen sus características sociodemográficas básicas, como parentesco, sexo, edad, escolaridad, condición de actividad, entre otras; algunas preguntas se aplican para cada persona y otras, solo para determinado grupo de edad.\n",
    "\n",
    "- **TR_ENDUTIH_HOGAR_ANUAL**    \n",
    "Identifica la condición de disponibilidad en el hogar de bienes y servicios de información y comunicación, tales como equipos de televisión, computadora, Internet, servicios de telefonía, entre otros y registrar la agregación de los servicios de TIC disponibles: televisión de paga, telefonía fija e Internet y la estimación del esfuerzo económico realizado en el hogar por concepto de estos servicios, así como la percepción sobre su calidad.\n",
    "\n",
    "- **TR_ENDUTIH_USUARIO_ANUAL**  \n",
    "Da a conocer la condición y las características del uso de la computadora, las características de acceso a Internet, dentro o fuera del hogar, a partir de la experiencia de la persona elegida incluso el acceso a Internet por medio de este dispositivo.\n",
    "\n",
    "- **TR_ENDUTIH_USUARIO2_ANUAL**  \n",
    "Da a conocer la condición y las características de uso de telefonía celular móvil, Radio y TV abierta\n"
   ]
  },
  {
   "attachments": {},
   "cell_type": "markdown",
   "metadata": {},
   "source": [
    "- ### TR_ENDUTIH_VIVIENDA_ANUAL\n",
    "<a id=\"1\"></a>\n",
    "\n",
    "#### 1. Extracción de datos \n",
    "<a id=\"2\"></a>\n",
    "\n",
    "Los datos fueron obtenidos directamente de la página  del INEGI en la opción de datos abiertos, los cuales venían empaquetados en un archivo .zip.  \n",
    "Por lo que se optó por bajar, descomprimir y guardar estos mismos en la carpeta de \"data\".  \n",
    "Enlace: https://www.inegi.org.mx/programas/dutih/2021/#Datos_abiertos"
   ]
  },
  {
   "attachments": {},
   "cell_type": "markdown",
   "metadata": {},
   "source": [
    "#### 2. Lectura de  datos \n",
    "<a id=\"3\"></a>\n",
    "\n",
    "Se importa pandas para la lectura, limpieza y transformación\n"
   ]
  },
  {
   "cell_type": "code",
   "execution_count": 1,
   "metadata": {},
   "outputs": [],
   "source": [
    "import pandas as pd #import libraries for read data"
   ]
  },
  {
   "attachments": {},
   "cell_type": "markdown",
   "metadata": {},
   "source": [
    "Se referencía la ruta de los datos y  se lee el archibo .csv"
   ]
  },
  {
   "cell_type": "code",
   "execution_count": 2,
   "metadata": {},
   "outputs": [],
   "source": [
    "path_vivienda = (\"../data/ENDUTIH 2021/tr_endutih_vivienda_anual_2021.csv\") #path\n",
    "df_vivienda = pd.read_csv(path_vivienda)"
   ]
  },
  {
   "attachments": {},
   "cell_type": "markdown",
   "metadata": {},
   "source": [
    "Se le da un pequeño vistazo, parece que se tendrán que cambiar los campos y los valores tendrán que ser reemplazados para una mejor visualización."
   ]
  },
  {
   "cell_type": "code",
   "execution_count": 3,
   "metadata": {},
   "outputs": [
    {
     "data": {
      "text/html": [
       "<div>\n",
       "<style scoped>\n",
       "    .dataframe tbody tr th:only-of-type {\n",
       "        vertical-align: middle;\n",
       "    }\n",
       "\n",
       "    .dataframe tbody tr th {\n",
       "        vertical-align: top;\n",
       "    }\n",
       "\n",
       "    .dataframe thead th {\n",
       "        text-align: right;\n",
       "    }\n",
       "</style>\n",
       "<table border=\"1\" class=\"dataframe\">\n",
       "  <thead>\n",
       "    <tr style=\"text-align: right;\">\n",
       "      <th></th>\n",
       "      <th>UPM</th>\n",
       "      <th>VIV_SEL</th>\n",
       "      <th>P1_1</th>\n",
       "      <th>P1_2</th>\n",
       "      <th>P1_3</th>\n",
       "      <th>P1_4</th>\n",
       "      <th>P1_5_1</th>\n",
       "      <th>P1_5_2</th>\n",
       "      <th>P1_5_3</th>\n",
       "      <th>P2_1</th>\n",
       "      <th>P2_2</th>\n",
       "      <th>P2_3</th>\n",
       "      <th>FAC_VIV</th>\n",
       "      <th>UPM_DIS</th>\n",
       "      <th>EST_DIS</th>\n",
       "      <th>DOMINIO</th>\n",
       "      <th>TLOC</th>\n",
       "      <th>ESTRATO</th>\n",
       "      <th>ENT</th>\n",
       "    </tr>\n",
       "  </thead>\n",
       "  <tbody>\n",
       "    <tr>\n",
       "      <th>0</th>\n",
       "      <td>100023</td>\n",
       "      <td>1</td>\n",
       "      <td>3</td>\n",
       "      <td>1</td>\n",
       "      <td>1</td>\n",
       "      <td>1</td>\n",
       "      <td>1</td>\n",
       "      <td>1</td>\n",
       "      <td>1</td>\n",
       "      <td>1</td>\n",
       "      <td>1</td>\n",
       "      <td>NaN</td>\n",
       "      <td>174</td>\n",
       "      <td>1</td>\n",
       "      <td>7</td>\n",
       "      <td>U</td>\n",
       "      <td>1</td>\n",
       "      <td>3</td>\n",
       "      <td>1</td>\n",
       "    </tr>\n",
       "    <tr>\n",
       "      <th>1</th>\n",
       "      <td>100023</td>\n",
       "      <td>2</td>\n",
       "      <td>3</td>\n",
       "      <td>1</td>\n",
       "      <td>1</td>\n",
       "      <td>1</td>\n",
       "      <td>1</td>\n",
       "      <td>1</td>\n",
       "      <td>1</td>\n",
       "      <td>6</td>\n",
       "      <td>1</td>\n",
       "      <td>NaN</td>\n",
       "      <td>174</td>\n",
       "      <td>1</td>\n",
       "      <td>7</td>\n",
       "      <td>U</td>\n",
       "      <td>1</td>\n",
       "      <td>3</td>\n",
       "      <td>1</td>\n",
       "    </tr>\n",
       "    <tr>\n",
       "      <th>2</th>\n",
       "      <td>100023</td>\n",
       "      <td>3</td>\n",
       "      <td>3</td>\n",
       "      <td>1</td>\n",
       "      <td>1</td>\n",
       "      <td>1</td>\n",
       "      <td>1</td>\n",
       "      <td>1</td>\n",
       "      <td>1</td>\n",
       "      <td>2</td>\n",
       "      <td>1</td>\n",
       "      <td>NaN</td>\n",
       "      <td>174</td>\n",
       "      <td>1</td>\n",
       "      <td>7</td>\n",
       "      <td>U</td>\n",
       "      <td>1</td>\n",
       "      <td>3</td>\n",
       "      <td>1</td>\n",
       "    </tr>\n",
       "    <tr>\n",
       "      <th>3</th>\n",
       "      <td>100023</td>\n",
       "      <td>4</td>\n",
       "      <td>3</td>\n",
       "      <td>1</td>\n",
       "      <td>1</td>\n",
       "      <td>1</td>\n",
       "      <td>1</td>\n",
       "      <td>1</td>\n",
       "      <td>2</td>\n",
       "      <td>9</td>\n",
       "      <td>1</td>\n",
       "      <td>NaN</td>\n",
       "      <td>174</td>\n",
       "      <td>1</td>\n",
       "      <td>7</td>\n",
       "      <td>U</td>\n",
       "      <td>1</td>\n",
       "      <td>3</td>\n",
       "      <td>1</td>\n",
       "    </tr>\n",
       "    <tr>\n",
       "      <th>4</th>\n",
       "      <td>100023</td>\n",
       "      <td>5</td>\n",
       "      <td>3</td>\n",
       "      <td>1</td>\n",
       "      <td>1</td>\n",
       "      <td>1</td>\n",
       "      <td>1</td>\n",
       "      <td>1</td>\n",
       "      <td>2</td>\n",
       "      <td>3</td>\n",
       "      <td>1</td>\n",
       "      <td>NaN</td>\n",
       "      <td>174</td>\n",
       "      <td>1</td>\n",
       "      <td>7</td>\n",
       "      <td>U</td>\n",
       "      <td>1</td>\n",
       "      <td>3</td>\n",
       "      <td>1</td>\n",
       "    </tr>\n",
       "  </tbody>\n",
       "</table>\n",
       "</div>"
      ],
      "text/plain": [
       "      UPM  VIV_SEL  P1_1  P1_2  P1_3  P1_4  P1_5_1  P1_5_2  P1_5_3  P2_1  \\\n",
       "0  100023        1     3     1     1     1       1       1       1     1   \n",
       "1  100023        2     3     1     1     1       1       1       1     6   \n",
       "2  100023        3     3     1     1     1       1       1       1     2   \n",
       "3  100023        4     3     1     1     1       1       1       2     9   \n",
       "4  100023        5     3     1     1     1       1       1       2     3   \n",
       "\n",
       "   P2_2  P2_3  FAC_VIV  UPM_DIS  EST_DIS DOMINIO  TLOC  ESTRATO  ENT  \n",
       "0     1   NaN      174        1        7       U     1        3    1  \n",
       "1     1   NaN      174        1        7       U     1        3    1  \n",
       "2     1   NaN      174        1        7       U     1        3    1  \n",
       "3     1   NaN      174        1        7       U     1        3    1  \n",
       "4     1   NaN      174        1        7       U     1        3    1  "
      ]
     },
     "execution_count": 3,
     "metadata": {},
     "output_type": "execute_result"
    }
   ],
   "source": [
    "df_vivienda.head() #Overview"
   ]
  },
  {
   "cell_type": "code",
   "execution_count": 4,
   "metadata": {},
   "outputs": [
    {
     "data": {
      "text/plain": [
       "(58281, 19)"
      ]
     },
     "execution_count": 4,
     "metadata": {},
     "output_type": "execute_result"
    }
   ],
   "source": [
    "df_vivienda.shape #count of raws and columns"
   ]
  },
  {
   "attachments": {},
   "cell_type": "markdown",
   "metadata": {},
   "source": [
    "Vemos un conteo de los datos, con 19 campos y 58,281 casos"
   ]
  },
  {
   "attachments": {},
   "cell_type": "markdown",
   "metadata": {},
   "source": [
    "#### 3. Datos duplicados \n",
    "<a id=\"4\"></a>\n",
    "\n",
    "Se buscaran si hay datos duplicados"
   ]
  },
  {
   "cell_type": "code",
   "execution_count": 5,
   "metadata": {},
   "outputs": [
    {
     "data": {
      "text/plain": [
       "False    58281\n",
       "dtype: int64"
      ]
     },
     "execution_count": 5,
     "metadata": {},
     "output_type": "execute_result"
    }
   ],
   "source": [
    "df_vivienda.duplicated().value_counts() #Finding duplicates"
   ]
  },
  {
   "attachments": {},
   "cell_type": "markdown",
   "metadata": {},
   "source": [
    "\"False\" nos indica que no hay ningún caso duplicado en esta tabla"
   ]
  },
  {
   "attachments": {},
   "cell_type": "markdown",
   "metadata": {},
   "source": [
    "#### 4. Valores faltantes \n",
    "<a id=\"5\"></a>\n",
    "\n",
    "Se buscarán valores faltantes, pero no parecere muy necesario para esta tabla o alguna de las demás"
   ]
  },
  {
   "cell_type": "code",
   "execution_count": 6,
   "metadata": {},
   "outputs": [
    {
     "data": {
      "text/html": [
       "<div>\n",
       "<style scoped>\n",
       "    .dataframe tbody tr th:only-of-type {\n",
       "        vertical-align: middle;\n",
       "    }\n",
       "\n",
       "    .dataframe tbody tr th {\n",
       "        vertical-align: top;\n",
       "    }\n",
       "\n",
       "    .dataframe thead th {\n",
       "        text-align: right;\n",
       "    }\n",
       "</style>\n",
       "<table border=\"1\" class=\"dataframe\">\n",
       "  <thead>\n",
       "    <tr style=\"text-align: right;\">\n",
       "      <th></th>\n",
       "      <th>UPM</th>\n",
       "      <th>VIV_SEL</th>\n",
       "      <th>P1_1</th>\n",
       "      <th>P1_2</th>\n",
       "      <th>P1_3</th>\n",
       "      <th>P1_4</th>\n",
       "      <th>P1_5_1</th>\n",
       "      <th>P1_5_2</th>\n",
       "      <th>P1_5_3</th>\n",
       "      <th>P2_1</th>\n",
       "      <th>P2_2</th>\n",
       "      <th>P2_3</th>\n",
       "      <th>FAC_VIV</th>\n",
       "      <th>UPM_DIS</th>\n",
       "      <th>EST_DIS</th>\n",
       "      <th>DOMINIO</th>\n",
       "      <th>TLOC</th>\n",
       "      <th>ESTRATO</th>\n",
       "      <th>ENT</th>\n",
       "    </tr>\n",
       "  </thead>\n",
       "  <tbody>\n",
       "    <tr>\n",
       "      <th>0</th>\n",
       "      <td>False</td>\n",
       "      <td>False</td>\n",
       "      <td>False</td>\n",
       "      <td>False</td>\n",
       "      <td>False</td>\n",
       "      <td>False</td>\n",
       "      <td>False</td>\n",
       "      <td>False</td>\n",
       "      <td>False</td>\n",
       "      <td>False</td>\n",
       "      <td>False</td>\n",
       "      <td>True</td>\n",
       "      <td>False</td>\n",
       "      <td>False</td>\n",
       "      <td>False</td>\n",
       "      <td>False</td>\n",
       "      <td>False</td>\n",
       "      <td>False</td>\n",
       "      <td>False</td>\n",
       "    </tr>\n",
       "    <tr>\n",
       "      <th>1</th>\n",
       "      <td>False</td>\n",
       "      <td>False</td>\n",
       "      <td>False</td>\n",
       "      <td>False</td>\n",
       "      <td>False</td>\n",
       "      <td>False</td>\n",
       "      <td>False</td>\n",
       "      <td>False</td>\n",
       "      <td>False</td>\n",
       "      <td>False</td>\n",
       "      <td>False</td>\n",
       "      <td>True</td>\n",
       "      <td>False</td>\n",
       "      <td>False</td>\n",
       "      <td>False</td>\n",
       "      <td>False</td>\n",
       "      <td>False</td>\n",
       "      <td>False</td>\n",
       "      <td>False</td>\n",
       "    </tr>\n",
       "    <tr>\n",
       "      <th>2</th>\n",
       "      <td>False</td>\n",
       "      <td>False</td>\n",
       "      <td>False</td>\n",
       "      <td>False</td>\n",
       "      <td>False</td>\n",
       "      <td>False</td>\n",
       "      <td>False</td>\n",
       "      <td>False</td>\n",
       "      <td>False</td>\n",
       "      <td>False</td>\n",
       "      <td>False</td>\n",
       "      <td>True</td>\n",
       "      <td>False</td>\n",
       "      <td>False</td>\n",
       "      <td>False</td>\n",
       "      <td>False</td>\n",
       "      <td>False</td>\n",
       "      <td>False</td>\n",
       "      <td>False</td>\n",
       "    </tr>\n",
       "    <tr>\n",
       "      <th>3</th>\n",
       "      <td>False</td>\n",
       "      <td>False</td>\n",
       "      <td>False</td>\n",
       "      <td>False</td>\n",
       "      <td>False</td>\n",
       "      <td>False</td>\n",
       "      <td>False</td>\n",
       "      <td>False</td>\n",
       "      <td>False</td>\n",
       "      <td>False</td>\n",
       "      <td>False</td>\n",
       "      <td>True</td>\n",
       "      <td>False</td>\n",
       "      <td>False</td>\n",
       "      <td>False</td>\n",
       "      <td>False</td>\n",
       "      <td>False</td>\n",
       "      <td>False</td>\n",
       "      <td>False</td>\n",
       "    </tr>\n",
       "    <tr>\n",
       "      <th>4</th>\n",
       "      <td>False</td>\n",
       "      <td>False</td>\n",
       "      <td>False</td>\n",
       "      <td>False</td>\n",
       "      <td>False</td>\n",
       "      <td>False</td>\n",
       "      <td>False</td>\n",
       "      <td>False</td>\n",
       "      <td>False</td>\n",
       "      <td>False</td>\n",
       "      <td>False</td>\n",
       "      <td>True</td>\n",
       "      <td>False</td>\n",
       "      <td>False</td>\n",
       "      <td>False</td>\n",
       "      <td>False</td>\n",
       "      <td>False</td>\n",
       "      <td>False</td>\n",
       "      <td>False</td>\n",
       "    </tr>\n",
       "  </tbody>\n",
       "</table>\n",
       "</div>"
      ],
      "text/plain": [
       "     UPM  VIV_SEL   P1_1   P1_2   P1_3   P1_4  P1_5_1  P1_5_2  P1_5_3   P2_1  \\\n",
       "0  False    False  False  False  False  False   False   False   False  False   \n",
       "1  False    False  False  False  False  False   False   False   False  False   \n",
       "2  False    False  False  False  False  False   False   False   False  False   \n",
       "3  False    False  False  False  False  False   False   False   False  False   \n",
       "4  False    False  False  False  False  False   False   False   False  False   \n",
       "\n",
       "    P2_2  P2_3  FAC_VIV  UPM_DIS  EST_DIS  DOMINIO   TLOC  ESTRATO    ENT  \n",
       "0  False  True    False    False    False    False  False    False  False  \n",
       "1  False  True    False    False    False    False  False    False  False  \n",
       "2  False  True    False    False    False    False  False    False  False  \n",
       "3  False  True    False    False    False    False  False    False  False  \n",
       "4  False  True    False    False    False    False  False    False  False  "
      ]
     },
     "execution_count": 6,
     "metadata": {},
     "output_type": "execute_result"
    }
   ],
   "source": [
    "missing_data_viv = df_vivienda.isnull() \n",
    "missing_data_viv.head()"
   ]
  },
  {
   "attachments": {},
   "cell_type": "markdown",
   "metadata": {},
   "source": [
    "Contando los valores faltantes"
   ]
  },
  {
   "cell_type": "code",
   "execution_count": 7,
   "metadata": {},
   "outputs": [
    {
     "data": {
      "text/plain": [
       "57432"
      ]
     },
     "execution_count": 7,
     "metadata": {},
     "output_type": "execute_result"
    }
   ],
   "source": [
    "missing_data_viv.sum().sum()"
   ]
  },
  {
   "attachments": {},
   "cell_type": "markdown",
   "metadata": {},
   "source": [
    "Es probable que la fila P2_3 contenga todos los valores fantantes, así que se revisará con cada una de las columnas, cual es la columna con valor faltante"
   ]
  },
  {
   "cell_type": "code",
   "execution_count": 8,
   "metadata": {},
   "outputs": [
    {
     "name": "stdout",
     "output_type": "stream",
     "text": [
      "UPM\n",
      "False    58281\n",
      "Name: UPM, dtype: int64\n",
      "\n",
      "VIV_SEL\n",
      "False    58281\n",
      "Name: VIV_SEL, dtype: int64\n",
      "\n",
      "P1_1\n",
      "False    58281\n",
      "Name: P1_1, dtype: int64\n",
      "\n",
      "P1_2\n",
      "False    58281\n",
      "Name: P1_2, dtype: int64\n",
      "\n",
      "P1_3\n",
      "False    58281\n",
      "Name: P1_3, dtype: int64\n",
      "\n",
      "P1_4\n",
      "False    58281\n",
      "Name: P1_4, dtype: int64\n",
      "\n",
      "P1_5_1\n",
      "False    58281\n",
      "Name: P1_5_1, dtype: int64\n",
      "\n",
      "P1_5_2\n",
      "False    58281\n",
      "Name: P1_5_2, dtype: int64\n",
      "\n",
      "P1_5_3\n",
      "False    58281\n",
      "Name: P1_5_3, dtype: int64\n",
      "\n",
      "P2_1\n",
      "False    58281\n",
      "Name: P2_1, dtype: int64\n",
      "\n",
      "P2_2\n",
      "False    58281\n",
      "Name: P2_2, dtype: int64\n",
      "\n",
      "P2_3\n",
      "True     57432\n",
      "False      849\n",
      "Name: P2_3, dtype: int64\n",
      "\n",
      "FAC_VIV\n",
      "False    58281\n",
      "Name: FAC_VIV, dtype: int64\n",
      "\n",
      "UPM_DIS\n",
      "False    58281\n",
      "Name: UPM_DIS, dtype: int64\n",
      "\n",
      "EST_DIS\n",
      "False    58281\n",
      "Name: EST_DIS, dtype: int64\n",
      "\n",
      "DOMINIO\n",
      "False    58281\n",
      "Name: DOMINIO, dtype: int64\n",
      "\n",
      "TLOC\n",
      "False    58281\n",
      "Name: TLOC, dtype: int64\n",
      "\n",
      "ESTRATO\n",
      "False    58281\n",
      "Name: ESTRATO, dtype: int64\n",
      "\n",
      "ENT\n",
      "False    58281\n",
      "Name: ENT, dtype: int64\n",
      "\n"
     ]
    }
   ],
   "source": [
    "for column in missing_data_viv.columns.values.tolist():\n",
    "    print(column)\n",
    "    print (missing_data_viv[column].value_counts())\n",
    "    print(\"\")   "
   ]
  },
  {
   "attachments": {},
   "cell_type": "markdown",
   "metadata": {},
   "source": [
    "Esta es una forma más sencilla"
   ]
  },
  {
   "cell_type": "code",
   "execution_count": 9,
   "metadata": {},
   "outputs": [
    {
     "name": "stdout",
     "output_type": "stream",
     "text": [
      "Las columnas con valores faltantes son:  UPM        False\n",
      "VIV_SEL    False\n",
      "P1_1       False\n",
      "P1_2       False\n",
      "P1_3       False\n",
      "P1_4       False\n",
      "P1_5_1     False\n",
      "P1_5_2     False\n",
      "P1_5_3     False\n",
      "P2_1       False\n",
      "P2_2       False\n",
      "P2_3        True\n",
      "FAC_VIV    False\n",
      "UPM_DIS    False\n",
      "EST_DIS    False\n",
      "DOMINIO    False\n",
      "TLOC       False\n",
      "ESTRATO    False\n",
      "ENT        False\n",
      "dtype: bool\n"
     ]
    }
   ],
   "source": [
    "columns_ms_viv = missing_data_viv.any() #Check if any value is missing per column\n",
    "print(\"Las columnas con valores faltantes son: \", columns_ms_viv)\n",
    "  "
   ]
  },
  {
   "attachments": {},
   "cell_type": "markdown",
   "metadata": {},
   "source": [
    "Se puede ver que la única columna, en este caos P2_3 es la única que contiene valores faltantes, se puede saber si tiene \"True\". Auque si las varibles fueran muchas para andar diferenciando, podemos traer solo el nombre de las columnas a las que les hace falta algún valor"
   ]
  },
  {
   "cell_type": "code",
   "execution_count": 10,
   "metadata": {},
   "outputs": [
    {
     "name": "stdout",
     "output_type": "stream",
     "text": [
      "['P2_3']\n"
     ]
    }
   ],
   "source": [
    "columns_missing_values = columns_ms_viv[columns_ms_viv == True].index.tolist() #filter columns that have missing values and get the name of columns\n",
    "print(columns_missing_values)\n"
   ]
  },
  {
   "attachments": {},
   "cell_type": "markdown",
   "metadata": {},
   "source": [
    "Reemplazaré los datos faltantes con un valor que no intervenga en los datos registrados. "
   ]
  },
  {
   "cell_type": "code",
   "execution_count": 11,
   "metadata": {},
   "outputs": [],
   "source": [
    "df_vivienda = df_vivienda.fillna(-1)"
   ]
  },
  {
   "attachments": {},
   "cell_type": "markdown",
   "metadata": {},
   "source": [
    "Comprobando que no haya valores perdidos"
   ]
  },
  {
   "cell_type": "code",
   "execution_count": 12,
   "metadata": {},
   "outputs": [
    {
     "data": {
      "text/plain": [
       "0"
      ]
     },
     "execution_count": 12,
     "metadata": {},
     "output_type": "execute_result"
    }
   ],
   "source": [
    "missing_data_viv2 = df_vivienda.isnull() #Building another variable for missing data\n",
    "missing_data_viv2.sum().sum()"
   ]
  },
  {
   "attachments": {},
   "cell_type": "markdown",
   "metadata": {},
   "source": [
    "#### 5. Revisión de los tipos de datos \n",
    "<a id=\"6\"></a>"
   ]
  },
  {
   "attachments": {},
   "cell_type": "markdown",
   "metadata": {},
   "source": [
    "Tipos de datos de cada campo"
   ]
  },
  {
   "cell_type": "code",
   "execution_count": 13,
   "metadata": {},
   "outputs": [
    {
     "name": "stdout",
     "output_type": "stream",
     "text": [
      "UPM          int64\n",
      "VIV_SEL      int64\n",
      "P1_1         int64\n",
      "P1_2         int64\n",
      "P1_3         int64\n",
      "P1_4         int64\n",
      "P1_5_1       int64\n",
      "P1_5_2       int64\n",
      "P1_5_3       int64\n",
      "P2_1         int64\n",
      "P2_2         int64\n",
      "P2_3       float64\n",
      "FAC_VIV      int64\n",
      "UPM_DIS      int64\n",
      "EST_DIS      int64\n",
      "DOMINIO     object\n",
      "TLOC         int64\n",
      "ESTRATO      int64\n",
      "ENT          int64\n",
      "dtype: object\n"
     ]
    }
   ],
   "source": [
    "print(df_vivienda.dtypes) "
   ]
  },
  {
   "attachments": {},
   "cell_type": "markdown",
   "metadata": {},
   "source": [
    "Eligiendo una columna para revisar que tipos de datos contiene, se eligieron aquellas columnas que contienen respuestas de opción múltiple y que puedan ser clasificadas"
   ]
  },
  {
   "cell_type": "code",
   "execution_count": 14,
   "metadata": {},
   "outputs": [
    {
     "data": {
      "text/plain": [
       "2    28984\n",
       "3    27585\n",
       "1     1712\n",
       "Name: P1_1, dtype: int64"
      ]
     },
     "execution_count": 14,
     "metadata": {},
     "output_type": "execute_result"
    }
   ],
   "source": [
    "df_vivienda[\"P1_1\"].value_counts() #counts the unique values"
   ]
  },
  {
   "cell_type": "code",
   "execution_count": 15,
   "metadata": {},
   "outputs": [
    {
     "data": {
      "text/plain": [
       "U    44186\n",
       "R    14095\n",
       "Name: DOMINIO, dtype: int64"
      ]
     },
     "execution_count": 15,
     "metadata": {},
     "output_type": "execute_result"
    }
   ],
   "source": [
    "df_vivienda[\"DOMINIO\"].value_counts()"
   ]
  },
  {
   "attachments": {},
   "cell_type": "markdown",
   "metadata": {},
   "source": [
    "Contar los valores de todas las columnas con repuesta en opción múltiple"
   ]
  },
  {
   "cell_type": "code",
   "execution_count": 16,
   "metadata": {},
   "outputs": [
    {
     "name": "stdout",
     "output_type": "stream",
     "text": [
      "Columna:  P1_1\n",
      "2    28984\n",
      "3    27585\n",
      "1     1712\n",
      "Name: P1_1, dtype: int64\n",
      "Columna:  P1_2\n",
      "1    45525\n",
      "2     9985\n",
      "6     1631\n",
      "5      643\n",
      "4      345\n",
      "3      152\n",
      "Name: P1_2, dtype: int64\n",
      "Columna:  P1_3\n",
      "1    43513\n",
      "2    12570\n",
      "5     1618\n",
      "3      412\n",
      "4      168\n",
      "Name: P1_3, dtype: int64\n",
      "Columna:  P1_4\n",
      "1    57885\n",
      "2      396\n",
      "Name: P1_4, dtype: int64\n",
      "Columna:  P1_5_1\n",
      "1    52289\n",
      "2     5992\n",
      "Name: P1_5_1, dtype: int64\n",
      "Columna:  P1_5_2\n",
      "1    43538\n",
      "2    14743\n",
      "Name: P1_5_2, dtype: int64\n",
      "Columna:  P1_5_3\n",
      "2    30002\n",
      "1    28279\n",
      "Name: P1_5_3, dtype: int64\n",
      "Columna:  P2_2\n",
      "1    57432\n",
      "2      849\n",
      "Name: P2_2, dtype: int64\n"
     ]
    }
   ],
   "source": [
    "columns_viv = [2,3,4,5,6,7,8,10]\n",
    "for column in columns_viv:\n",
    "    print(\"Columna: \", df_vivienda.columns[column])\n",
    "    print(df_vivienda.iloc[:,column].value_counts())\n"
   ]
  },
  {
   "attachments": {},
   "cell_type": "markdown",
   "metadata": {},
   "source": [
    "Como se puede observar los campos están llenos de números, no están etiquetados así como sus nombres, el siguiente paso sería reemplazar los valores, pero en este momento no se hará pues sería muy infructuoso para las pocas estadísticas que se requieren sacar.\n",
    "\n",
    "Aunque así es como se podrían reemplazar, ejemplo:"
   ]
  },
  {
   "cell_type": "code",
   "execution_count": 17,
   "metadata": {},
   "outputs": [
    {
     "data": {
      "text/plain": [
       "U    44186\n",
       "R    14095\n",
       "Name: DOMINIO, dtype: int64"
      ]
     },
     "execution_count": 17,
     "metadata": {},
     "output_type": "execute_result"
    }
   ],
   "source": [
    "df_vivienda[\"DOMINIO\"].value_counts()"
   ]
  },
  {
   "cell_type": "code",
   "execution_count": 18,
   "metadata": {},
   "outputs": [
    {
     "data": {
      "text/plain": [
       "Urbano    44186\n",
       "Rural     14095\n",
       "Name: DOMINIO, dtype: int64"
      ]
     },
     "execution_count": 18,
     "metadata": {},
     "output_type": "execute_result"
    }
   ],
   "source": [
    "df_viv_dominio = df_vivienda[\"DOMINIO\"].replace([\"U\",\"R\"], [\"Urbano\",\"Rural\"])\n",
    "df_viv_dominio.value_counts()\n"
   ]
  },
  {
   "attachments": {},
   "cell_type": "markdown",
   "metadata": {},
   "source": [
    "- ### TR_ENUDITH_RESIDENTE_ANUAL \n",
    "<a id=\"7\"></a>\n",
    "\n",
    "#### 1. Lectura de datos \n",
    "<a id=\"8\"></a>\n",
    "\n",
    "Las mismas revisiones que se hicieron, se harán con las siguientes tablas"
   ]
  },
  {
   "cell_type": "code",
   "execution_count": 19,
   "metadata": {},
   "outputs": [
    {
     "data": {
      "text/html": [
       "<div>\n",
       "<style scoped>\n",
       "    .dataframe tbody tr th:only-of-type {\n",
       "        vertical-align: middle;\n",
       "    }\n",
       "\n",
       "    .dataframe tbody tr th {\n",
       "        vertical-align: top;\n",
       "    }\n",
       "\n",
       "    .dataframe thead th {\n",
       "        text-align: right;\n",
       "    }\n",
       "</style>\n",
       "<table border=\"1\" class=\"dataframe\">\n",
       "  <thead>\n",
       "    <tr style=\"text-align: right;\">\n",
       "      <th></th>\n",
       "      <th>UPM</th>\n",
       "      <th>VIV_SEL</th>\n",
       "      <th>HOGAR</th>\n",
       "      <th>NUM_REN</th>\n",
       "      <th>PAREN</th>\n",
       "      <th>SEXO</th>\n",
       "      <th>EDAD</th>\n",
       "      <th>DIA</th>\n",
       "      <th>MES</th>\n",
       "      <th>P3_7</th>\n",
       "      <th>...</th>\n",
       "      <th>P3_10</th>\n",
       "      <th>P3_11</th>\n",
       "      <th>P3_12</th>\n",
       "      <th>FAC_HOGAR</th>\n",
       "      <th>UPM_DIS</th>\n",
       "      <th>EST_DIS</th>\n",
       "      <th>DOMINIO</th>\n",
       "      <th>TLOC</th>\n",
       "      <th>ESTRATO</th>\n",
       "      <th>ENT</th>\n",
       "    </tr>\n",
       "  </thead>\n",
       "  <tbody>\n",
       "    <tr>\n",
       "      <th>0</th>\n",
       "      <td>100023</td>\n",
       "      <td>1</td>\n",
       "      <td>1</td>\n",
       "      <td>1</td>\n",
       "      <td>1</td>\n",
       "      <td>2</td>\n",
       "      <td>41</td>\n",
       "      <td>16.0</td>\n",
       "      <td>9.0</td>\n",
       "      <td>2.0</td>\n",
       "      <td>...</td>\n",
       "      <td>1.0</td>\n",
       "      <td>NaN</td>\n",
       "      <td>1.0</td>\n",
       "      <td>174</td>\n",
       "      <td>1</td>\n",
       "      <td>7</td>\n",
       "      <td>U</td>\n",
       "      <td>1</td>\n",
       "      <td>3</td>\n",
       "      <td>1</td>\n",
       "    </tr>\n",
       "    <tr>\n",
       "      <th>1</th>\n",
       "      <td>100023</td>\n",
       "      <td>2</td>\n",
       "      <td>1</td>\n",
       "      <td>1</td>\n",
       "      <td>1</td>\n",
       "      <td>1</td>\n",
       "      <td>46</td>\n",
       "      <td>2.0</td>\n",
       "      <td>9.0</td>\n",
       "      <td>2.0</td>\n",
       "      <td>...</td>\n",
       "      <td>7.0</td>\n",
       "      <td>NaN</td>\n",
       "      <td>NaN</td>\n",
       "      <td>174</td>\n",
       "      <td>1</td>\n",
       "      <td>7</td>\n",
       "      <td>U</td>\n",
       "      <td>1</td>\n",
       "      <td>3</td>\n",
       "      <td>1</td>\n",
       "    </tr>\n",
       "    <tr>\n",
       "      <th>2</th>\n",
       "      <td>100023</td>\n",
       "      <td>2</td>\n",
       "      <td>1</td>\n",
       "      <td>2</td>\n",
       "      <td>2</td>\n",
       "      <td>2</td>\n",
       "      <td>47</td>\n",
       "      <td>5.0</td>\n",
       "      <td>9.0</td>\n",
       "      <td>2.0</td>\n",
       "      <td>...</td>\n",
       "      <td>6.0</td>\n",
       "      <td>4.0</td>\n",
       "      <td>NaN</td>\n",
       "      <td>174</td>\n",
       "      <td>1</td>\n",
       "      <td>7</td>\n",
       "      <td>U</td>\n",
       "      <td>1</td>\n",
       "      <td>3</td>\n",
       "      <td>1</td>\n",
       "    </tr>\n",
       "    <tr>\n",
       "      <th>3</th>\n",
       "      <td>100023</td>\n",
       "      <td>2</td>\n",
       "      <td>1</td>\n",
       "      <td>3</td>\n",
       "      <td>3</td>\n",
       "      <td>2</td>\n",
       "      <td>23</td>\n",
       "      <td>22.0</td>\n",
       "      <td>1.0</td>\n",
       "      <td>2.0</td>\n",
       "      <td>...</td>\n",
       "      <td>1.0</td>\n",
       "      <td>NaN</td>\n",
       "      <td>1.0</td>\n",
       "      <td>174</td>\n",
       "      <td>1</td>\n",
       "      <td>7</td>\n",
       "      <td>U</td>\n",
       "      <td>1</td>\n",
       "      <td>3</td>\n",
       "      <td>1</td>\n",
       "    </tr>\n",
       "    <tr>\n",
       "      <th>4</th>\n",
       "      <td>100023</td>\n",
       "      <td>2</td>\n",
       "      <td>1</td>\n",
       "      <td>5</td>\n",
       "      <td>3</td>\n",
       "      <td>2</td>\n",
       "      <td>17</td>\n",
       "      <td>22.0</td>\n",
       "      <td>10.0</td>\n",
       "      <td>1.0</td>\n",
       "      <td>...</td>\n",
       "      <td>5.0</td>\n",
       "      <td>4.0</td>\n",
       "      <td>NaN</td>\n",
       "      <td>174</td>\n",
       "      <td>1</td>\n",
       "      <td>7</td>\n",
       "      <td>U</td>\n",
       "      <td>1</td>\n",
       "      <td>3</td>\n",
       "      <td>1</td>\n",
       "    </tr>\n",
       "  </tbody>\n",
       "</table>\n",
       "<p>5 rows × 25 columns</p>\n",
       "</div>"
      ],
      "text/plain": [
       "      UPM  VIV_SEL  HOGAR  NUM_REN  PAREN  SEXO  EDAD   DIA   MES  P3_7  ...  \\\n",
       "0  100023        1      1        1      1     2    41  16.0   9.0   2.0  ...   \n",
       "1  100023        2      1        1      1     1    46   2.0   9.0   2.0  ...   \n",
       "2  100023        2      1        2      2     2    47   5.0   9.0   2.0  ...   \n",
       "3  100023        2      1        3      3     2    23  22.0   1.0   2.0  ...   \n",
       "4  100023        2      1        5      3     2    17  22.0  10.0   1.0  ...   \n",
       "\n",
       "   P3_10  P3_11  P3_12  FAC_HOGAR  UPM_DIS  EST_DIS  DOMINIO  TLOC  ESTRATO  \\\n",
       "0    1.0    NaN    1.0        174        1        7        U     1        3   \n",
       "1    7.0    NaN    NaN        174        1        7        U     1        3   \n",
       "2    6.0    4.0    NaN        174        1        7        U     1        3   \n",
       "3    1.0    NaN    1.0        174        1        7        U     1        3   \n",
       "4    5.0    4.0    NaN        174        1        7        U     1        3   \n",
       "\n",
       "   ENT  \n",
       "0    1  \n",
       "1    1  \n",
       "2    1  \n",
       "3    1  \n",
       "4    1  \n",
       "\n",
       "[5 rows x 25 columns]"
      ]
     },
     "execution_count": 19,
     "metadata": {},
     "output_type": "execute_result"
    }
   ],
   "source": [
    "path_residente = (\"../data/ENDUTIH 2021/tr_endutih_residente_anual_2021.csv\")\n",
    "df_residente = pd.read_csv(path_residente)\n",
    "df_residente.head()"
   ]
  },
  {
   "cell_type": "code",
   "execution_count": 20,
   "metadata": {},
   "outputs": [
    {
     "data": {
      "text/plain": [
       "(205909, 25)"
      ]
     },
     "execution_count": 20,
     "metadata": {},
     "output_type": "execute_result"
    }
   ],
   "source": [
    "df_residente.shape"
   ]
  },
  {
   "attachments": {},
   "cell_type": "markdown",
   "metadata": {},
   "source": [
    "### 2. Datos duplicados \n",
    "<a id=\"9\"></a>"
   ]
  },
  {
   "cell_type": "code",
   "execution_count": 21,
   "metadata": {},
   "outputs": [
    {
     "data": {
      "text/plain": [
       "False    205909\n",
       "dtype: int64"
      ]
     },
     "execution_count": 21,
     "metadata": {},
     "output_type": "execute_result"
    }
   ],
   "source": [
    "df_residente.duplicated().value_counts()"
   ]
  },
  {
   "attachments": {},
   "cell_type": "markdown",
   "metadata": {},
   "source": [
    "### 3. Valores faltantes \n",
    "<a id=\"10\"></a>"
   ]
  },
  {
   "cell_type": "code",
   "execution_count": 22,
   "metadata": {},
   "outputs": [
    {
     "data": {
      "text/html": [
       "<div>\n",
       "<style scoped>\n",
       "    .dataframe tbody tr th:only-of-type {\n",
       "        vertical-align: middle;\n",
       "    }\n",
       "\n",
       "    .dataframe tbody tr th {\n",
       "        vertical-align: top;\n",
       "    }\n",
       "\n",
       "    .dataframe thead th {\n",
       "        text-align: right;\n",
       "    }\n",
       "</style>\n",
       "<table border=\"1\" class=\"dataframe\">\n",
       "  <thead>\n",
       "    <tr style=\"text-align: right;\">\n",
       "      <th></th>\n",
       "      <th>UPM</th>\n",
       "      <th>VIV_SEL</th>\n",
       "      <th>HOGAR</th>\n",
       "      <th>NUM_REN</th>\n",
       "      <th>PAREN</th>\n",
       "      <th>SEXO</th>\n",
       "      <th>EDAD</th>\n",
       "      <th>DIA</th>\n",
       "      <th>MES</th>\n",
       "      <th>P3_7</th>\n",
       "      <th>...</th>\n",
       "      <th>P3_10</th>\n",
       "      <th>P3_11</th>\n",
       "      <th>P3_12</th>\n",
       "      <th>FAC_HOGAR</th>\n",
       "      <th>UPM_DIS</th>\n",
       "      <th>EST_DIS</th>\n",
       "      <th>DOMINIO</th>\n",
       "      <th>TLOC</th>\n",
       "      <th>ESTRATO</th>\n",
       "      <th>ENT</th>\n",
       "    </tr>\n",
       "  </thead>\n",
       "  <tbody>\n",
       "    <tr>\n",
       "      <th>0</th>\n",
       "      <td>False</td>\n",
       "      <td>False</td>\n",
       "      <td>False</td>\n",
       "      <td>False</td>\n",
       "      <td>False</td>\n",
       "      <td>False</td>\n",
       "      <td>False</td>\n",
       "      <td>False</td>\n",
       "      <td>False</td>\n",
       "      <td>False</td>\n",
       "      <td>...</td>\n",
       "      <td>False</td>\n",
       "      <td>True</td>\n",
       "      <td>False</td>\n",
       "      <td>False</td>\n",
       "      <td>False</td>\n",
       "      <td>False</td>\n",
       "      <td>False</td>\n",
       "      <td>False</td>\n",
       "      <td>False</td>\n",
       "      <td>False</td>\n",
       "    </tr>\n",
       "    <tr>\n",
       "      <th>1</th>\n",
       "      <td>False</td>\n",
       "      <td>False</td>\n",
       "      <td>False</td>\n",
       "      <td>False</td>\n",
       "      <td>False</td>\n",
       "      <td>False</td>\n",
       "      <td>False</td>\n",
       "      <td>False</td>\n",
       "      <td>False</td>\n",
       "      <td>False</td>\n",
       "      <td>...</td>\n",
       "      <td>False</td>\n",
       "      <td>True</td>\n",
       "      <td>True</td>\n",
       "      <td>False</td>\n",
       "      <td>False</td>\n",
       "      <td>False</td>\n",
       "      <td>False</td>\n",
       "      <td>False</td>\n",
       "      <td>False</td>\n",
       "      <td>False</td>\n",
       "    </tr>\n",
       "    <tr>\n",
       "      <th>2</th>\n",
       "      <td>False</td>\n",
       "      <td>False</td>\n",
       "      <td>False</td>\n",
       "      <td>False</td>\n",
       "      <td>False</td>\n",
       "      <td>False</td>\n",
       "      <td>False</td>\n",
       "      <td>False</td>\n",
       "      <td>False</td>\n",
       "      <td>False</td>\n",
       "      <td>...</td>\n",
       "      <td>False</td>\n",
       "      <td>False</td>\n",
       "      <td>True</td>\n",
       "      <td>False</td>\n",
       "      <td>False</td>\n",
       "      <td>False</td>\n",
       "      <td>False</td>\n",
       "      <td>False</td>\n",
       "      <td>False</td>\n",
       "      <td>False</td>\n",
       "    </tr>\n",
       "    <tr>\n",
       "      <th>3</th>\n",
       "      <td>False</td>\n",
       "      <td>False</td>\n",
       "      <td>False</td>\n",
       "      <td>False</td>\n",
       "      <td>False</td>\n",
       "      <td>False</td>\n",
       "      <td>False</td>\n",
       "      <td>False</td>\n",
       "      <td>False</td>\n",
       "      <td>False</td>\n",
       "      <td>...</td>\n",
       "      <td>False</td>\n",
       "      <td>True</td>\n",
       "      <td>False</td>\n",
       "      <td>False</td>\n",
       "      <td>False</td>\n",
       "      <td>False</td>\n",
       "      <td>False</td>\n",
       "      <td>False</td>\n",
       "      <td>False</td>\n",
       "      <td>False</td>\n",
       "    </tr>\n",
       "    <tr>\n",
       "      <th>4</th>\n",
       "      <td>False</td>\n",
       "      <td>False</td>\n",
       "      <td>False</td>\n",
       "      <td>False</td>\n",
       "      <td>False</td>\n",
       "      <td>False</td>\n",
       "      <td>False</td>\n",
       "      <td>False</td>\n",
       "      <td>False</td>\n",
       "      <td>False</td>\n",
       "      <td>...</td>\n",
       "      <td>False</td>\n",
       "      <td>False</td>\n",
       "      <td>True</td>\n",
       "      <td>False</td>\n",
       "      <td>False</td>\n",
       "      <td>False</td>\n",
       "      <td>False</td>\n",
       "      <td>False</td>\n",
       "      <td>False</td>\n",
       "      <td>False</td>\n",
       "    </tr>\n",
       "  </tbody>\n",
       "</table>\n",
       "<p>5 rows × 25 columns</p>\n",
       "</div>"
      ],
      "text/plain": [
       "     UPM  VIV_SEL  HOGAR  NUM_REN  PAREN   SEXO   EDAD    DIA    MES   P3_7  \\\n",
       "0  False    False  False    False  False  False  False  False  False  False   \n",
       "1  False    False  False    False  False  False  False  False  False  False   \n",
       "2  False    False  False    False  False  False  False  False  False  False   \n",
       "3  False    False  False    False  False  False  False  False  False  False   \n",
       "4  False    False  False    False  False  False  False  False  False  False   \n",
       "\n",
       "   ...  P3_10  P3_11  P3_12  FAC_HOGAR  UPM_DIS  EST_DIS  DOMINIO   TLOC  \\\n",
       "0  ...  False   True  False      False    False    False    False  False   \n",
       "1  ...  False   True   True      False    False    False    False  False   \n",
       "2  ...  False  False   True      False    False    False    False  False   \n",
       "3  ...  False   True  False      False    False    False    False  False   \n",
       "4  ...  False  False   True      False    False    False    False  False   \n",
       "\n",
       "   ESTRATO    ENT  \n",
       "0    False  False  \n",
       "1    False  False  \n",
       "2    False  False  \n",
       "3    False  False  \n",
       "4    False  False  \n",
       "\n",
       "[5 rows x 25 columns]"
      ]
     },
     "execution_count": 22,
     "metadata": {},
     "output_type": "execute_result"
    }
   ],
   "source": [
    "missing_data_res = df_residente.isnull()\n",
    "missing_data_res.head()"
   ]
  },
  {
   "attachments": {},
   "cell_type": "markdown",
   "metadata": {},
   "source": [
    "Identificando las columnas con valores faltantes"
   ]
  },
  {
   "cell_type": "code",
   "execution_count": 23,
   "metadata": {},
   "outputs": [
    {
     "name": "stdout",
     "output_type": "stream",
     "text": [
      "['DIA', 'MES', 'P3_7', 'NIVEL', 'GRADO', 'P3_9_1', 'P3_9_2', 'P3_9_3', 'P3_10', 'P3_11', 'P3_12']\n"
     ]
    }
   ],
   "source": [
    "columns_ms_res = missing_data_res.any()\n",
    "columns_missing_values_res = columns_ms_res[columns_ms_res == True].index.tolist()\n",
    "print(columns_missing_values_res)"
   ]
  },
  {
   "cell_type": "code",
   "execution_count": 24,
   "metadata": {},
   "outputs": [
    {
     "name": "stdout",
     "output_type": "stream",
     "text": [
      "DIA\n",
      "False    188483\n",
      "True      17426\n",
      "Name: DIA, dtype: int64\n",
      "MES\n",
      "False    188483\n",
      "True      17426\n",
      "Name: MES, dtype: int64\n",
      "P3_7\n",
      "False    188483\n",
      "True      17426\n",
      "Name: P3_7, dtype: int64\n",
      "NIVEL\n",
      "False    188483\n",
      "True      17426\n",
      "Name: NIVEL, dtype: int64\n",
      "GRADO\n",
      "False    188483\n",
      "True      17426\n",
      "Name: GRADO, dtype: int64\n",
      "P3_9_1\n",
      "False    188483\n",
      "True      17426\n",
      "Name: P3_9_1, dtype: int64\n",
      "P3_9_2\n",
      "False    188483\n",
      "True      17426\n",
      "Name: P3_9_2, dtype: int64\n",
      "P3_9_3\n",
      "False    188483\n",
      "True      17426\n",
      "Name: P3_9_3, dtype: int64\n",
      "P3_10\n",
      "False    167614\n",
      "True      38295\n",
      "Name: P3_10, dtype: int64\n",
      "P3_11\n",
      "True     132537\n",
      "False     73372\n",
      "Name: P3_11, dtype: int64\n",
      "P3_12\n",
      "True     107066\n",
      "False     98843\n",
      "Name: P3_12, dtype: int64\n"
     ]
    }
   ],
   "source": [
    "for column in columns_missing_values_res:\n",
    "    print(column)\n",
    "    print(missing_data_res[column].value_counts())"
   ]
  },
  {
   "attachments": {},
   "cell_type": "markdown",
   "metadata": {},
   "source": [
    "Hubo curiosidad por cambiar los valores de nivel por \"0\", pero eso podría contaminar la muestra"
   ]
  },
  {
   "cell_type": "code",
   "execution_count": 25,
   "metadata": {},
   "outputs": [
    {
     "data": {
      "text/plain": [
       "2.0     54432\n",
       "3.0     50463\n",
       "6.0     35600\n",
       "8.0     28931\n",
       "NaN     17426\n",
       "0.0      7407\n",
       "7.0      2981\n",
       "1.0      2496\n",
       "5.0      2313\n",
       "10.0     1896\n",
       "99.0      895\n",
       "4.0       391\n",
       "11.0      348\n",
       "9.0       330\n",
       "Name: NIVEL, dtype: int64"
      ]
     },
     "execution_count": 25,
     "metadata": {},
     "output_type": "execute_result"
    }
   ],
   "source": [
    "df_residente[\"NIVEL\"].value_counts(dropna=False)"
   ]
  },
  {
   "attachments": {},
   "cell_type": "markdown",
   "metadata": {},
   "source": [
    "##### Reemplazando valores\n",
    "Así que sólo se rellenarán con el valor \"-1\", pues no contamina la muestra"
   ]
  },
  {
   "cell_type": "code",
   "execution_count": 26,
   "metadata": {},
   "outputs": [],
   "source": [
    "df_residente = df_residente.fillna(-1)"
   ]
  },
  {
   "attachments": {},
   "cell_type": "markdown",
   "metadata": {},
   "source": [
    "Comprobando valores faltantes, cómo en la tabla anterior, se construye una nueva variable para la comprobación"
   ]
  },
  {
   "cell_type": "code",
   "execution_count": 27,
   "metadata": {},
   "outputs": [
    {
     "data": {
      "text/plain": [
       "0"
      ]
     },
     "execution_count": 27,
     "metadata": {},
     "output_type": "execute_result"
    }
   ],
   "source": [
    "missing_data_res2 = df_residente.isnull()\n",
    "missing_data_res2.sum().sum()"
   ]
  },
  {
   "attachments": {},
   "cell_type": "markdown",
   "metadata": {},
   "source": [
    "#### 4. Revisión de los tipos de datos \n",
    "<a id=\"11\"></a>\n",
    "Tipos de dato de cada campo"
   ]
  },
  {
   "cell_type": "code",
   "execution_count": 28,
   "metadata": {},
   "outputs": [
    {
     "name": "stdout",
     "output_type": "stream",
     "text": [
      "UPM            int64\n",
      "VIV_SEL        int64\n",
      "HOGAR          int64\n",
      "NUM_REN        int64\n",
      "PAREN          int64\n",
      "SEXO           int64\n",
      "EDAD           int64\n",
      "DIA          float64\n",
      "MES          float64\n",
      "P3_7         float64\n",
      "NIVEL        float64\n",
      "GRADO        float64\n",
      "P3_9_1       float64\n",
      "P3_9_2       float64\n",
      "P3_9_3       float64\n",
      "P3_10        float64\n",
      "P3_11        float64\n",
      "P3_12        float64\n",
      "FAC_HOGAR      int64\n",
      "UPM_DIS        int64\n",
      "EST_DIS        int64\n",
      "DOMINIO       object\n",
      "TLOC           int64\n",
      "ESTRATO        int64\n",
      "ENT            int64\n",
      "dtype: object\n"
     ]
    }
   ],
   "source": [
    "print(df_residente.dtypes)"
   ]
  },
  {
   "attachments": {},
   "cell_type": "markdown",
   "metadata": {},
   "source": [
    "Se sabe por el diccionario de datos que los campo anteriores no necesitan ser \"float\", aún así se hará una comprobación para revisar si tiene algún valor que lo amerite"
   ]
  },
  {
   "cell_type": "code",
   "execution_count": 29,
   "metadata": {},
   "outputs": [
    {
     "name": "stdout",
     "output_type": "stream",
     "text": [
      "Columna:  DIA\n",
      "-1.0     17426\n",
      " 15.0    12386\n",
      " 1.0      6522\n",
      " 10.0     6475\n",
      " 12.0     6372\n",
      " 20.0     6362\n",
      " 2.0      6327\n",
      " 8.0      6209\n",
      " 5.0      6172\n",
      " 28.0     6021\n",
      " 4.0      6019\n",
      " 3.0      5995\n",
      " 6.0      5933\n",
      " 24.0     5924\n",
      " 11.0     5910\n",
      " 14.0     5909\n",
      " 18.0     5888\n",
      " 25.0     5843\n",
      " 16.0     5802\n",
      " 7.0      5739\n",
      " 22.0     5739\n",
      " 23.0     5730\n",
      " 9.0      5730\n",
      " 13.0     5719\n",
      " 19.0     5718\n",
      " 17.0     5703\n",
      " 26.0     5571\n",
      " 21.0     5555\n",
      " 27.0     5536\n",
      " 30.0     5337\n",
      " 29.0     5083\n",
      " 31.0     3103\n",
      " 99.0     2151\n",
      "Name: DIA, dtype: int64\n",
      "Columna:  MES\n",
      "-1.0     17426\n",
      " 8.0     16735\n",
      " 9.0     16409\n",
      " 10.0    16143\n",
      " 7.0     16061\n",
      " 1.0     15557\n",
      " 6.0     15538\n",
      " 12.0    15507\n",
      " 3.0     15402\n",
      " 5.0     15317\n",
      " 11.0    14906\n",
      " 4.0     14608\n",
      " 2.0     14093\n",
      " 99.0     2207\n",
      "Name: MES, dtype: int64\n",
      "Columna:  P3_7\n",
      " 2.0    139039\n",
      " 1.0     49444\n",
      "-1.0     17426\n",
      "Name: P3_7, dtype: int64\n",
      "Columna:  NIVEL\n",
      " 2.0     54432\n",
      " 3.0     50463\n",
      " 6.0     35600\n",
      " 8.0     28931\n",
      "-1.0     17426\n",
      " 0.0      7407\n",
      " 7.0      2981\n",
      " 1.0      2496\n",
      " 5.0      2313\n",
      " 10.0     1896\n",
      " 99.0      895\n",
      " 4.0       391\n",
      " 11.0      348\n",
      " 9.0       330\n",
      "Name: NIVEL, dtype: int64\n",
      "Columna:  GRADO\n",
      " 3.0    83520\n",
      " 6.0    23845\n",
      " 2.0    23101\n",
      " 1.0    17625\n",
      "-1.0    17426\n",
      " 5.0    16105\n",
      " 4.0    15956\n",
      " 0.0     7407\n",
      " 9.0      924\n",
      "Name: GRADO, dtype: int64\n",
      "Columna:  P3_9_1\n",
      " 2.0    118393\n",
      " 1.0     68901\n",
      "-1.0     17426\n",
      " 9.0      1189\n",
      "Name: P3_9_1, dtype: int64\n",
      "Columna:  P3_9_2\n",
      " 1.0    136123\n",
      " 2.0     51790\n",
      "-1.0     17426\n",
      " 9.0       570\n",
      "Name: P3_9_2, dtype: int64\n",
      "Columna:  P3_9_3\n",
      " 1.0    155268\n",
      " 2.0     32877\n",
      "-1.0     17426\n",
      " 9.0       338\n",
      "Name: P3_9_3, dtype: int64\n",
      "Columna:  P3_10\n",
      " 1.0    88581\n",
      "-1.0    38295\n",
      " 6.0    34559\n",
      " 5.0    21105\n",
      " 8.0     8569\n",
      " 4.0     6397\n",
      " 7.0     2832\n",
      " 2.0     2829\n",
      " 3.0     2742\n",
      "Name: P3_10, dtype: int64\n",
      "Columna:  P3_11\n",
      "-1.0    132537\n",
      " 4.0     65939\n",
      " 1.0      3506\n",
      " 3.0      2830\n",
      " 2.0      1097\n",
      "Name: P3_11, dtype: int64\n",
      "Columna:  P3_12\n",
      "-1.0    107066\n",
      " 1.0     58448\n",
      " 4.0     24687\n",
      " 3.0      6605\n",
      " 6.0      4228\n",
      " 2.0      3142\n",
      " 5.0      1733\n",
      "Name: P3_12, dtype: int64\n"
     ]
    }
   ],
   "source": [
    "for column in range(7,18):\n",
    "    print(\"Columna: \", df_residente.columns[column])\n",
    "    print(df_residente.iloc[:,column].value_counts())"
   ]
  },
  {
   "attachments": {},
   "cell_type": "markdown",
   "metadata": {},
   "source": [
    "Comprobando valores"
   ]
  },
  {
   "cell_type": "code",
   "execution_count": 30,
   "metadata": {},
   "outputs": [
    {
     "data": {
      "text/plain": [
       "0"
      ]
     },
     "execution_count": 30,
     "metadata": {},
     "output_type": "execute_result"
    }
   ],
   "source": [
    "missing_data_res2 = df_residente.isnull()\n",
    "missing_data_res2.sum().sum()"
   ]
  },
  {
   "cell_type": "code",
   "execution_count": 31,
   "metadata": {},
   "outputs": [
    {
     "name": "stdout",
     "output_type": "stream",
     "text": [
      "Columna:  DIA\n",
      "-1.0     17426\n",
      " 15.0    12386\n",
      " 1.0      6522\n",
      " 10.0     6475\n",
      " 12.0     6372\n",
      " 20.0     6362\n",
      " 2.0      6327\n",
      " 8.0      6209\n",
      " 5.0      6172\n",
      " 28.0     6021\n",
      " 4.0      6019\n",
      " 3.0      5995\n",
      " 6.0      5933\n",
      " 24.0     5924\n",
      " 11.0     5910\n",
      " 14.0     5909\n",
      " 18.0     5888\n",
      " 25.0     5843\n",
      " 16.0     5802\n",
      " 7.0      5739\n",
      " 22.0     5739\n",
      " 23.0     5730\n",
      " 9.0      5730\n",
      " 13.0     5719\n",
      " 19.0     5718\n",
      " 17.0     5703\n",
      " 26.0     5571\n",
      " 21.0     5555\n",
      " 27.0     5536\n",
      " 30.0     5337\n",
      " 29.0     5083\n",
      " 31.0     3103\n",
      " 99.0     2151\n",
      "Name: DIA, dtype: int64\n",
      "Columna:  MES\n",
      "-1.0     17426\n",
      " 8.0     16735\n",
      " 9.0     16409\n",
      " 10.0    16143\n",
      " 7.0     16061\n",
      " 1.0     15557\n",
      " 6.0     15538\n",
      " 12.0    15507\n",
      " 3.0     15402\n",
      " 5.0     15317\n",
      " 11.0    14906\n",
      " 4.0     14608\n",
      " 2.0     14093\n",
      " 99.0     2207\n",
      "Name: MES, dtype: int64\n",
      "Columna:  P3_7\n",
      " 2.0    139039\n",
      " 1.0     49444\n",
      "-1.0     17426\n",
      "Name: P3_7, dtype: int64\n",
      "Columna:  NIVEL\n",
      " 2.0     54432\n",
      " 3.0     50463\n",
      " 6.0     35600\n",
      " 8.0     28931\n",
      "-1.0     17426\n",
      " 0.0      7407\n",
      " 7.0      2981\n",
      " 1.0      2496\n",
      " 5.0      2313\n",
      " 10.0     1896\n",
      " 99.0      895\n",
      " 4.0       391\n",
      " 11.0      348\n",
      " 9.0       330\n",
      "Name: NIVEL, dtype: int64\n",
      "Columna:  GRADO\n",
      " 3.0    83520\n",
      " 6.0    23845\n",
      " 2.0    23101\n",
      " 1.0    17625\n",
      "-1.0    17426\n",
      " 5.0    16105\n",
      " 4.0    15956\n",
      " 0.0     7407\n",
      " 9.0      924\n",
      "Name: GRADO, dtype: int64\n",
      "Columna:  P3_9_1\n",
      " 2.0    118393\n",
      " 1.0     68901\n",
      "-1.0     17426\n",
      " 9.0      1189\n",
      "Name: P3_9_1, dtype: int64\n",
      "Columna:  P3_9_2\n",
      " 1.0    136123\n",
      " 2.0     51790\n",
      "-1.0     17426\n",
      " 9.0       570\n",
      "Name: P3_9_2, dtype: int64\n",
      "Columna:  P3_9_3\n",
      " 1.0    155268\n",
      " 2.0     32877\n",
      "-1.0     17426\n",
      " 9.0       338\n",
      "Name: P3_9_3, dtype: int64\n",
      "Columna:  P3_10\n",
      " 1.0    88581\n",
      "-1.0    38295\n",
      " 6.0    34559\n",
      " 5.0    21105\n",
      " 8.0     8569\n",
      " 4.0     6397\n",
      " 7.0     2832\n",
      " 2.0     2829\n",
      " 3.0     2742\n",
      "Name: P3_10, dtype: int64\n",
      "Columna:  P3_11\n",
      "-1.0    132537\n",
      " 4.0     65939\n",
      " 1.0      3506\n",
      " 3.0      2830\n",
      " 2.0      1097\n",
      "Name: P3_11, dtype: int64\n",
      "Columna:  P3_12\n",
      "-1.0    107066\n",
      " 1.0     58448\n",
      " 4.0     24687\n",
      " 3.0      6605\n",
      " 6.0      4228\n",
      " 2.0      3142\n",
      " 5.0      1733\n",
      "Name: P3_12, dtype: int64\n"
     ]
    }
   ],
   "source": [
    "for column in range(7,18):\n",
    "    print(\"Columna: \", df_residente.columns[column])\n",
    "    print(df_residente.iloc[:,column].value_counts())"
   ]
  },
  {
   "attachments": {},
   "cell_type": "markdown",
   "metadata": {},
   "source": [
    "Reemplazando tipos de datos"
   ]
  },
  {
   "cell_type": "code",
   "execution_count": 32,
   "metadata": {},
   "outputs": [
    {
     "name": "stdout",
     "output_type": "stream",
     "text": [
      "UPM           int64\n",
      "VIV_SEL       int64\n",
      "HOGAR         int64\n",
      "NUM_REN       int64\n",
      "PAREN         int64\n",
      "SEXO          int64\n",
      "EDAD          int64\n",
      "DIA           int64\n",
      "MES           int64\n",
      "P3_7          int64\n",
      "NIVEL         int64\n",
      "GRADO         int64\n",
      "P3_9_1        int64\n",
      "P3_9_2        int64\n",
      "P3_9_3        int64\n",
      "P3_10         int64\n",
      "P3_11         int64\n",
      "P3_12         int64\n",
      "FAC_HOGAR     int64\n",
      "UPM_DIS       int64\n",
      "EST_DIS       int64\n",
      "DOMINIO      object\n",
      "TLOC          int64\n",
      "ESTRATO       int64\n",
      "ENT           int64\n",
      "dtype: object\n"
     ]
    }
   ],
   "source": [
    "columns_r_res = df_residente.iloc[:,7:18].columns.tolist()\n",
    "df_residente[columns_r_res] = df_residente[columns_r_res].astype(\"int\")\n",
    "print(df_residente.dtypes)"
   ]
  },
  {
   "attachments": {},
   "cell_type": "markdown",
   "metadata": {},
   "source": [
    "## TR_ENDUTIH_HOGAR_ANUAL \n",
    "<a id=\"12\"></a>\n",
    "\n",
    "#### 1. Lectura de datos \n",
    "<a id=\"13\"></a>"
   ]
  },
  {
   "cell_type": "code",
   "execution_count": 33,
   "metadata": {},
   "outputs": [
    {
     "name": "stderr",
     "output_type": "stream",
     "text": [
      "/home/arturo/anaconda3/envs/brechaea/lib/python3.9/site-packages/IPython/core/interactiveshell.py:3221: DtypeWarning: Columns (29) have mixed types.Specify dtype option on import or set low_memory=False.\n",
      "  has_raised = await self.run_ast_nodes(code_ast.body, cell_name,\n"
     ]
    },
    {
     "data": {
      "text/html": [
       "<div>\n",
       "<style scoped>\n",
       "    .dataframe tbody tr th:only-of-type {\n",
       "        vertical-align: middle;\n",
       "    }\n",
       "\n",
       "    .dataframe tbody tr th {\n",
       "        vertical-align: top;\n",
       "    }\n",
       "\n",
       "    .dataframe thead th {\n",
       "        text-align: right;\n",
       "    }\n",
       "</style>\n",
       "<table border=\"1\" class=\"dataframe\">\n",
       "  <thead>\n",
       "    <tr style=\"text-align: right;\">\n",
       "      <th></th>\n",
       "      <th>UPM</th>\n",
       "      <th>VIV_SEL</th>\n",
       "      <th>HOGAR</th>\n",
       "      <th>P4_1_1</th>\n",
       "      <th>P4_1_2</th>\n",
       "      <th>P4_1_3</th>\n",
       "      <th>P4_1_4</th>\n",
       "      <th>P4_1_5</th>\n",
       "      <th>P4_1_6</th>\n",
       "      <th>P4_1_6_1</th>\n",
       "      <th>...</th>\n",
       "      <th>P5_11_1</th>\n",
       "      <th>P5_11_2</th>\n",
       "      <th>P5_11_3</th>\n",
       "      <th>FAC_HOG</th>\n",
       "      <th>UPM_DIS</th>\n",
       "      <th>EST_DIS</th>\n",
       "      <th>DOMINIO</th>\n",
       "      <th>TLOC</th>\n",
       "      <th>ESTRATO</th>\n",
       "      <th>ENT</th>\n",
       "    </tr>\n",
       "  </thead>\n",
       "  <tbody>\n",
       "    <tr>\n",
       "      <th>0</th>\n",
       "      <td>100023</td>\n",
       "      <td>1</td>\n",
       "      <td>1</td>\n",
       "      <td>1</td>\n",
       "      <td>2</td>\n",
       "      <td>2</td>\n",
       "      <td>1</td>\n",
       "      <td>2</td>\n",
       "      <td>1</td>\n",
       "      <td>1.0</td>\n",
       "      <td>...</td>\n",
       "      <td>3.0</td>\n",
       "      <td>3.0</td>\n",
       "      <td>3.0</td>\n",
       "      <td>174</td>\n",
       "      <td>1</td>\n",
       "      <td>7</td>\n",
       "      <td>U</td>\n",
       "      <td>1</td>\n",
       "      <td>3</td>\n",
       "      <td>1</td>\n",
       "    </tr>\n",
       "    <tr>\n",
       "      <th>1</th>\n",
       "      <td>100023</td>\n",
       "      <td>2</td>\n",
       "      <td>1</td>\n",
       "      <td>2</td>\n",
       "      <td>2</td>\n",
       "      <td>2</td>\n",
       "      <td>1</td>\n",
       "      <td>2</td>\n",
       "      <td>1</td>\n",
       "      <td>5.0</td>\n",
       "      <td>...</td>\n",
       "      <td>2.0</td>\n",
       "      <td>1.0</td>\n",
       "      <td>1.0</td>\n",
       "      <td>174</td>\n",
       "      <td>1</td>\n",
       "      <td>7</td>\n",
       "      <td>U</td>\n",
       "      <td>1</td>\n",
       "      <td>3</td>\n",
       "      <td>1</td>\n",
       "    </tr>\n",
       "    <tr>\n",
       "      <th>2</th>\n",
       "      <td>100023</td>\n",
       "      <td>3</td>\n",
       "      <td>1</td>\n",
       "      <td>2</td>\n",
       "      <td>1</td>\n",
       "      <td>2</td>\n",
       "      <td>1</td>\n",
       "      <td>1</td>\n",
       "      <td>1</td>\n",
       "      <td>2.0</td>\n",
       "      <td>...</td>\n",
       "      <td>1.0</td>\n",
       "      <td>1.0</td>\n",
       "      <td>1.0</td>\n",
       "      <td>174</td>\n",
       "      <td>1</td>\n",
       "      <td>7</td>\n",
       "      <td>U</td>\n",
       "      <td>1</td>\n",
       "      <td>3</td>\n",
       "      <td>1</td>\n",
       "    </tr>\n",
       "    <tr>\n",
       "      <th>3</th>\n",
       "      <td>100023</td>\n",
       "      <td>4</td>\n",
       "      <td>1</td>\n",
       "      <td>1</td>\n",
       "      <td>2</td>\n",
       "      <td>2</td>\n",
       "      <td>1</td>\n",
       "      <td>1</td>\n",
       "      <td>1</td>\n",
       "      <td>8.0</td>\n",
       "      <td>...</td>\n",
       "      <td>1.0</td>\n",
       "      <td>1.0</td>\n",
       "      <td>1.0</td>\n",
       "      <td>174</td>\n",
       "      <td>1</td>\n",
       "      <td>7</td>\n",
       "      <td>U</td>\n",
       "      <td>1</td>\n",
       "      <td>3</td>\n",
       "      <td>1</td>\n",
       "    </tr>\n",
       "    <tr>\n",
       "      <th>4</th>\n",
       "      <td>100023</td>\n",
       "      <td>5</td>\n",
       "      <td>1</td>\n",
       "      <td>2</td>\n",
       "      <td>2</td>\n",
       "      <td>2</td>\n",
       "      <td>1</td>\n",
       "      <td>2</td>\n",
       "      <td>1</td>\n",
       "      <td>3.0</td>\n",
       "      <td>...</td>\n",
       "      <td>2.0</td>\n",
       "      <td>3.0</td>\n",
       "      <td>3.0</td>\n",
       "      <td>174</td>\n",
       "      <td>1</td>\n",
       "      <td>7</td>\n",
       "      <td>U</td>\n",
       "      <td>1</td>\n",
       "      <td>3</td>\n",
       "      <td>1</td>\n",
       "    </tr>\n",
       "  </tbody>\n",
       "</table>\n",
       "<p>5 rows × 84 columns</p>\n",
       "</div>"
      ],
      "text/plain": [
       "      UPM  VIV_SEL  HOGAR  P4_1_1  P4_1_2  P4_1_3  P4_1_4  P4_1_5  P4_1_6  \\\n",
       "0  100023        1      1       1       2       2       1       2       1   \n",
       "1  100023        2      1       2       2       2       1       2       1   \n",
       "2  100023        3      1       2       1       2       1       1       1   \n",
       "3  100023        4      1       1       2       2       1       1       1   \n",
       "4  100023        5      1       2       2       2       1       2       1   \n",
       "\n",
       "   P4_1_6_1  ...  P5_11_1  P5_11_2  P5_11_3  FAC_HOG  UPM_DIS EST_DIS  \\\n",
       "0       1.0  ...      3.0      3.0      3.0      174        1       7   \n",
       "1       5.0  ...      2.0      1.0      1.0      174        1       7   \n",
       "2       2.0  ...      1.0      1.0      1.0      174        1       7   \n",
       "3       8.0  ...      1.0      1.0      1.0      174        1       7   \n",
       "4       3.0  ...      2.0      3.0      3.0      174        1       7   \n",
       "\n",
       "   DOMINIO  TLOC  ESTRATO  ENT  \n",
       "0        U     1        3    1  \n",
       "1        U     1        3    1  \n",
       "2        U     1        3    1  \n",
       "3        U     1        3    1  \n",
       "4        U     1        3    1  \n",
       "\n",
       "[5 rows x 84 columns]"
      ]
     },
     "execution_count": 33,
     "metadata": {},
     "output_type": "execute_result"
    }
   ],
   "source": [
    "path_hogar = (\"../data/ENDUTIH 2021/tr_endutih_hogar_anual_2021.csv\")\n",
    "df_hogar = pd.read_csv(path_hogar)\n",
    "df_hogar.head()"
   ]
  },
  {
   "attachments": {},
   "cell_type": "markdown",
   "metadata": {},
   "source": [
    "Al parecer hay un conflicto con ciertas columnas, pues tienen datos mixtos, así que se identificarán"
   ]
  },
  {
   "cell_type": "code",
   "execution_count": 34,
   "metadata": {},
   "outputs": [
    {
     "name": "stdout",
     "output_type": "stream",
     "text": [
      "Las columnas con tipos de datos mixtos son: ['P4_3A', 'P4_6A', 'P4_7A', 'P4_8A', 'P5_4A', 'DOMINIO']\n"
     ]
    }
   ],
   "source": [
    "mixed_columns_hog = df_hogar.columns[df_hogar.dtypes == 'object'].tolist()\n",
    "\n",
    "print(f\"Las columnas con tipos de datos mixtos son: {mixed_columns_hog}\")"
   ]
  },
  {
   "cell_type": "code",
   "execution_count": 35,
   "metadata": {},
   "outputs": [
    {
     "data": {
      "text/plain": [
       "(59285, 84)"
      ]
     },
     "execution_count": 35,
     "metadata": {},
     "output_type": "execute_result"
    }
   ],
   "source": [
    "df_hogar.shape"
   ]
  },
  {
   "attachments": {},
   "cell_type": "markdown",
   "metadata": {},
   "source": [
    "#### 2. Datos duplicados \n",
    "<a id=\"14\"></a>"
   ]
  },
  {
   "cell_type": "code",
   "execution_count": 36,
   "metadata": {},
   "outputs": [
    {
     "data": {
      "text/plain": [
       "False    59285\n",
       "dtype: int64"
      ]
     },
     "execution_count": 36,
     "metadata": {},
     "output_type": "execute_result"
    }
   ],
   "source": [
    "df_hogar.duplicated().value_counts()"
   ]
  },
  {
   "attachments": {},
   "cell_type": "markdown",
   "metadata": {},
   "source": [
    "#### 3. Valores faltantes \n",
    "<a id=\"15\"></a>"
   ]
  },
  {
   "cell_type": "code",
   "execution_count": 37,
   "metadata": {},
   "outputs": [
    {
     "data": {
      "text/html": [
       "<div>\n",
       "<style scoped>\n",
       "    .dataframe tbody tr th:only-of-type {\n",
       "        vertical-align: middle;\n",
       "    }\n",
       "\n",
       "    .dataframe tbody tr th {\n",
       "        vertical-align: top;\n",
       "    }\n",
       "\n",
       "    .dataframe thead th {\n",
       "        text-align: right;\n",
       "    }\n",
       "</style>\n",
       "<table border=\"1\" class=\"dataframe\">\n",
       "  <thead>\n",
       "    <tr style=\"text-align: right;\">\n",
       "      <th></th>\n",
       "      <th>UPM</th>\n",
       "      <th>VIV_SEL</th>\n",
       "      <th>HOGAR</th>\n",
       "      <th>P4_1_1</th>\n",
       "      <th>P4_1_2</th>\n",
       "      <th>P4_1_3</th>\n",
       "      <th>P4_1_4</th>\n",
       "      <th>P4_1_5</th>\n",
       "      <th>P4_1_6</th>\n",
       "      <th>P4_1_6_1</th>\n",
       "      <th>...</th>\n",
       "      <th>P5_11_1</th>\n",
       "      <th>P5_11_2</th>\n",
       "      <th>P5_11_3</th>\n",
       "      <th>FAC_HOG</th>\n",
       "      <th>UPM_DIS</th>\n",
       "      <th>EST_DIS</th>\n",
       "      <th>DOMINIO</th>\n",
       "      <th>TLOC</th>\n",
       "      <th>ESTRATO</th>\n",
       "      <th>ENT</th>\n",
       "    </tr>\n",
       "  </thead>\n",
       "  <tbody>\n",
       "    <tr>\n",
       "      <th>0</th>\n",
       "      <td>False</td>\n",
       "      <td>False</td>\n",
       "      <td>False</td>\n",
       "      <td>False</td>\n",
       "      <td>False</td>\n",
       "      <td>False</td>\n",
       "      <td>False</td>\n",
       "      <td>False</td>\n",
       "      <td>False</td>\n",
       "      <td>False</td>\n",
       "      <td>...</td>\n",
       "      <td>False</td>\n",
       "      <td>False</td>\n",
       "      <td>False</td>\n",
       "      <td>False</td>\n",
       "      <td>False</td>\n",
       "      <td>False</td>\n",
       "      <td>False</td>\n",
       "      <td>False</td>\n",
       "      <td>False</td>\n",
       "      <td>False</td>\n",
       "    </tr>\n",
       "    <tr>\n",
       "      <th>1</th>\n",
       "      <td>False</td>\n",
       "      <td>False</td>\n",
       "      <td>False</td>\n",
       "      <td>False</td>\n",
       "      <td>False</td>\n",
       "      <td>False</td>\n",
       "      <td>False</td>\n",
       "      <td>False</td>\n",
       "      <td>False</td>\n",
       "      <td>False</td>\n",
       "      <td>...</td>\n",
       "      <td>False</td>\n",
       "      <td>False</td>\n",
       "      <td>False</td>\n",
       "      <td>False</td>\n",
       "      <td>False</td>\n",
       "      <td>False</td>\n",
       "      <td>False</td>\n",
       "      <td>False</td>\n",
       "      <td>False</td>\n",
       "      <td>False</td>\n",
       "    </tr>\n",
       "    <tr>\n",
       "      <th>2</th>\n",
       "      <td>False</td>\n",
       "      <td>False</td>\n",
       "      <td>False</td>\n",
       "      <td>False</td>\n",
       "      <td>False</td>\n",
       "      <td>False</td>\n",
       "      <td>False</td>\n",
       "      <td>False</td>\n",
       "      <td>False</td>\n",
       "      <td>False</td>\n",
       "      <td>...</td>\n",
       "      <td>False</td>\n",
       "      <td>False</td>\n",
       "      <td>False</td>\n",
       "      <td>False</td>\n",
       "      <td>False</td>\n",
       "      <td>False</td>\n",
       "      <td>False</td>\n",
       "      <td>False</td>\n",
       "      <td>False</td>\n",
       "      <td>False</td>\n",
       "    </tr>\n",
       "    <tr>\n",
       "      <th>3</th>\n",
       "      <td>False</td>\n",
       "      <td>False</td>\n",
       "      <td>False</td>\n",
       "      <td>False</td>\n",
       "      <td>False</td>\n",
       "      <td>False</td>\n",
       "      <td>False</td>\n",
       "      <td>False</td>\n",
       "      <td>False</td>\n",
       "      <td>False</td>\n",
       "      <td>...</td>\n",
       "      <td>False</td>\n",
       "      <td>False</td>\n",
       "      <td>False</td>\n",
       "      <td>False</td>\n",
       "      <td>False</td>\n",
       "      <td>False</td>\n",
       "      <td>False</td>\n",
       "      <td>False</td>\n",
       "      <td>False</td>\n",
       "      <td>False</td>\n",
       "    </tr>\n",
       "    <tr>\n",
       "      <th>4</th>\n",
       "      <td>False</td>\n",
       "      <td>False</td>\n",
       "      <td>False</td>\n",
       "      <td>False</td>\n",
       "      <td>False</td>\n",
       "      <td>False</td>\n",
       "      <td>False</td>\n",
       "      <td>False</td>\n",
       "      <td>False</td>\n",
       "      <td>False</td>\n",
       "      <td>...</td>\n",
       "      <td>False</td>\n",
       "      <td>False</td>\n",
       "      <td>False</td>\n",
       "      <td>False</td>\n",
       "      <td>False</td>\n",
       "      <td>False</td>\n",
       "      <td>False</td>\n",
       "      <td>False</td>\n",
       "      <td>False</td>\n",
       "      <td>False</td>\n",
       "    </tr>\n",
       "  </tbody>\n",
       "</table>\n",
       "<p>5 rows × 84 columns</p>\n",
       "</div>"
      ],
      "text/plain": [
       "     UPM  VIV_SEL  HOGAR  P4_1_1  P4_1_2  P4_1_3  P4_1_4  P4_1_5  P4_1_6  \\\n",
       "0  False    False  False   False   False   False   False   False   False   \n",
       "1  False    False  False   False   False   False   False   False   False   \n",
       "2  False    False  False   False   False   False   False   False   False   \n",
       "3  False    False  False   False   False   False   False   False   False   \n",
       "4  False    False  False   False   False   False   False   False   False   \n",
       "\n",
       "   P4_1_6_1  ...  P5_11_1  P5_11_2  P5_11_3  FAC_HOG  UPM_DIS  EST_DIS  \\\n",
       "0     False  ...    False    False    False    False    False    False   \n",
       "1     False  ...    False    False    False    False    False    False   \n",
       "2     False  ...    False    False    False    False    False    False   \n",
       "3     False  ...    False    False    False    False    False    False   \n",
       "4     False  ...    False    False    False    False    False    False   \n",
       "\n",
       "   DOMINIO   TLOC  ESTRATO    ENT  \n",
       "0    False  False    False  False  \n",
       "1    False  False    False  False  \n",
       "2    False  False    False  False  \n",
       "3    False  False    False  False  \n",
       "4    False  False    False  False  \n",
       "\n",
       "[5 rows x 84 columns]"
      ]
     },
     "execution_count": 37,
     "metadata": {},
     "output_type": "execute_result"
    }
   ],
   "source": [
    "missing_data_hog = df_hogar.isnull()\n",
    "missing_data_hog.head()"
   ]
  },
  {
   "cell_type": "code",
   "execution_count": 38,
   "metadata": {},
   "outputs": [
    {
     "name": "stdout",
     "output_type": "stream",
     "text": [
      "['P4_1_6_1', 'P4_1_6_2', 'P4_3', 'P4_5', 'P4_6_1', 'P4_6_2', 'P4_6_3', 'P4_6_4', 'P4_6_5', 'P4_6_6', 'P4_7_1', 'P4_7_2', 'P4_7_3', 'P4_7_4', 'P4_8', 'P5_2_1', 'P5_2_2', 'P5_3_1', 'P5_3_2', 'P5_4', 'P5_7_1', 'P5_8_1', 'P5_9_1', 'P5_10_1', 'P5_7_2', 'P5_8_2', 'P5_9_2', 'P5_10_2', 'P5_7_3', 'P5_8_3', 'P5_9_3', 'P5_10_3', 'P5_7_4', 'P5_8_4', 'P5_9_4', 'P5_10_4', 'P5_7_5', 'P5_8_5', 'P5_9_5', 'P5_10_5', 'P5_7_6', 'P5_8_6', 'P5_9_6', 'P5_7_7', 'P5_8_7', 'P5_9_7', 'P5_7_8', 'P5_8_8', 'P5_9_8', 'P5_11_1', 'P5_11_2', 'P5_11_3']\n"
     ]
    }
   ],
   "source": [
    "columns_ms_hog = missing_data_hog.any()\n",
    "columns_missing_values_hog1 = columns_ms_hog[columns_ms_hog == True].index.tolist()\n",
    "columns_missing_values_hog = [column for column in columns_missing_values_hog1 if column not in mixed_columns_hog]\n",
    "print(columns_missing_values_hog)"
   ]
  },
  {
   "cell_type": "code",
   "execution_count": 39,
   "metadata": {},
   "outputs": [
    {
     "name": "stdout",
     "output_type": "stream",
     "text": [
      "P4_1_6_1\n",
      "False    55371\n",
      "True      3914\n",
      "Name: P4_1_6_1, dtype: int64\n",
      "P4_1_6_2\n",
      "False    55371\n",
      "True      3914\n",
      "Name: P4_1_6_2, dtype: int64\n",
      "P4_3\n",
      "False    33224\n",
      "True     26061\n",
      "Name: P4_3, dtype: int64\n",
      "P4_5\n",
      "False    38669\n",
      "True     20616\n",
      "Name: P4_5, dtype: int64\n",
      "P4_6_1\n",
      "False    35488\n",
      "True     23797\n",
      "Name: P4_6_1, dtype: int64\n",
      "P4_6_2\n",
      "False    35488\n",
      "True     23797\n",
      "Name: P4_6_2, dtype: int64\n",
      "P4_6_3\n",
      "False    35488\n",
      "True     23797\n",
      "Name: P4_6_3, dtype: int64\n",
      "P4_6_4\n",
      "False    35488\n",
      "True     23797\n",
      "Name: P4_6_4, dtype: int64\n",
      "P4_6_5\n",
      "False    35488\n",
      "True     23797\n",
      "Name: P4_6_5, dtype: int64\n",
      "P4_6_6\n",
      "False    35488\n",
      "True     23797\n",
      "Name: P4_6_6, dtype: int64\n",
      "P4_7_1\n",
      "True     43286\n",
      "False    15999\n",
      "Name: P4_7_1, dtype: int64\n",
      "P4_7_2\n",
      "True     43286\n",
      "False    15999\n",
      "Name: P4_7_2, dtype: int64\n",
      "P4_7_3\n",
      "True     43286\n",
      "False    15999\n",
      "Name: P4_7_3, dtype: int64\n",
      "P4_7_4\n",
      "True     43286\n",
      "False    15999\n",
      "Name: P4_7_4, dtype: int64\n",
      "P4_8\n",
      "True     38669\n",
      "False    20616\n",
      "Name: P4_8, dtype: int64\n",
      "P5_2_1\n",
      "True     32395\n",
      "False    26890\n",
      "Name: P5_2_1, dtype: int64\n",
      "P5_2_2\n",
      "True     32395\n",
      "False    26890\n",
      "Name: P5_2_2, dtype: int64\n",
      "P5_3_1\n",
      "True     32395\n",
      "False    26890\n",
      "Name: P5_3_1, dtype: int64\n",
      "P5_3_2\n",
      "True     32395\n",
      "False    26890\n",
      "Name: P5_3_2, dtype: int64\n",
      "P5_4\n",
      "False    32395\n",
      "True     26890\n",
      "Name: P5_4, dtype: int64\n",
      "P5_7_1\n",
      "False    56802\n",
      "True      2483\n",
      "Name: P5_7_1, dtype: int64\n",
      "P5_8_1\n",
      "True     59240\n",
      "False       45\n",
      "Name: P5_8_1, dtype: int64\n",
      "P5_9_1\n",
      "True     59283\n",
      "False        2\n",
      "Name: P5_9_1, dtype: int64\n",
      "P5_10_1\n",
      "True     59280\n",
      "False        5\n",
      "Name: P5_10_1, dtype: int64\n",
      "P5_7_2\n",
      "False    56802\n",
      "True      2483\n",
      "Name: P5_7_2, dtype: int64\n",
      "P5_8_2\n",
      "True     50916\n",
      "False     8369\n",
      "Name: P5_8_2, dtype: int64\n",
      "P5_9_2\n",
      "True     58790\n",
      "False      495\n",
      "Name: P5_9_2, dtype: int64\n",
      "P5_10_2\n",
      "True     58899\n",
      "False      386\n",
      "Name: P5_10_2, dtype: int64\n",
      "P5_7_3\n",
      "False    56802\n",
      "True      2483\n",
      "Name: P5_7_3, dtype: int64\n",
      "P5_8_3\n",
      "True     59079\n",
      "False      206\n",
      "Name: P5_8_3, dtype: int64\n",
      "P5_9_3\n",
      "True     59252\n",
      "False       33\n",
      "Name: P5_9_3, dtype: int64\n",
      "P5_10_3\n",
      "True     59266\n",
      "False       19\n",
      "Name: P5_10_3, dtype: int64\n",
      "P5_7_4\n",
      "False    56802\n",
      "True      2483\n",
      "Name: P5_7_4, dtype: int64\n",
      "P5_8_4\n",
      "True     53891\n",
      "False     5394\n",
      "Name: P5_8_4, dtype: int64\n",
      "P5_9_4\n",
      "True     58986\n",
      "False      299\n",
      "Name: P5_9_4, dtype: int64\n",
      "P5_10_4\n",
      "True     59184\n",
      "False      101\n",
      "Name: P5_10_4, dtype: int64\n",
      "P5_7_5\n",
      "False    56802\n",
      "True      2483\n",
      "Name: P5_7_5, dtype: int64\n",
      "P5_8_5\n",
      "True     48517\n",
      "False    10768\n",
      "Name: P5_8_5, dtype: int64\n",
      "P5_9_5\n",
      "True     58812\n",
      "False      473\n",
      "Name: P5_9_5, dtype: int64\n",
      "P5_10_5\n",
      "True     58970\n",
      "False      315\n",
      "Name: P5_10_5, dtype: int64\n",
      "P5_7_6\n",
      "False    56802\n",
      "True      2483\n",
      "Name: P5_7_6, dtype: int64\n",
      "P5_8_6\n",
      "True     46195\n",
      "False    13090\n",
      "Name: P5_8_6, dtype: int64\n",
      "P5_9_6\n",
      "True     58646\n",
      "False      639\n",
      "Name: P5_9_6, dtype: int64\n",
      "P5_7_7\n",
      "False    56802\n",
      "True      2483\n",
      "Name: P5_7_7, dtype: int64\n",
      "P5_8_7\n",
      "True     57140\n",
      "False     2145\n",
      "Name: P5_8_7, dtype: int64\n",
      "P5_9_7\n",
      "True     59010\n",
      "False      275\n",
      "Name: P5_9_7, dtype: int64\n",
      "P5_7_8\n",
      "False    56802\n",
      "True      2483\n",
      "Name: P5_7_8, dtype: int64\n",
      "P5_8_8\n",
      "True     48120\n",
      "False    11165\n",
      "Name: P5_8_8, dtype: int64\n",
      "P5_9_8\n",
      "True     58201\n",
      "False     1084\n",
      "Name: P5_9_8, dtype: int64\n",
      "P5_11_1\n",
      "False    56802\n",
      "True      2483\n",
      "Name: P5_11_1, dtype: int64\n",
      "P5_11_2\n",
      "False    56802\n",
      "True      2483\n",
      "Name: P5_11_2, dtype: int64\n",
      "P5_11_3\n",
      "False    56802\n",
      "True      2483\n",
      "Name: P5_11_3, dtype: int64\n"
     ]
    }
   ],
   "source": [
    "for column in columns_missing_values_hog:\n",
    "    print(column)\n",
    "    print(missing_data_hog[column].value_counts())"
   ]
  },
  {
   "attachments": {},
   "cell_type": "markdown",
   "metadata": {},
   "source": [
    "##### Reemplazando valores faltantes"
   ]
  },
  {
   "cell_type": "code",
   "execution_count": 40,
   "metadata": {},
   "outputs": [],
   "source": [
    "df_hogar[columns_missing_values_hog] = df_hogar[columns_missing_values_hog].fillna(-1)"
   ]
  },
  {
   "attachments": {},
   "cell_type": "markdown",
   "metadata": {},
   "source": [
    "Comprobando valores faltantes"
   ]
  },
  {
   "cell_type": "code",
   "execution_count": 41,
   "metadata": {},
   "outputs": [
    {
     "name": "stdout",
     "output_type": "stream",
     "text": [
      "['P4_3A', 'P4_6A', 'P4_7A', 'P4_8A', 'P5_4A']\n"
     ]
    }
   ],
   "source": [
    "missing_data_hog2 = df_hogar.isnull()\n",
    "columns_ms_hog2 = missing_data_hog2.any()\n",
    "columns_missing_values_hog2 = columns_ms_hog2[columns_ms_hog2 == True].index.tolist()\n",
    "print(columns_missing_values_hog2)"
   ]
  },
  {
   "attachments": {},
   "cell_type": "markdown",
   "metadata": {},
   "source": [
    "Ahora toca el turno de reemplazar valores de los tipos de datos \"Object\""
   ]
  },
  {
   "cell_type": "code",
   "execution_count": 42,
   "metadata": {},
   "outputs": [],
   "source": [
    "df_hogar = df_hogar.fillna(\"Desconocido\")"
   ]
  },
  {
   "attachments": {},
   "cell_type": "markdown",
   "metadata": {},
   "source": [
    "Volviendo a comprobar que no haya ningún dato perdido"
   ]
  },
  {
   "cell_type": "code",
   "execution_count": 43,
   "metadata": {},
   "outputs": [
    {
     "name": "stdout",
     "output_type": "stream",
     "text": [
      "[]\n"
     ]
    }
   ],
   "source": [
    "missing_data_hog3 = df_hogar.isnull()\n",
    "columns_ms_hog3 = missing_data_hog3.any()\n",
    "columns_missing_values_hog3 = columns_ms_hog3[columns_ms_hog3 == True].index.tolist()\n",
    "print(columns_missing_values_hog3)"
   ]
  },
  {
   "attachments": {},
   "cell_type": "markdown",
   "metadata": {},
   "source": [
    "#### 4. Revisión de los tipos de datos \n",
    "<a id=\"16\"></a>"
   ]
  },
  {
   "cell_type": "markdown",
   "metadata": {},
   "source": []
  },
  {
   "cell_type": "code",
   "execution_count": 44,
   "metadata": {},
   "outputs": [
    {
     "name": "stdout",
     "output_type": "stream",
     "text": [
      "UPM           int64\n",
      "VIV_SEL       int64\n",
      "HOGAR         int64\n",
      "P4_1_1        int64\n",
      "P4_1_2        int64\n",
      "P4_1_3        int64\n",
      "P4_1_4        int64\n",
      "P4_1_5        int64\n",
      "P4_1_6        int64\n",
      "P4_1_6_1    float64\n",
      "P4_1_6_2    float64\n",
      "P4_2_1        int64\n",
      "P4_2_2        int64\n",
      "P4_2_3        int64\n",
      "P4_3        float64\n",
      "P4_3A        object\n",
      "P4_4          int64\n",
      "P4_5        float64\n",
      "P4_6_1      float64\n",
      "P4_6_2      float64\n",
      "P4_6_3      float64\n",
      "P4_6_4      float64\n",
      "P4_6_5      float64\n",
      "P4_6_6      float64\n",
      "P4_6A        object\n",
      "P4_7_1      float64\n",
      "P4_7_2      float64\n",
      "P4_7_3      float64\n",
      "P4_7_4      float64\n",
      "P4_7A        object\n",
      "P4_8        float64\n",
      "P4_8A        object\n",
      "P5_1          int64\n",
      "P5_2_1      float64\n",
      "P5_2_2      float64\n",
      "P5_3_1      float64\n",
      "P5_3_2      float64\n",
      "P5_4        float64\n",
      "P5_4A        object\n",
      "P5_5          int64\n",
      "P5_6_1        int64\n",
      "dtype: object\n"
     ]
    }
   ],
   "source": [
    "print(df_hogar.iloc[:,:41].dtypes)"
   ]
  },
  {
   "cell_type": "code",
   "execution_count": 45,
   "metadata": {},
   "outputs": [
    {
     "name": "stdout",
     "output_type": "stream",
     "text": [
      "P5_6_2       int64\n",
      "P5_6_3       int64\n",
      "P5_6_4       int64\n",
      "P5_6_5       int64\n",
      "P5_7_1     float64\n",
      "P5_8_1     float64\n",
      "P5_9_1     float64\n",
      "P5_10_1    float64\n",
      "P5_7_2     float64\n",
      "P5_8_2     float64\n",
      "P5_9_2     float64\n",
      "P5_10_2    float64\n",
      "P5_7_3     float64\n",
      "P5_8_3     float64\n",
      "P5_9_3     float64\n",
      "P5_10_3    float64\n",
      "P5_7_4     float64\n",
      "P5_8_4     float64\n",
      "P5_9_4     float64\n",
      "P5_10_4    float64\n",
      "P5_7_5     float64\n",
      "P5_8_5     float64\n",
      "P5_9_5     float64\n",
      "P5_10_5    float64\n",
      "P5_7_6     float64\n",
      "P5_8_6     float64\n",
      "P5_9_6     float64\n",
      "P5_7_7     float64\n",
      "P5_8_7     float64\n",
      "P5_9_7     float64\n",
      "P5_7_8     float64\n",
      "P5_8_8     float64\n",
      "P5_9_8     float64\n",
      "P5_11_1    float64\n",
      "P5_11_2    float64\n",
      "P5_11_3    float64\n",
      "FAC_HOG      int64\n",
      "UPM_DIS      int64\n",
      "EST_DIS      int64\n",
      "DOMINIO     object\n",
      "TLOC         int64\n",
      "ESTRATO      int64\n",
      "ENT          int64\n",
      "dtype: object\n"
     ]
    }
   ],
   "source": [
    "print(df_hogar.iloc[:,41:].dtypes)"
   ]
  },
  {
   "attachments": {},
   "cell_type": "markdown",
   "metadata": {},
   "source": [
    "Se revisarán los valores de tipo \"float\" para comprobar si hace falta que tengan decimales, aunque de antemando se sabe cuales son, siempre es mejor comprobarlo, aunque en este caso habrá valores que no se convertirán, pues la naturaleza de los siguientes valores podrían requerir ese formato:\n",
    "- P5_8_1, P5_8_2, P5_8_3, P5_8_4, P5_8_5, P5_8_6, P5_8_7, P5_8_8"
   ]
  },
  {
   "cell_type": "code",
   "execution_count": 46,
   "metadata": {},
   "outputs": [
    {
     "name": "stdout",
     "output_type": "stream",
     "text": [
      "['P4_1_6_1', 'P4_1_6_2', 'P4_3', 'P4_5', 'P4_6_1', 'P4_6_2', 'P4_6_3', 'P4_6_4', 'P4_6_5', 'P4_6_6', 'P4_7_1', 'P4_7_2', 'P4_7_3', 'P4_7_4', 'P4_8', 'P5_2_1', 'P5_2_2', 'P5_3_1', 'P5_3_2', 'P5_4', 'P5_7_1', 'P5_9_1', 'P5_10_1', 'P5_7_2', 'P5_9_2', 'P5_10_2', 'P5_7_3', 'P5_9_3', 'P5_10_3', 'P5_7_4', 'P5_9_4', 'P5_10_4', 'P5_7_5', 'P5_9_5', 'P5_10_5', 'P5_7_6', 'P5_9_6', 'P5_7_7', 'P5_9_7', 'P5_7_8', 'P5_9_8', 'P5_11_1', 'P5_11_2', 'P5_11_3']\n"
     ]
    }
   ],
   "source": [
    "excludes_hog_val = [\"P5_8_1\", \"P5_8_2\", \"P5_8_3\", \"P5_8_4\", \"P5_8_5\", \"P5_8_6\", \"P5_8_7\", \"P5_8_8\"] # Exclude columns\n",
    "float_values_hog1 = df_hogar.columns[df_hogar.dtypes == 'float'].tolist() #get columns that are float\n",
    "float_values_hog = [column for column in float_values_hog1 if column not in excludes_hog_val] #Excluding columns of the variable float_values_hog from excludes_hog_val\n",
    "print(float_values_hog)"
   ]
  },
  {
   "cell_type": "code",
   "execution_count": 47,
   "metadata": {},
   "outputs": [
    {
     "name": "stdout",
     "output_type": "stream",
     "text": [
      "Columna  P4_1_6_1\n",
      " 2.0     18546\n",
      " 1.0     13051\n",
      " 3.0     12032\n",
      " 4.0      7399\n",
      "-1.0      3914\n",
      " 5.0      2899\n",
      " 6.0       934\n",
      " 7.0       329\n",
      " 8.0       118\n",
      " 9.0        34\n",
      " 10.0       19\n",
      " 12.0        4\n",
      " 11.0        3\n",
      " 33.0        1\n",
      " 15.0        1\n",
      " 13.0        1\n",
      "Name: P4_1_6_1, dtype: int64\n",
      "Columna  P4_1_6_2\n",
      " 2.0     17646\n",
      " 1.0     12926\n",
      " 3.0     11188\n",
      " 4.0      6705\n",
      "-1.0      3914\n",
      " 0.0      2938\n",
      " 5.0      2680\n",
      " 6.0       832\n",
      " 7.0       292\n",
      " 8.0       104\n",
      " 9.0        31\n",
      " 10.0       15\n",
      " 99.0        5\n",
      " 12.0        4\n",
      " 11.0        3\n",
      " 15.0        1\n",
      " 13.0        1\n",
      "Name: P4_1_6_2, dtype: int64\n",
      "Columna  P4_3\n",
      "-1.0    26061\n",
      " 1.0    18130\n",
      " 2.0     8559\n",
      " 3.0     4048\n",
      " 4.0     1751\n",
      " 5.0      387\n",
      " 7.0      245\n",
      " 6.0       74\n",
      " 8.0       30\n",
      "Name: P4_3, dtype: int64\n",
      "Columna  P4_5\n",
      " 1.0    22600\n",
      "-1.0    20616\n",
      " 3.0    12888\n",
      " 2.0     3111\n",
      " 9.0       70\n",
      "Name: P4_5, dtype: int64\n",
      "Columna  P4_6_1\n",
      "-1.0    23797\n",
      " 2.0    21069\n",
      " 1.0    14419\n",
      "Name: P4_6_1, dtype: int64\n",
      "Columna  P4_6_2\n",
      "-1.0    23797\n",
      " 2.0    18625\n",
      " 1.0    16863\n",
      "Name: P4_6_2, dtype: int64\n",
      "Columna  P4_6_3\n",
      " 2.0    32088\n",
      "-1.0    23797\n",
      " 1.0     3400\n",
      "Name: P4_6_3, dtype: int64\n",
      "Columna  P4_6_4\n",
      " 2.0    34295\n",
      "-1.0    23797\n",
      " 1.0     1193\n",
      "Name: P4_6_4, dtype: int64\n",
      "Columna  P4_6_5\n",
      " 2.0    35467\n",
      "-1.0    23797\n",
      " 1.0       21\n",
      "Name: P4_6_5, dtype: int64\n",
      "Columna  P4_6_6\n",
      " 2.0    35419\n",
      "-1.0    23797\n",
      " 1.0       69\n",
      "Name: P4_6_6, dtype: int64\n",
      "Columna  P4_7_1\n",
      "-1.0    43286\n",
      " 1.0    15762\n",
      " 2.0      237\n",
      "Name: P4_7_1, dtype: int64\n",
      "Columna  P4_7_2\n",
      "-1.0    43286\n",
      " 2.0    15444\n",
      " 1.0      555\n",
      "Name: P4_7_2, dtype: int64\n",
      "Columna  P4_7_3\n",
      "-1.0    43286\n",
      " 2.0    15470\n",
      " 1.0      529\n",
      "Name: P4_7_3, dtype: int64\n",
      "Columna  P4_7_4\n",
      "-1.0    43286\n",
      " 2.0    15948\n",
      " 1.0       51\n",
      "Name: P4_7_4, dtype: int64\n",
      "Columna  P4_8\n",
      "-1.0     38669\n",
      " 1.0     12216\n",
      " 2.0      4545\n",
      " 3.0      1830\n",
      " 6.0      1043\n",
      " 7.0       317\n",
      " 9.0       270\n",
      " 4.0       199\n",
      " 5.0       134\n",
      " 8.0        38\n",
      " 10.0       24\n",
      "Name: P4_8, dtype: int64\n",
      "Columna  P5_2_1\n",
      "-1.0    32395\n",
      " 1.0    18296\n",
      " 2.0     8594\n",
      "Name: P5_2_1, dtype: int64\n",
      "Columna  P5_2_2\n",
      "-1.0    32395\n",
      " 2.0    18199\n",
      " 1.0     8691\n",
      "Name: P5_2_2, dtype: int64\n",
      "Columna  P5_3_1\n",
      "-1.0    32395\n",
      " 2.0    24990\n",
      " 1.0     1900\n",
      "Name: P5_3_1, dtype: int64\n",
      "Columna  P5_3_2\n",
      "-1.0    32395\n",
      " 2.0    26639\n",
      " 1.0      251\n",
      "Name: P5_3_2, dtype: int64\n",
      "Columna  P5_4\n",
      "-1.0    26890\n",
      " 1.0    16322\n",
      " 2.0    12758\n",
      " 3.0     2066\n",
      " 5.0      455\n",
      " 6.0      427\n",
      " 4.0      367\n",
      "Name: P5_4, dtype: int64\n",
      "Columna  P5_7_1\n",
      " 2.0    56252\n",
      "-1.0     2483\n",
      " 9.0      505\n",
      " 1.0       45\n",
      "Name: P5_7_1, dtype: int64\n",
      "Columna  P5_9_1\n",
      "-1.0    59283\n",
      " 9.0        2\n",
      "Name: P5_9_1, dtype: int64\n",
      "Columna  P5_10_1\n",
      "-1.0    59280\n",
      " 1.0        5\n",
      "Name: P5_10_1, dtype: int64\n",
      "Columna  P5_7_2\n",
      " 2.0    48128\n",
      " 1.0     8369\n",
      "-1.0     2483\n",
      " 9.0      305\n",
      "Name: P5_7_2, dtype: int64\n",
      "Columna  P5_9_2\n",
      "-1.0    58790\n",
      " 9.0      418\n",
      " 1.0       77\n",
      "Name: P5_9_2, dtype: int64\n",
      "Columna  P5_10_2\n",
      "-1.0    58899\n",
      " 1.0      363\n",
      " 8.0       23\n",
      "Name: P5_10_2, dtype: int64\n",
      "Columna  P5_7_3\n",
      " 2.0    56324\n",
      "-1.0     2483\n",
      " 9.0      272\n",
      " 1.0      206\n",
      "Name: P5_7_3, dtype: int64\n",
      "Columna  P5_9_3\n",
      "-1.0    59252\n",
      " 9.0       22\n",
      " 1.0       11\n",
      "Name: P5_9_3, dtype: int64\n",
      "Columna  P5_10_3\n",
      "-1.0    59266\n",
      " 1.0       14\n",
      " 8.0        5\n",
      "Name: P5_10_3, dtype: int64\n",
      "Columna  P5_7_4\n",
      " 2.0    51086\n",
      " 1.0     5394\n",
      "-1.0     2483\n",
      " 9.0      322\n",
      "Name: P5_7_4, dtype: int64\n",
      "Columna  P5_9_4\n",
      "-1.0    58986\n",
      " 9.0      243\n",
      " 1.0       56\n",
      "Name: P5_9_4, dtype: int64\n",
      "Columna  P5_10_4\n",
      "-1.0    59184\n",
      " 1.0       84\n",
      " 8.0       17\n",
      "Name: P5_10_4, dtype: int64\n",
      "Columna  P5_7_5\n",
      " 2.0    45810\n",
      " 1.0    10768\n",
      "-1.0     2483\n",
      " 9.0      224\n",
      "Name: P5_7_5, dtype: int64\n",
      "Columna  P5_9_5\n",
      "-1.0    58812\n",
      " 9.0      370\n",
      " 1.0      103\n",
      "Name: P5_9_5, dtype: int64\n",
      "Columna  P5_10_5\n",
      "-1.0    58970\n",
      " 1.0      292\n",
      " 8.0       23\n",
      "Name: P5_10_5, dtype: int64\n",
      "Columna  P5_7_6\n",
      " 2.0    43612\n",
      " 1.0    13090\n",
      "-1.0     2483\n",
      " 9.0      100\n",
      "Name: P5_7_6, dtype: int64\n",
      "Columna  P5_9_6\n",
      "-1.0    58646\n",
      " 9.0      421\n",
      " 1.0      218\n",
      "Name: P5_9_6, dtype: int64\n",
      "Columna  P5_7_7\n",
      " 2.0    54509\n",
      "-1.0     2483\n",
      " 1.0     2145\n",
      " 9.0      148\n",
      "Name: P5_7_7, dtype: int64\n",
      "Columna  P5_9_7\n",
      "-1.0    59010\n",
      " 9.0      149\n",
      " 1.0      126\n",
      "Name: P5_9_7, dtype: int64\n",
      "Columna  P5_7_8\n",
      " 2.0    45423\n",
      " 1.0    11165\n",
      "-1.0     2483\n",
      " 9.0      214\n",
      "Name: P5_7_8, dtype: int64\n",
      "Columna  P5_9_8\n",
      "-1.0    58201\n",
      " 1.0      627\n",
      " 9.0      457\n",
      "Name: P5_9_8, dtype: int64\n",
      "Columna  P5_11_1\n",
      " 1.0    26471\n",
      " 3.0    21244\n",
      " 2.0     8911\n",
      "-1.0     2483\n",
      " 8.0      176\n",
      "Name: P5_11_1, dtype: int64\n",
      "Columna  P5_11_2\n",
      " 3.0    29912\n",
      " 1.0    22419\n",
      " 2.0     4390\n",
      "-1.0     2483\n",
      " 8.0       81\n",
      "Name: P5_11_2, dtype: int64\n",
      "Columna  P5_11_3\n",
      " 3.0    35915\n",
      " 1.0    17911\n",
      " 2.0     2727\n",
      "-1.0     2483\n",
      " 8.0      249\n",
      "Name: P5_11_3, dtype: int64\n"
     ]
    }
   ],
   "source": [
    "for column in float_values_hog:\n",
    "    print(\"Columna \", column)\n",
    "    print(df_hogar[column].value_counts())"
   ]
  },
  {
   "attachments": {},
   "cell_type": "markdown",
   "metadata": {},
   "source": [
    "Reemplazando tipos de datos"
   ]
  },
  {
   "cell_type": "code",
   "execution_count": 48,
   "metadata": {},
   "outputs": [],
   "source": [
    "df_hogar[float_values_hog] = df_hogar[float_values_hog].astype(\"int\")"
   ]
  },
  {
   "attachments": {},
   "cell_type": "markdown",
   "metadata": {},
   "source": [
    "Comprobando los tipos de datos"
   ]
  },
  {
   "cell_type": "code",
   "execution_count": 49,
   "metadata": {},
   "outputs": [
    {
     "data": {
      "text/plain": [
       "int64      70\n",
       "float64     8\n",
       "object      6\n",
       "dtype: int64"
      ]
     },
     "execution_count": 49,
     "metadata": {},
     "output_type": "execute_result"
    }
   ],
   "source": [
    "df_hogar.dtypes.value_counts()"
   ]
  },
  {
   "attachments": {},
   "cell_type": "markdown",
   "metadata": {},
   "source": [
    "### TR_ENDUTIH_USUARIO_ANUAL \n",
    "<a id=\"17\"></a>\n",
    "\n",
    "#### 1. Lectura de datos \n",
    "<a id=\"18\"></a>"
   ]
  },
  {
   "cell_type": "code",
   "execution_count": 50,
   "metadata": {},
   "outputs": [
    {
     "name": "stderr",
     "output_type": "stream",
     "text": [
      "/home/arturo/anaconda3/envs/brechaea/lib/python3.9/site-packages/IPython/core/interactiveshell.py:3221: DtypeWarning: Columns (20,29,50,60,70,86,91,100,167,175,186,201,207) have mixed types.Specify dtype option on import or set low_memory=False.\n",
      "  has_raised = await self.run_ast_nodes(code_ast.body, cell_name,\n"
     ]
    },
    {
     "data": {
      "text/html": [
       "<div>\n",
       "<style scoped>\n",
       "    .dataframe tbody tr th:only-of-type {\n",
       "        vertical-align: middle;\n",
       "    }\n",
       "\n",
       "    .dataframe tbody tr th {\n",
       "        vertical-align: top;\n",
       "    }\n",
       "\n",
       "    .dataframe thead th {\n",
       "        text-align: right;\n",
       "    }\n",
       "</style>\n",
       "<table border=\"1\" class=\"dataframe\">\n",
       "  <thead>\n",
       "    <tr style=\"text-align: right;\">\n",
       "      <th></th>\n",
       "      <th>UPM</th>\n",
       "      <th>VIV_SEL</th>\n",
       "      <th>HOGAR</th>\n",
       "      <th>NUM_REN</th>\n",
       "      <th>EDAD</th>\n",
       "      <th>P6_1</th>\n",
       "      <th>P6_2_1</th>\n",
       "      <th>P6_2_2</th>\n",
       "      <th>P6_2_3</th>\n",
       "      <th>P6_3</th>\n",
       "      <th>...</th>\n",
       "      <th>UPM_DIS</th>\n",
       "      <th>EST_DIS</th>\n",
       "      <th>DOMINIO</th>\n",
       "      <th>TLOC</th>\n",
       "      <th>ESTRATO</th>\n",
       "      <th>PAREN</th>\n",
       "      <th>SEXO</th>\n",
       "      <th>NIVEL</th>\n",
       "      <th>GRADO</th>\n",
       "      <th>ENT</th>\n",
       "    </tr>\n",
       "  </thead>\n",
       "  <tbody>\n",
       "    <tr>\n",
       "      <th>0</th>\n",
       "      <td>100023</td>\n",
       "      <td>1</td>\n",
       "      <td>1</td>\n",
       "      <td>1</td>\n",
       "      <td>41</td>\n",
       "      <td>1</td>\n",
       "      <td>2.0</td>\n",
       "      <td>1.0</td>\n",
       "      <td>2.0</td>\n",
       "      <td>NaN</td>\n",
       "      <td>...</td>\n",
       "      <td>1</td>\n",
       "      <td>7</td>\n",
       "      <td>U</td>\n",
       "      <td>1</td>\n",
       "      <td>3</td>\n",
       "      <td>1</td>\n",
       "      <td>2</td>\n",
       "      <td>10</td>\n",
       "      <td>2</td>\n",
       "      <td>1</td>\n",
       "    </tr>\n",
       "    <tr>\n",
       "      <th>1</th>\n",
       "      <td>100023</td>\n",
       "      <td>2</td>\n",
       "      <td>1</td>\n",
       "      <td>3</td>\n",
       "      <td>23</td>\n",
       "      <td>1</td>\n",
       "      <td>2.0</td>\n",
       "      <td>1.0</td>\n",
       "      <td>2.0</td>\n",
       "      <td>NaN</td>\n",
       "      <td>...</td>\n",
       "      <td>1</td>\n",
       "      <td>7</td>\n",
       "      <td>U</td>\n",
       "      <td>1</td>\n",
       "      <td>3</td>\n",
       "      <td>3</td>\n",
       "      <td>2</td>\n",
       "      <td>6</td>\n",
       "      <td>3</td>\n",
       "      <td>1</td>\n",
       "    </tr>\n",
       "    <tr>\n",
       "      <th>2</th>\n",
       "      <td>100023</td>\n",
       "      <td>3</td>\n",
       "      <td>1</td>\n",
       "      <td>1</td>\n",
       "      <td>50</td>\n",
       "      <td>1</td>\n",
       "      <td>2.0</td>\n",
       "      <td>1.0</td>\n",
       "      <td>2.0</td>\n",
       "      <td>NaN</td>\n",
       "      <td>...</td>\n",
       "      <td>1</td>\n",
       "      <td>7</td>\n",
       "      <td>U</td>\n",
       "      <td>1</td>\n",
       "      <td>3</td>\n",
       "      <td>1</td>\n",
       "      <td>2</td>\n",
       "      <td>8</td>\n",
       "      <td>4</td>\n",
       "      <td>1</td>\n",
       "    </tr>\n",
       "    <tr>\n",
       "      <th>3</th>\n",
       "      <td>100023</td>\n",
       "      <td>4</td>\n",
       "      <td>1</td>\n",
       "      <td>2</td>\n",
       "      <td>55</td>\n",
       "      <td>2</td>\n",
       "      <td>NaN</td>\n",
       "      <td>NaN</td>\n",
       "      <td>NaN</td>\n",
       "      <td>2.0</td>\n",
       "      <td>...</td>\n",
       "      <td>1</td>\n",
       "      <td>7</td>\n",
       "      <td>U</td>\n",
       "      <td>1</td>\n",
       "      <td>3</td>\n",
       "      <td>2</td>\n",
       "      <td>2</td>\n",
       "      <td>2</td>\n",
       "      <td>6</td>\n",
       "      <td>1</td>\n",
       "    </tr>\n",
       "    <tr>\n",
       "      <th>4</th>\n",
       "      <td>100023</td>\n",
       "      <td>5</td>\n",
       "      <td>1</td>\n",
       "      <td>3</td>\n",
       "      <td>32</td>\n",
       "      <td>1</td>\n",
       "      <td>2.0</td>\n",
       "      <td>1.0</td>\n",
       "      <td>2.0</td>\n",
       "      <td>NaN</td>\n",
       "      <td>...</td>\n",
       "      <td>1</td>\n",
       "      <td>7</td>\n",
       "      <td>U</td>\n",
       "      <td>1</td>\n",
       "      <td>3</td>\n",
       "      <td>3</td>\n",
       "      <td>2</td>\n",
       "      <td>8</td>\n",
       "      <td>5</td>\n",
       "      <td>1</td>\n",
       "    </tr>\n",
       "  </tbody>\n",
       "</table>\n",
       "<p>5 rows × 226 columns</p>\n",
       "</div>"
      ],
      "text/plain": [
       "      UPM  VIV_SEL  HOGAR  NUM_REN  EDAD  P6_1  P6_2_1  P6_2_2  P6_2_3  P6_3  \\\n",
       "0  100023        1      1        1    41     1     2.0     1.0     2.0   NaN   \n",
       "1  100023        2      1        3    23     1     2.0     1.0     2.0   NaN   \n",
       "2  100023        3      1        1    50     1     2.0     1.0     2.0   NaN   \n",
       "3  100023        4      1        2    55     2     NaN     NaN     NaN   2.0   \n",
       "4  100023        5      1        3    32     1     2.0     1.0     2.0   NaN   \n",
       "\n",
       "   ... UPM_DIS  EST_DIS  DOMINIO  TLOC  ESTRATO  PAREN  SEXO  NIVEL  GRADO  \\\n",
       "0  ...       1        7        U     1        3      1     2     10      2   \n",
       "1  ...       1        7        U     1        3      3     2      6      3   \n",
       "2  ...       1        7        U     1        3      1     2      8      4   \n",
       "3  ...       1        7        U     1        3      2     2      2      6   \n",
       "4  ...       1        7        U     1        3      3     2      8      5   \n",
       "\n",
       "   ENT  \n",
       "0    1  \n",
       "1    1  \n",
       "2    1  \n",
       "3    1  \n",
       "4    1  \n",
       "\n",
       "[5 rows x 226 columns]"
      ]
     },
     "execution_count": 50,
     "metadata": {},
     "output_type": "execute_result"
    }
   ],
   "source": [
    "path_usuario_1 = (\"../data/ENDUTIH 2021/tr_endutih_usuario_anual_2021.csv\")\n",
    "df_usuario_1 = pd.read_csv(path_usuario_1)\n",
    "df_usuario_1.head()"
   ]
  },
  {
   "cell_type": "code",
   "execution_count": 51,
   "metadata": {},
   "outputs": [
    {
     "data": {
      "text/plain": [
       "(59285, 226)"
      ]
     },
     "execution_count": 51,
     "metadata": {},
     "output_type": "execute_result"
    }
   ],
   "source": [
    "df_usuario_1.shape #dataframe dimensions"
   ]
  },
  {
   "cell_type": "code",
   "execution_count": 52,
   "metadata": {},
   "outputs": [
    {
     "data": {
      "text/plain": [
       "float64    185\n",
       "object      24\n",
       "int64       17\n",
       "dtype: int64"
      ]
     },
     "execution_count": 52,
     "metadata": {},
     "output_type": "execute_result"
    }
   ],
   "source": [
    "df_usuario_1.dtypes.value_counts() #count dtypes"
   ]
  },
  {
   "attachments": {},
   "cell_type": "markdown",
   "metadata": {},
   "source": [
    "### 2. Datos duplicados \n",
    "<a id=\"19\"></a>"
   ]
  },
  {
   "cell_type": "code",
   "execution_count": 53,
   "metadata": {},
   "outputs": [
    {
     "data": {
      "text/plain": [
       "False    59285\n",
       "dtype: int64"
      ]
     },
     "execution_count": 53,
     "metadata": {},
     "output_type": "execute_result"
    }
   ],
   "source": [
    "df_usuario_1.duplicated().value_counts() #count duplicates : False = there's no duplicate"
   ]
  },
  {
   "attachments": {},
   "cell_type": "markdown",
   "metadata": {},
   "source": [
    "### 3.Valores faltantes \n",
    "<a id=\"20\"></a>"
   ]
  },
  {
   "cell_type": "code",
   "execution_count": 54,
   "metadata": {},
   "outputs": [
    {
     "data": {
      "text/html": [
       "<div>\n",
       "<style scoped>\n",
       "    .dataframe tbody tr th:only-of-type {\n",
       "        vertical-align: middle;\n",
       "    }\n",
       "\n",
       "    .dataframe tbody tr th {\n",
       "        vertical-align: top;\n",
       "    }\n",
       "\n",
       "    .dataframe thead th {\n",
       "        text-align: right;\n",
       "    }\n",
       "</style>\n",
       "<table border=\"1\" class=\"dataframe\">\n",
       "  <thead>\n",
       "    <tr style=\"text-align: right;\">\n",
       "      <th></th>\n",
       "      <th>UPM</th>\n",
       "      <th>VIV_SEL</th>\n",
       "      <th>HOGAR</th>\n",
       "      <th>NUM_REN</th>\n",
       "      <th>EDAD</th>\n",
       "      <th>P6_1</th>\n",
       "      <th>P6_2_1</th>\n",
       "      <th>P6_2_2</th>\n",
       "      <th>P6_2_3</th>\n",
       "      <th>P6_3</th>\n",
       "      <th>...</th>\n",
       "      <th>UPM_DIS</th>\n",
       "      <th>EST_DIS</th>\n",
       "      <th>DOMINIO</th>\n",
       "      <th>TLOC</th>\n",
       "      <th>ESTRATO</th>\n",
       "      <th>PAREN</th>\n",
       "      <th>SEXO</th>\n",
       "      <th>NIVEL</th>\n",
       "      <th>GRADO</th>\n",
       "      <th>ENT</th>\n",
       "    </tr>\n",
       "  </thead>\n",
       "  <tbody>\n",
       "    <tr>\n",
       "      <th>0</th>\n",
       "      <td>False</td>\n",
       "      <td>False</td>\n",
       "      <td>False</td>\n",
       "      <td>False</td>\n",
       "      <td>False</td>\n",
       "      <td>False</td>\n",
       "      <td>False</td>\n",
       "      <td>False</td>\n",
       "      <td>False</td>\n",
       "      <td>True</td>\n",
       "      <td>...</td>\n",
       "      <td>False</td>\n",
       "      <td>False</td>\n",
       "      <td>False</td>\n",
       "      <td>False</td>\n",
       "      <td>False</td>\n",
       "      <td>False</td>\n",
       "      <td>False</td>\n",
       "      <td>False</td>\n",
       "      <td>False</td>\n",
       "      <td>False</td>\n",
       "    </tr>\n",
       "    <tr>\n",
       "      <th>1</th>\n",
       "      <td>False</td>\n",
       "      <td>False</td>\n",
       "      <td>False</td>\n",
       "      <td>False</td>\n",
       "      <td>False</td>\n",
       "      <td>False</td>\n",
       "      <td>False</td>\n",
       "      <td>False</td>\n",
       "      <td>False</td>\n",
       "      <td>True</td>\n",
       "      <td>...</td>\n",
       "      <td>False</td>\n",
       "      <td>False</td>\n",
       "      <td>False</td>\n",
       "      <td>False</td>\n",
       "      <td>False</td>\n",
       "      <td>False</td>\n",
       "      <td>False</td>\n",
       "      <td>False</td>\n",
       "      <td>False</td>\n",
       "      <td>False</td>\n",
       "    </tr>\n",
       "    <tr>\n",
       "      <th>2</th>\n",
       "      <td>False</td>\n",
       "      <td>False</td>\n",
       "      <td>False</td>\n",
       "      <td>False</td>\n",
       "      <td>False</td>\n",
       "      <td>False</td>\n",
       "      <td>False</td>\n",
       "      <td>False</td>\n",
       "      <td>False</td>\n",
       "      <td>True</td>\n",
       "      <td>...</td>\n",
       "      <td>False</td>\n",
       "      <td>False</td>\n",
       "      <td>False</td>\n",
       "      <td>False</td>\n",
       "      <td>False</td>\n",
       "      <td>False</td>\n",
       "      <td>False</td>\n",
       "      <td>False</td>\n",
       "      <td>False</td>\n",
       "      <td>False</td>\n",
       "    </tr>\n",
       "    <tr>\n",
       "      <th>3</th>\n",
       "      <td>False</td>\n",
       "      <td>False</td>\n",
       "      <td>False</td>\n",
       "      <td>False</td>\n",
       "      <td>False</td>\n",
       "      <td>False</td>\n",
       "      <td>True</td>\n",
       "      <td>True</td>\n",
       "      <td>True</td>\n",
       "      <td>False</td>\n",
       "      <td>...</td>\n",
       "      <td>False</td>\n",
       "      <td>False</td>\n",
       "      <td>False</td>\n",
       "      <td>False</td>\n",
       "      <td>False</td>\n",
       "      <td>False</td>\n",
       "      <td>False</td>\n",
       "      <td>False</td>\n",
       "      <td>False</td>\n",
       "      <td>False</td>\n",
       "    </tr>\n",
       "    <tr>\n",
       "      <th>4</th>\n",
       "      <td>False</td>\n",
       "      <td>False</td>\n",
       "      <td>False</td>\n",
       "      <td>False</td>\n",
       "      <td>False</td>\n",
       "      <td>False</td>\n",
       "      <td>False</td>\n",
       "      <td>False</td>\n",
       "      <td>False</td>\n",
       "      <td>True</td>\n",
       "      <td>...</td>\n",
       "      <td>False</td>\n",
       "      <td>False</td>\n",
       "      <td>False</td>\n",
       "      <td>False</td>\n",
       "      <td>False</td>\n",
       "      <td>False</td>\n",
       "      <td>False</td>\n",
       "      <td>False</td>\n",
       "      <td>False</td>\n",
       "      <td>False</td>\n",
       "    </tr>\n",
       "  </tbody>\n",
       "</table>\n",
       "<p>5 rows × 226 columns</p>\n",
       "</div>"
      ],
      "text/plain": [
       "     UPM  VIV_SEL  HOGAR  NUM_REN   EDAD   P6_1  P6_2_1  P6_2_2  P6_2_3  \\\n",
       "0  False    False  False    False  False  False   False   False   False   \n",
       "1  False    False  False    False  False  False   False   False   False   \n",
       "2  False    False  False    False  False  False   False   False   False   \n",
       "3  False    False  False    False  False  False    True    True    True   \n",
       "4  False    False  False    False  False  False   False   False   False   \n",
       "\n",
       "    P6_3  ...  UPM_DIS  EST_DIS  DOMINIO   TLOC  ESTRATO  PAREN   SEXO  NIVEL  \\\n",
       "0   True  ...    False    False    False  False    False  False  False  False   \n",
       "1   True  ...    False    False    False  False    False  False  False  False   \n",
       "2   True  ...    False    False    False  False    False  False  False  False   \n",
       "3  False  ...    False    False    False  False    False  False  False  False   \n",
       "4   True  ...    False    False    False  False    False  False  False  False   \n",
       "\n",
       "   GRADO    ENT  \n",
       "0  False  False  \n",
       "1  False  False  \n",
       "2  False  False  \n",
       "3  False  False  \n",
       "4  False  False  \n",
       "\n",
       "[5 rows x 226 columns]"
      ]
     },
     "execution_count": 54,
     "metadata": {},
     "output_type": "execute_result"
    }
   ],
   "source": [
    "missing_data_usu1_1 = df_usuario_1.isnull() #bool missing data\n",
    "missing_data_usu1_1.head()"
   ]
  },
  {
   "cell_type": "code",
   "execution_count": 55,
   "metadata": {},
   "outputs": [
    {
     "name": "stdout",
     "output_type": "stream",
     "text": [
      "['P6_2_1', 'P6_2_2', 'P6_2_3', 'P6_3', 'P6_3A', 'P6_4', 'P6_5', 'P6_6_1', 'P6_6_2', 'P6_6_3', 'P6_6_4', 'P6_6_5', 'P6_6_6', 'P6_6_7', 'P6_6A', 'P6_7_1', 'P6_7_2', 'P6_7_3', 'P6_7_4', 'P6_7_5', 'P6_7_6', 'P6_7_7', 'P6_7_8', 'P6_7A', 'P6_8_1', 'P6_8_2', 'P6_8_3', 'P6_8_4', 'P6_8_5', 'P6_8_6', 'P6_8_7', 'P6_8_8', 'P6_8_9', 'P6_8_10', 'P6_8A', 'P6_9_1', 'P6_9_2', 'P6_9_3', 'P6_9_4', 'P6_9_5', 'P6_9_6', 'P6_9A', 'P7_2', 'P7_2A', 'P7_3', 'P7_4', 'P7_5_1', 'P7_5_2', 'P7_5_3', 'P7_5_4', 'P7_5_5', 'P7_5_6', 'P7_5_7', 'P7_5A', 'P7_6', 'P7_7_1', 'P7_7_2', 'P7_7_3', 'P7_7_4', 'P7_7_5', 'P7_7_6', 'P7_7_7', 'P7_7_8', 'P7_7A', 'P7_8_1', 'P7_8_2', 'P7_8_3', 'P7_8_4', 'P7_8_5', 'P7_8_6', 'P7_8_7', 'P7_8_8', 'P7_8_9', 'P7_8_10', 'P7_8A', 'P7_9_1', 'P7_9_2', 'P7_9_3', 'P7_9_4', 'P7_9A', 'P7_10_1', 'P7_10_2', 'P7_10_3', 'P7_10_4', 'P7_10A', 'P7_11_1', 'P7_11_2', 'P7_11_3', 'P7_11_4', 'P7_11_5', 'P7_11_6', 'P7_11_7', 'P7_11_8', 'P7_11A', 'P7_12', 'P7_13', 'P7_14_1', 'P7_14_2', 'P7_14_3', 'P7_14_4', 'P7_14_5', 'P7_14_6', 'P7_14_7', 'P7_14_8', 'P7_14_9', 'P7_14_10', 'P7_14_11', 'P7_14A', 'P7_15_1', 'P7_15_2', 'P7_16_1', 'P7_16_2', 'P7_16_3', 'P7_16_4', 'P7_16_5', 'P7_16_6', 'P7_16_7', 'P7_16_8', 'P7_16A', 'P7_17', 'P7_18', 'P7_19', 'P7_20_1', 'P7_20_2', 'P7_20_3', 'P7_20_4', 'P7_20_5', 'P7_20_6', 'P7_20_7', 'P7_20_8', 'P7_20_9', 'P7_20_10', 'P7_20A', 'P7_21', 'P7_22_1', 'P7_22_2', 'P7_22_3', 'P7_22_4', 'P7_22_5', 'P7_22_6', 'P7_22_7', 'P7_22_8', 'P7_22_9', 'P7_22_10', 'P7_22_11', 'P7_22_12', 'P7_22_13', 'P7_22_14', 'P7_22_15', 'P7_22_16', 'P7_22_17', 'P7_22_18', 'P7_22_19', 'P7_22A', 'P7_23', 'P7_24_1', 'P7_24_2', 'P7_24_3', 'P7_24_4', 'P7_24_5', 'P7_24A', 'P7_25', 'P7_26_1', 'P7_26_2', 'P7_26_3', 'P7_26_4', 'P7_26_5', 'P7_26_6', 'P7_26A', 'P7_27', 'P7_28', 'P7_28A', 'P7_29', 'P7_30_1', 'P7_30_2', 'P7_30_3', 'P7_30_4', 'P7_30_5', 'P7_30_6', 'P7_30A', 'P7_31_1', 'P7_31_2', 'P7_31_3', 'P7_31_4', 'P7_31_5', 'P7_31_6', 'P7_31_7', 'P7_31A', 'P7_32', 'P7_33_1', 'P7_33_2', 'P7_33_3', 'P7_33_4', 'P7_33_5', 'P7_33A', 'P7_34_1', 'P7_34_2', 'P7_34_3', 'P7_34_4', 'P7_34_5', 'P7_34A', 'P7_35_1', 'P7_35_2', 'P7_35_3', 'P7_35_4', 'P7_35_5', 'P7_35A', 'P7_36']\n"
     ]
    }
   ],
   "source": [
    "columns_ms_usu1 = missing_data_usu1_1.any() #verifyig missing data per column\n",
    "columns_missing_values_usu1 = columns_ms_usu1[columns_ms_usu1 == True].index.tolist() #obtain name of columns\n",
    "print(columns_missing_values_usu1)"
   ]
  },
  {
   "attachments": {},
   "cell_type": "markdown",
   "metadata": {},
   "source": [
    "Reemplazando valores faltantes en tipo \"float\" e \"int\""
   ]
  },
  {
   "cell_type": "code",
   "execution_count": 56,
   "metadata": {},
   "outputs": [
    {
     "name": "stdout",
     "output_type": "stream",
     "text": [
      "['P6_2_1', 'P6_2_2', 'P6_2_3', 'P6_3', 'P6_4', 'P6_5', 'P6_6_1', 'P6_6_2', 'P6_6_3', 'P6_6_4', 'P6_6_5', 'P6_6_6', 'P6_6_7', 'P6_7_1', 'P6_7_2', 'P6_7_3', 'P6_7_4', 'P6_7_5', 'P6_7_6', 'P6_7_7', 'P6_7_8', 'P6_8_1', 'P6_8_2', 'P6_8_3', 'P6_8_4', 'P6_8_5', 'P6_8_6', 'P6_8_7', 'P6_8_8', 'P6_8_9', 'P6_8_10', 'P6_9_1', 'P6_9_2', 'P6_9_3', 'P6_9_4', 'P6_9_5', 'P6_9_6', 'P7_2', 'P7_3', 'P7_4', 'P7_5_1', 'P7_5_2', 'P7_5_3', 'P7_5_4', 'P7_5_5', 'P7_5_6', 'P7_5_7', 'P7_6', 'P7_7_1', 'P7_7_2', 'P7_7_3', 'P7_7_4', 'P7_7_5', 'P7_7_6', 'P7_7_7', 'P7_7_8', 'P7_8_1', 'P7_8_2', 'P7_8_3', 'P7_8_4', 'P7_8_5', 'P7_8_6', 'P7_8_7', 'P7_8_8', 'P7_8_9', 'P7_8_10', 'P7_9_1', 'P7_9_2', 'P7_9_3', 'P7_9_4', 'P7_10_1', 'P7_10_2', 'P7_10_3', 'P7_10_4', 'P7_11_1', 'P7_11_2', 'P7_11_3', 'P7_11_4', 'P7_11_5', 'P7_11_6', 'P7_11_7', 'P7_11_8', 'P7_12', 'P7_13', 'P7_14_1', 'P7_14_2', 'P7_14_3', 'P7_14_4', 'P7_14_5', 'P7_14_6', 'P7_14_7', 'P7_14_8', 'P7_14_9', 'P7_14_10', 'P7_14_11', 'P7_15_1', 'P7_15_2', 'P7_16_1', 'P7_16_2', 'P7_16_3', 'P7_16_4', 'P7_16_5', 'P7_16_6', 'P7_16_7', 'P7_16_8', 'P7_16A', 'P7_17', 'P7_18', 'P7_19', 'P7_20_1', 'P7_20_2', 'P7_20_3', 'P7_20_4', 'P7_20_5', 'P7_20_6', 'P7_20_7', 'P7_20_8', 'P7_20_9', 'P7_20_10', 'P7_21', 'P7_22_1', 'P7_22_2', 'P7_22_3', 'P7_22_4', 'P7_22_5', 'P7_22_6', 'P7_22_7', 'P7_22_8', 'P7_22_9', 'P7_22_10', 'P7_22_11', 'P7_22_12', 'P7_22_13', 'P7_22_14', 'P7_22_15', 'P7_22_16', 'P7_22_17', 'P7_22_18', 'P7_22_19', 'P7_23', 'P7_24_1', 'P7_24_2', 'P7_24_3', 'P7_24_4', 'P7_24_5', 'P7_25', 'P7_26_1', 'P7_26_2', 'P7_26_3', 'P7_26_4', 'P7_26_5', 'P7_26_6', 'P7_27', 'P7_28', 'P7_29', 'P7_30_1', 'P7_30_2', 'P7_30_3', 'P7_30_4', 'P7_30_5', 'P7_30_6', 'P7_31_1', 'P7_31_2', 'P7_31_3', 'P7_31_4', 'P7_31_5', 'P7_31_6', 'P7_31_7', 'P7_32', 'P7_33_1', 'P7_33_2', 'P7_33_3', 'P7_33_4', 'P7_33_5', 'P7_34_1', 'P7_34_2', 'P7_34_3', 'P7_34_4', 'P7_34_5', 'P7_35_1', 'P7_35_2', 'P7_35_3', 'P7_35_4', 'P7_35_5', 'P7_36']\n"
     ]
    }
   ],
   "source": [
    "float_int_values_usu1 = df_usuario_1[columns_missing_values_usu1].select_dtypes(include=[int, float]).columns.tolist() #Filter float and int from missing filter\n",
    "print(float_int_values_usu1)"
   ]
  },
  {
   "cell_type": "code",
   "execution_count": 57,
   "metadata": {},
   "outputs": [],
   "source": [
    "df_usuario_1[float_int_values_usu1] = df_usuario_1[float_int_values_usu1].fillna(-1) #fill in missing data with -1"
   ]
  },
  {
   "attachments": {},
   "cell_type": "markdown",
   "metadata": {},
   "source": [
    "Comprobado columnas con valores faltantes, las cuales ahora son de tipo \"object\""
   ]
  },
  {
   "cell_type": "code",
   "execution_count": 58,
   "metadata": {},
   "outputs": [
    {
     "name": "stdout",
     "output_type": "stream",
     "text": [
      "['P6_3A', 'P6_6A', 'P6_7A', 'P6_8A', 'P6_9A', 'P7_2A', 'P7_5A', 'P7_7A', 'P7_8A', 'P7_9A', 'P7_10A', 'P7_11A', 'P7_14A', 'P7_20A', 'P7_22A', 'P7_24A', 'P7_26A', 'P7_28A', 'P7_30A', 'P7_31A', 'P7_33A', 'P7_34A', 'P7_35A']\n"
     ]
    }
   ],
   "source": [
    "missing_data_usu1_2 = df_usuario_1.isnull() #new variable for missing filter\n",
    "columns_ms_usu1_2 = missing_data_usu1_2.any() \n",
    "columns_missing_values_usu1_2 = columns_ms_usu1_2[columns_ms_usu1_2 == True].index.tolist()\n",
    "print(columns_missing_values_usu1_2) \n"
   ]
  },
  {
   "attachments": {},
   "cell_type": "markdown",
   "metadata": {},
   "source": [
    "Reemplazando valores de tipos de datos \"Object\""
   ]
  },
  {
   "cell_type": "code",
   "execution_count": 59,
   "metadata": {},
   "outputs": [],
   "source": [
    "df_usuario_1[columns_missing_values_usu1_2] = df_usuario_1[columns_missing_values_usu1_2].fillna(\"Desconocido\") #fill in missind data with \"Desconocido\""
   ]
  },
  {
   "attachments": {},
   "cell_type": "markdown",
   "metadata": {},
   "source": [
    "Comprobando valores faltantes"
   ]
  },
  {
   "cell_type": "code",
   "execution_count": 60,
   "metadata": {},
   "outputs": [
    {
     "name": "stdout",
     "output_type": "stream",
     "text": [
      "[]\n"
     ]
    }
   ],
   "source": [
    "missing_data_usu1_3 = df_usuario_1.isnull() #new variable for missing filter\n",
    "columns_ms_usu1_3 = missing_data_usu1_3.any() \n",
    "columns_missing_values_usu1_3 = columns_ms_usu1_3[columns_ms_usu1_3 == True].index.tolist()\n",
    "print(columns_missing_values_usu1_3) "
   ]
  },
  {
   "attachments": {},
   "cell_type": "markdown",
   "metadata": {},
   "source": [
    "### 4. Revisión de los tipos de datos \n",
    "<a id=\"21\"></a>"
   ]
  },
  {
   "cell_type": "code",
   "execution_count": 61,
   "metadata": {},
   "outputs": [
    {
     "data": {
      "text/plain": [
       "float64    185\n",
       "object      24\n",
       "int64       17\n",
       "dtype: int64"
      ]
     },
     "execution_count": 61,
     "metadata": {},
     "output_type": "execute_result"
    }
   ],
   "source": [
    "df_usuario_1.dtypes.value_counts() #count dtypes"
   ]
  },
  {
   "attachments": {},
   "cell_type": "markdown",
   "metadata": {},
   "source": [
    "Reemplazando \"dtypes\" de \"float\" a \"int\".\n"
   ]
  },
  {
   "cell_type": "code",
   "execution_count": 62,
   "metadata": {},
   "outputs": [
    {
     "name": "stdout",
     "output_type": "stream",
     "text": [
      "['P6_2_1', 'P6_2_2', 'P6_2_3', 'P6_3', 'P6_4', 'P6_5', 'P6_6_1', 'P6_6_2', 'P6_6_3', 'P6_6_4', 'P6_6_5', 'P6_6_6', 'P6_6_7', 'P6_7_1', 'P6_7_2', 'P6_7_3', 'P6_7_4', 'P6_7_5', 'P6_7_6', 'P6_7_7', 'P6_7_8', 'P6_8_1', 'P6_8_2', 'P6_8_3', 'P6_8_4', 'P6_8_5', 'P6_8_6', 'P6_8_7', 'P6_8_8', 'P6_8_9', 'P6_8_10', 'P6_9_1', 'P6_9_2', 'P6_9_3', 'P6_9_4', 'P6_9_5', 'P6_9_6', 'P7_2', 'P7_3', 'P7_4', 'P7_5_1', 'P7_5_2', 'P7_5_3', 'P7_5_4', 'P7_5_5', 'P7_5_6', 'P7_5_7', 'P7_6', 'P7_7_1', 'P7_7_2', 'P7_7_3', 'P7_7_4', 'P7_7_5', 'P7_7_6', 'P7_7_7', 'P7_7_8', 'P7_8_1', 'P7_8_2', 'P7_8_3', 'P7_8_4', 'P7_8_5', 'P7_8_6', 'P7_8_7', 'P7_8_8', 'P7_8_9', 'P7_8_10', 'P7_9_1', 'P7_9_2', 'P7_9_3', 'P7_9_4', 'P7_10_1', 'P7_10_2', 'P7_10_3', 'P7_10_4', 'P7_11_1', 'P7_11_2', 'P7_11_3', 'P7_11_4', 'P7_11_5', 'P7_11_6', 'P7_11_7', 'P7_11_8', 'P7_12', 'P7_13', 'P7_14_1', 'P7_14_2', 'P7_14_3', 'P7_14_4', 'P7_14_5', 'P7_14_6', 'P7_14_7', 'P7_14_8', 'P7_14_9', 'P7_14_10', 'P7_14_11', 'P7_15_1', 'P7_15_2', 'P7_16_1', 'P7_16_2', 'P7_16_3', 'P7_16_4', 'P7_16_5', 'P7_16_6', 'P7_16_7', 'P7_16_8', 'P7_16A', 'P7_17', 'P7_18', 'P7_19', 'P7_20_1', 'P7_20_2', 'P7_20_3', 'P7_20_4', 'P7_20_5', 'P7_20_6', 'P7_20_7', 'P7_20_8', 'P7_20_9', 'P7_20_10', 'P7_21', 'P7_22_1', 'P7_22_2', 'P7_22_3', 'P7_22_4', 'P7_22_5', 'P7_22_6', 'P7_22_7', 'P7_22_8', 'P7_22_9', 'P7_22_10', 'P7_22_11', 'P7_22_12', 'P7_22_13', 'P7_22_14', 'P7_22_15', 'P7_22_16', 'P7_22_17', 'P7_22_18', 'P7_22_19', 'P7_23', 'P7_24_1', 'P7_24_2', 'P7_24_3', 'P7_24_4', 'P7_24_5', 'P7_25', 'P7_26_1', 'P7_26_2', 'P7_26_3', 'P7_26_4', 'P7_26_5', 'P7_26_6', 'P7_27', 'P7_28', 'P7_29', 'P7_30_1', 'P7_30_2', 'P7_30_3', 'P7_30_4', 'P7_30_5', 'P7_30_6', 'P7_31_1', 'P7_31_2', 'P7_31_3', 'P7_31_4', 'P7_31_5', 'P7_31_6', 'P7_31_7', 'P7_32', 'P7_33_1', 'P7_33_2', 'P7_33_3', 'P7_33_4', 'P7_33_5', 'P7_34_1', 'P7_34_2', 'P7_34_3', 'P7_34_4', 'P7_34_5', 'P7_35_1', 'P7_35_2', 'P7_35_3', 'P7_35_4', 'P7_35_5', 'P7_36']\n"
     ]
    }
   ],
   "source": [
    "float_values_usu1 = df_usuario_1.columns[df_usuario_1.dtypes == \"float\"].tolist()\n",
    "print(float_values_usu1)"
   ]
  },
  {
   "cell_type": "code",
   "execution_count": 63,
   "metadata": {},
   "outputs": [],
   "source": [
    "df_usuario_1[float_int_values_usu1] = df_usuario_1[float_int_values_usu1].astype(\"int\")"
   ]
  },
  {
   "cell_type": "code",
   "execution_count": 64,
   "metadata": {},
   "outputs": [
    {
     "data": {
      "text/plain": [
       "int64     202\n",
       "object     24\n",
       "dtype: int64"
      ]
     },
     "execution_count": 64,
     "metadata": {},
     "output_type": "execute_result"
    }
   ],
   "source": [
    "df_usuario_1.dtypes.value_counts()"
   ]
  },
  {
   "attachments": {},
   "cell_type": "markdown",
   "metadata": {},
   "source": [
    "### TR_ENDUTIH_USUARIO2_ANUAL \n",
    "<a id=\"22\"></a>\n",
    "\n",
    "#### 1. Lectura de datos \n",
    "<a id=\"23\"></a>"
   ]
  },
  {
   "cell_type": "code",
   "execution_count": 65,
   "metadata": {},
   "outputs": [
    {
     "name": "stderr",
     "output_type": "stream",
     "text": [
      "/home/arturo/anaconda3/envs/brechaea/lib/python3.9/site-packages/IPython/core/interactiveshell.py:3221: DtypeWarning: Columns (83) have mixed types.Specify dtype option on import or set low_memory=False.\n",
      "  has_raised = await self.run_ast_nodes(code_ast.body, cell_name,\n"
     ]
    },
    {
     "data": {
      "text/html": [
       "<div>\n",
       "<style scoped>\n",
       "    .dataframe tbody tr th:only-of-type {\n",
       "        vertical-align: middle;\n",
       "    }\n",
       "\n",
       "    .dataframe tbody tr th {\n",
       "        vertical-align: top;\n",
       "    }\n",
       "\n",
       "    .dataframe thead th {\n",
       "        text-align: right;\n",
       "    }\n",
       "</style>\n",
       "<table border=\"1\" class=\"dataframe\">\n",
       "  <thead>\n",
       "    <tr style=\"text-align: right;\">\n",
       "      <th></th>\n",
       "      <th>UPM</th>\n",
       "      <th>VIV_SEL</th>\n",
       "      <th>HOGAR</th>\n",
       "      <th>NUM_REN</th>\n",
       "      <th>EDAD</th>\n",
       "      <th>P8_1</th>\n",
       "      <th>P8_2</th>\n",
       "      <th>P8_2A</th>\n",
       "      <th>P8_3</th>\n",
       "      <th>P8_4_1</th>\n",
       "      <th>...</th>\n",
       "      <th>UPM_DIS</th>\n",
       "      <th>EST_DIS</th>\n",
       "      <th>DOMINIO</th>\n",
       "      <th>TLOC</th>\n",
       "      <th>ESTRATO</th>\n",
       "      <th>PAREN</th>\n",
       "      <th>SEXO</th>\n",
       "      <th>NIVEL</th>\n",
       "      <th>GRADO</th>\n",
       "      <th>ENT</th>\n",
       "    </tr>\n",
       "  </thead>\n",
       "  <tbody>\n",
       "    <tr>\n",
       "      <th>0</th>\n",
       "      <td>100023</td>\n",
       "      <td>1</td>\n",
       "      <td>1</td>\n",
       "      <td>1</td>\n",
       "      <td>41</td>\n",
       "      <td>1</td>\n",
       "      <td>NaN</td>\n",
       "      <td>NaN</td>\n",
       "      <td>1</td>\n",
       "      <td>2.0</td>\n",
       "      <td>...</td>\n",
       "      <td>1</td>\n",
       "      <td>7</td>\n",
       "      <td>U</td>\n",
       "      <td>1</td>\n",
       "      <td>3</td>\n",
       "      <td>1</td>\n",
       "      <td>2</td>\n",
       "      <td>10</td>\n",
       "      <td>2</td>\n",
       "      <td>1</td>\n",
       "    </tr>\n",
       "    <tr>\n",
       "      <th>1</th>\n",
       "      <td>100023</td>\n",
       "      <td>2</td>\n",
       "      <td>1</td>\n",
       "      <td>3</td>\n",
       "      <td>23</td>\n",
       "      <td>1</td>\n",
       "      <td>NaN</td>\n",
       "      <td>NaN</td>\n",
       "      <td>1</td>\n",
       "      <td>2.0</td>\n",
       "      <td>...</td>\n",
       "      <td>1</td>\n",
       "      <td>7</td>\n",
       "      <td>U</td>\n",
       "      <td>1</td>\n",
       "      <td>3</td>\n",
       "      <td>3</td>\n",
       "      <td>2</td>\n",
       "      <td>6</td>\n",
       "      <td>3</td>\n",
       "      <td>1</td>\n",
       "    </tr>\n",
       "    <tr>\n",
       "      <th>2</th>\n",
       "      <td>100023</td>\n",
       "      <td>3</td>\n",
       "      <td>1</td>\n",
       "      <td>1</td>\n",
       "      <td>50</td>\n",
       "      <td>1</td>\n",
       "      <td>NaN</td>\n",
       "      <td>NaN</td>\n",
       "      <td>1</td>\n",
       "      <td>2.0</td>\n",
       "      <td>...</td>\n",
       "      <td>1</td>\n",
       "      <td>7</td>\n",
       "      <td>U</td>\n",
       "      <td>1</td>\n",
       "      <td>3</td>\n",
       "      <td>1</td>\n",
       "      <td>2</td>\n",
       "      <td>8</td>\n",
       "      <td>4</td>\n",
       "      <td>1</td>\n",
       "    </tr>\n",
       "    <tr>\n",
       "      <th>3</th>\n",
       "      <td>100023</td>\n",
       "      <td>4</td>\n",
       "      <td>1</td>\n",
       "      <td>2</td>\n",
       "      <td>55</td>\n",
       "      <td>1</td>\n",
       "      <td>NaN</td>\n",
       "      <td>NaN</td>\n",
       "      <td>1</td>\n",
       "      <td>2.0</td>\n",
       "      <td>...</td>\n",
       "      <td>1</td>\n",
       "      <td>7</td>\n",
       "      <td>U</td>\n",
       "      <td>1</td>\n",
       "      <td>3</td>\n",
       "      <td>2</td>\n",
       "      <td>2</td>\n",
       "      <td>2</td>\n",
       "      <td>6</td>\n",
       "      <td>1</td>\n",
       "    </tr>\n",
       "    <tr>\n",
       "      <th>4</th>\n",
       "      <td>100023</td>\n",
       "      <td>5</td>\n",
       "      <td>1</td>\n",
       "      <td>3</td>\n",
       "      <td>32</td>\n",
       "      <td>1</td>\n",
       "      <td>NaN</td>\n",
       "      <td>NaN</td>\n",
       "      <td>1</td>\n",
       "      <td>2.0</td>\n",
       "      <td>...</td>\n",
       "      <td>1</td>\n",
       "      <td>7</td>\n",
       "      <td>U</td>\n",
       "      <td>1</td>\n",
       "      <td>3</td>\n",
       "      <td>3</td>\n",
       "      <td>2</td>\n",
       "      <td>8</td>\n",
       "      <td>5</td>\n",
       "      <td>1</td>\n",
       "    </tr>\n",
       "  </tbody>\n",
       "</table>\n",
       "<p>5 rows × 95 columns</p>\n",
       "</div>"
      ],
      "text/plain": [
       "      UPM  VIV_SEL  HOGAR  NUM_REN  EDAD  P8_1  P8_2 P8_2A  P8_3  P8_4_1  ...  \\\n",
       "0  100023        1      1        1    41     1   NaN   NaN     1     2.0  ...   \n",
       "1  100023        2      1        3    23     1   NaN   NaN     1     2.0  ...   \n",
       "2  100023        3      1        1    50     1   NaN   NaN     1     2.0  ...   \n",
       "3  100023        4      1        2    55     1   NaN   NaN     1     2.0  ...   \n",
       "4  100023        5      1        3    32     1   NaN   NaN     1     2.0  ...   \n",
       "\n",
       "   UPM_DIS  EST_DIS  DOMINIO  TLOC  ESTRATO  PAREN  SEXO  NIVEL  GRADO  ENT  \n",
       "0        1        7        U     1        3      1     2     10      2    1  \n",
       "1        1        7        U     1        3      3     2      6      3    1  \n",
       "2        1        7        U     1        3      1     2      8      4    1  \n",
       "3        1        7        U     1        3      2     2      2      6    1  \n",
       "4        1        7        U     1        3      3     2      8      5    1  \n",
       "\n",
       "[5 rows x 95 columns]"
      ]
     },
     "execution_count": 65,
     "metadata": {},
     "output_type": "execute_result"
    }
   ],
   "source": [
    "path_usuario_2 = (\"../data/ENDUTIH 2021/tr_endutih_usuario2_anual_2021.csv\")\n",
    "df_usuario_2 = pd.read_csv(path_usuario_2)\n",
    "df_usuario_2.head()"
   ]
  },
  {
   "cell_type": "code",
   "execution_count": 66,
   "metadata": {},
   "outputs": [
    {
     "data": {
      "text/plain": [
       "(59285, 95)"
      ]
     },
     "execution_count": 66,
     "metadata": {},
     "output_type": "execute_result"
    }
   ],
   "source": [
    "df_usuario_2.shape #Df dimensions"
   ]
  },
  {
   "cell_type": "code",
   "execution_count": 67,
   "metadata": {},
   "outputs": [
    {
     "data": {
      "text/plain": [
       "float64    66\n",
       "int64      19\n",
       "object     10\n",
       "dtype: int64"
      ]
     },
     "execution_count": 67,
     "metadata": {},
     "output_type": "execute_result"
    }
   ],
   "source": [
    "df_usuario_2.dtypes.value_counts() #Group dtypes"
   ]
  },
  {
   "attachments": {},
   "cell_type": "markdown",
   "metadata": {},
   "source": [
    "#### 2. Datos duplicados \n",
    "<a id=\"24\"></a>"
   ]
  },
  {
   "cell_type": "code",
   "execution_count": 68,
   "metadata": {},
   "outputs": [
    {
     "data": {
      "text/plain": [
       "False    59285\n",
       "dtype: int64"
      ]
     },
     "execution_count": 68,
     "metadata": {},
     "output_type": "execute_result"
    }
   ],
   "source": [
    "df_usuario_2.duplicated().value_counts()"
   ]
  },
  {
   "attachments": {},
   "cell_type": "markdown",
   "metadata": {},
   "source": [
    "#### 3. Valores faltantes \n",
    "<a id=\"25\"></a>\n"
   ]
  },
  {
   "attachments": {},
   "cell_type": "markdown",
   "metadata": {},
   "source": [
    "Vista de valores nulos con booleanos"
   ]
  },
  {
   "cell_type": "code",
   "execution_count": 69,
   "metadata": {},
   "outputs": [
    {
     "data": {
      "text/html": [
       "<div>\n",
       "<style scoped>\n",
       "    .dataframe tbody tr th:only-of-type {\n",
       "        vertical-align: middle;\n",
       "    }\n",
       "\n",
       "    .dataframe tbody tr th {\n",
       "        vertical-align: top;\n",
       "    }\n",
       "\n",
       "    .dataframe thead th {\n",
       "        text-align: right;\n",
       "    }\n",
       "</style>\n",
       "<table border=\"1\" class=\"dataframe\">\n",
       "  <thead>\n",
       "    <tr style=\"text-align: right;\">\n",
       "      <th></th>\n",
       "      <th>UPM</th>\n",
       "      <th>VIV_SEL</th>\n",
       "      <th>HOGAR</th>\n",
       "      <th>NUM_REN</th>\n",
       "      <th>EDAD</th>\n",
       "      <th>P6_1</th>\n",
       "      <th>P6_2_1</th>\n",
       "      <th>P6_2_2</th>\n",
       "      <th>P6_2_3</th>\n",
       "      <th>P6_3</th>\n",
       "      <th>...</th>\n",
       "      <th>UPM_DIS</th>\n",
       "      <th>EST_DIS</th>\n",
       "      <th>DOMINIO</th>\n",
       "      <th>TLOC</th>\n",
       "      <th>ESTRATO</th>\n",
       "      <th>PAREN</th>\n",
       "      <th>SEXO</th>\n",
       "      <th>NIVEL</th>\n",
       "      <th>GRADO</th>\n",
       "      <th>ENT</th>\n",
       "    </tr>\n",
       "  </thead>\n",
       "  <tbody>\n",
       "    <tr>\n",
       "      <th>0</th>\n",
       "      <td>False</td>\n",
       "      <td>False</td>\n",
       "      <td>False</td>\n",
       "      <td>False</td>\n",
       "      <td>False</td>\n",
       "      <td>False</td>\n",
       "      <td>False</td>\n",
       "      <td>False</td>\n",
       "      <td>False</td>\n",
       "      <td>False</td>\n",
       "      <td>...</td>\n",
       "      <td>False</td>\n",
       "      <td>False</td>\n",
       "      <td>False</td>\n",
       "      <td>False</td>\n",
       "      <td>False</td>\n",
       "      <td>False</td>\n",
       "      <td>False</td>\n",
       "      <td>False</td>\n",
       "      <td>False</td>\n",
       "      <td>False</td>\n",
       "    </tr>\n",
       "    <tr>\n",
       "      <th>1</th>\n",
       "      <td>False</td>\n",
       "      <td>False</td>\n",
       "      <td>False</td>\n",
       "      <td>False</td>\n",
       "      <td>False</td>\n",
       "      <td>False</td>\n",
       "      <td>False</td>\n",
       "      <td>False</td>\n",
       "      <td>False</td>\n",
       "      <td>False</td>\n",
       "      <td>...</td>\n",
       "      <td>False</td>\n",
       "      <td>False</td>\n",
       "      <td>False</td>\n",
       "      <td>False</td>\n",
       "      <td>False</td>\n",
       "      <td>False</td>\n",
       "      <td>False</td>\n",
       "      <td>False</td>\n",
       "      <td>False</td>\n",
       "      <td>False</td>\n",
       "    </tr>\n",
       "    <tr>\n",
       "      <th>2</th>\n",
       "      <td>False</td>\n",
       "      <td>False</td>\n",
       "      <td>False</td>\n",
       "      <td>False</td>\n",
       "      <td>False</td>\n",
       "      <td>False</td>\n",
       "      <td>False</td>\n",
       "      <td>False</td>\n",
       "      <td>False</td>\n",
       "      <td>False</td>\n",
       "      <td>...</td>\n",
       "      <td>False</td>\n",
       "      <td>False</td>\n",
       "      <td>False</td>\n",
       "      <td>False</td>\n",
       "      <td>False</td>\n",
       "      <td>False</td>\n",
       "      <td>False</td>\n",
       "      <td>False</td>\n",
       "      <td>False</td>\n",
       "      <td>False</td>\n",
       "    </tr>\n",
       "    <tr>\n",
       "      <th>3</th>\n",
       "      <td>False</td>\n",
       "      <td>False</td>\n",
       "      <td>False</td>\n",
       "      <td>False</td>\n",
       "      <td>False</td>\n",
       "      <td>False</td>\n",
       "      <td>False</td>\n",
       "      <td>False</td>\n",
       "      <td>False</td>\n",
       "      <td>False</td>\n",
       "      <td>...</td>\n",
       "      <td>False</td>\n",
       "      <td>False</td>\n",
       "      <td>False</td>\n",
       "      <td>False</td>\n",
       "      <td>False</td>\n",
       "      <td>False</td>\n",
       "      <td>False</td>\n",
       "      <td>False</td>\n",
       "      <td>False</td>\n",
       "      <td>False</td>\n",
       "    </tr>\n",
       "    <tr>\n",
       "      <th>4</th>\n",
       "      <td>False</td>\n",
       "      <td>False</td>\n",
       "      <td>False</td>\n",
       "      <td>False</td>\n",
       "      <td>False</td>\n",
       "      <td>False</td>\n",
       "      <td>False</td>\n",
       "      <td>False</td>\n",
       "      <td>False</td>\n",
       "      <td>False</td>\n",
       "      <td>...</td>\n",
       "      <td>False</td>\n",
       "      <td>False</td>\n",
       "      <td>False</td>\n",
       "      <td>False</td>\n",
       "      <td>False</td>\n",
       "      <td>False</td>\n",
       "      <td>False</td>\n",
       "      <td>False</td>\n",
       "      <td>False</td>\n",
       "      <td>False</td>\n",
       "    </tr>\n",
       "  </tbody>\n",
       "</table>\n",
       "<p>5 rows × 226 columns</p>\n",
       "</div>"
      ],
      "text/plain": [
       "     UPM  VIV_SEL  HOGAR  NUM_REN   EDAD   P6_1  P6_2_1  P6_2_2  P6_2_3  \\\n",
       "0  False    False  False    False  False  False   False   False   False   \n",
       "1  False    False  False    False  False  False   False   False   False   \n",
       "2  False    False  False    False  False  False   False   False   False   \n",
       "3  False    False  False    False  False  False   False   False   False   \n",
       "4  False    False  False    False  False  False   False   False   False   \n",
       "\n",
       "    P6_3  ...  UPM_DIS  EST_DIS  DOMINIO   TLOC  ESTRATO  PAREN   SEXO  NIVEL  \\\n",
       "0  False  ...    False    False    False  False    False  False  False  False   \n",
       "1  False  ...    False    False    False  False    False  False  False  False   \n",
       "2  False  ...    False    False    False  False    False  False  False  False   \n",
       "3  False  ...    False    False    False  False    False  False  False  False   \n",
       "4  False  ...    False    False    False  False    False  False  False  False   \n",
       "\n",
       "   GRADO    ENT  \n",
       "0  False  False  \n",
       "1  False  False  \n",
       "2  False  False  \n",
       "3  False  False  \n",
       "4  False  False  \n",
       "\n",
       "[5 rows x 226 columns]"
      ]
     },
     "execution_count": 69,
     "metadata": {},
     "output_type": "execute_result"
    }
   ],
   "source": [
    "missing_data_usu2_1 = df_usuario_2.isnull()\n",
    "missing_data_usu1_2.head()"
   ]
  },
  {
   "attachments": {},
   "cell_type": "markdown",
   "metadata": {},
   "source": [
    "Recalcando por última vez, el siguiente código verifica que haya valores nulos por columna, obtiene el nombre de las columnas y las imprime."
   ]
  },
  {
   "cell_type": "code",
   "execution_count": 70,
   "metadata": {},
   "outputs": [
    {
     "name": "stdout",
     "output_type": "stream",
     "text": [
      "['P8_2', 'P8_2A', 'P8_4_1', 'P8_4_2', 'P8_5_1', 'P8_5_2', 'P8_6', 'P8_7_1', 'P8_7_2', 'P8_7_3', 'P8_8', 'P8_9', 'P8_10', 'P8_11_1', 'P8_11_2', 'P8_12_1', 'P8_12_2', 'P8_12_3', 'P8_12_4', 'P8_12_5', 'P8_12_6', 'P8_12_7', 'P8_12_8', 'P8_12_9', 'P8_12A', 'P8_13', 'P8_14_1', 'P8_14_2', 'P8_15_1', 'P8_15_2', 'P8_15_3', 'P8_15_4', 'P8_15_5', 'P8_15_6', 'P8_15_7', 'P8_15_8', 'P8_15_9', 'P8_15A', 'P8_16', 'P8_17', 'P9_2', 'P9_2A', 'P9_3_1', 'P9_3_2', 'P9_4', 'P9_4A', 'P9_5', 'P9_5A', 'P9_6', 'P9_7_1', 'P9_7_2', 'P9_7_3', 'P9_7_4', 'P9_7_5', 'P9_7_6', 'P9_7A', 'P9_9', 'P9_9A', 'P9_10', 'P9_11_1', 'P9_11_2', 'P9_11_3', 'P9_11_4', 'P9_11_5', 'P9_11_6', 'P9_11_7', 'P9_11_8', 'P9_11_9', 'P9_11_10', 'P9_11_11', 'P9_11_12', 'P9_11_13', 'P9_11_14', 'P9_11_15', 'P9_11A']\n",
      "Número de columnas con valores nulos: 75\n"
     ]
    }
   ],
   "source": [
    "columns_ms_usu2 = missing_data_usu2_1.any()\n",
    "columns_missing_values_usu2 = columns_ms_usu2[columns_ms_usu2 == True].index.tolist()\n",
    "print(columns_missing_values_usu2)\n",
    "print(\"Número de columnas con valores nulos:\", len(columns_missing_values_usu2))"
   ]
  },
  {
   "attachments": {},
   "cell_type": "markdown",
   "metadata": {},
   "source": [
    "Remplazando valores faltantes de tipo \"float\" e \"int\""
   ]
  },
  {
   "cell_type": "code",
   "execution_count": 71,
   "metadata": {},
   "outputs": [
    {
     "name": "stdout",
     "output_type": "stream",
     "text": [
      "['P8_2', 'P8_4_1', 'P8_4_2', 'P8_5_1', 'P8_5_2', 'P8_6', 'P8_7_1', 'P8_7_2', 'P8_7_3', 'P8_8', 'P8_9', 'P8_10', 'P8_11_1', 'P8_11_2', 'P8_12_1', 'P8_12_2', 'P8_12_3', 'P8_12_4', 'P8_12_5', 'P8_12_6', 'P8_12_7', 'P8_12_8', 'P8_12_9', 'P8_13', 'P8_14_1', 'P8_14_2', 'P8_15_1', 'P8_15_2', 'P8_15_3', 'P8_15_4', 'P8_15_5', 'P8_15_6', 'P8_15_7', 'P8_15_8', 'P8_15_9', 'P8_16', 'P8_17', 'P9_2', 'P9_3_1', 'P9_3_2', 'P9_4', 'P9_5', 'P9_6', 'P9_7_1', 'P9_7_2', 'P9_7_3', 'P9_7_4', 'P9_7_5', 'P9_7_6', 'P9_9', 'P9_10', 'P9_11_1', 'P9_11_2', 'P9_11_3', 'P9_11_4', 'P9_11_5', 'P9_11_6', 'P9_11_7', 'P9_11_8', 'P9_11_9', 'P9_11_10', 'P9_11_11', 'P9_11_12', 'P9_11_13', 'P9_11_14', 'P9_11_15']\n",
      "Número de columnas con valores nulos de tipo 'int' y 'float': 66\n"
     ]
    }
   ],
   "source": [
    "float_int_values_usu2 = df_usuario_2[columns_missing_values_usu2].select_dtypes(include=[int, float]).columns.tolist()\n",
    "print(float_int_values_usu2)\n",
    "print(\"Número de columnas con valores nulos de tipo 'int' y 'float':\", len(float_int_values_usu2))"
   ]
  },
  {
   "cell_type": "code",
   "execution_count": 72,
   "metadata": {},
   "outputs": [],
   "source": [
    "df_usuario_2[float_int_values_usu2] = df_usuario_2[float_int_values_usu2].fillna(-1)"
   ]
  },
  {
   "attachments": {},
   "cell_type": "markdown",
   "metadata": {},
   "source": [
    "Comprobando valores faltantes"
   ]
  },
  {
   "cell_type": "code",
   "execution_count": 73,
   "metadata": {},
   "outputs": [
    {
     "name": "stdout",
     "output_type": "stream",
     "text": [
      "['P8_2A', 'P8_12A', 'P8_15A', 'P9_2A', 'P9_4A', 'P9_5A', 'P9_7A', 'P9_9A', 'P9_11A']\n"
     ]
    }
   ],
   "source": [
    "missing_data_usu2_2 = df_usuario_2.isnull() #new variable for missing filter\n",
    "columns_ms_usu2_2 = missing_data_usu2_2.any() \n",
    "columns_missing_values_usu2_2 = columns_ms_usu2_2[columns_ms_usu2_2 == True].index.tolist()\n",
    "print(columns_missing_values_usu2_2) "
   ]
  },
  {
   "attachments": {},
   "cell_type": "markdown",
   "metadata": {},
   "source": [
    "Rellenando valores faltantes en tipos de da columna \"Object\""
   ]
  },
  {
   "cell_type": "code",
   "execution_count": 74,
   "metadata": {},
   "outputs": [],
   "source": [
    "df_usuario_2[columns_missing_values_usu2_2] = df_usuario_2[columns_missing_values_usu2_2].fillna(\"Desconocido\")"
   ]
  },
  {
   "attachments": {},
   "cell_type": "markdown",
   "metadata": {},
   "source": [
    "Comprobando que no quedén valores nulos"
   ]
  },
  {
   "cell_type": "code",
   "execution_count": 75,
   "metadata": {},
   "outputs": [
    {
     "name": "stdout",
     "output_type": "stream",
     "text": [
      "[]\n"
     ]
    }
   ],
   "source": [
    "missing_data_usu2_3 = df_usuario_2.isnull() #new variable for missing filter\n",
    "columns_ms_usu2_3 = missing_data_usu2_3.any() \n",
    "columns_missing_values_usu2_3 = columns_ms_usu2_3[columns_ms_usu2_3 == True].index.tolist()\n",
    "print(columns_missing_values_usu2_3) "
   ]
  },
  {
   "attachments": {},
   "cell_type": "markdown",
   "metadata": {},
   "source": [
    "### 4. Revisión de los tipos de datos \n",
    "<a id=\"26\"></a>"
   ]
  },
  {
   "cell_type": "code",
   "execution_count": 76,
   "metadata": {},
   "outputs": [
    {
     "data": {
      "text/plain": [
       "float64    66\n",
       "int64      19\n",
       "object     10\n",
       "dtype: int64"
      ]
     },
     "execution_count": 76,
     "metadata": {},
     "output_type": "execute_result"
    }
   ],
   "source": [
    "df_usuario_2.dtypes.value_counts()"
   ]
  },
  {
   "attachments": {},
   "cell_type": "markdown",
   "metadata": {},
   "source": [
    "Reemplazo de tipos de datos, exceptuando columna \"P8_8\"\n",
    "Filtramos las columnas con tipo de datos \"float\""
   ]
  },
  {
   "cell_type": "code",
   "execution_count": 77,
   "metadata": {},
   "outputs": [
    {
     "name": "stdout",
     "output_type": "stream",
     "text": [
      "['P8_2', 'P8_4_1', 'P8_4_2', 'P8_5_1', 'P8_5_2', 'P8_6', 'P8_7_1', 'P8_7_2', 'P8_7_3', 'P8_9', 'P8_10', 'P8_11_1', 'P8_11_2', 'P8_12_1', 'P8_12_2', 'P8_12_3', 'P8_12_4', 'P8_12_5', 'P8_12_6', 'P8_12_7', 'P8_12_8', 'P8_12_9', 'P8_13', 'P8_14_1', 'P8_14_2', 'P8_15_1', 'P8_15_2', 'P8_15_3', 'P8_15_4', 'P8_15_5', 'P8_15_6', 'P8_15_7', 'P8_15_8', 'P8_15_9', 'P8_16', 'P8_17', 'P9_2', 'P9_3_1', 'P9_3_2', 'P9_4', 'P9_5', 'P9_6', 'P9_7_1', 'P9_7_2', 'P9_7_3', 'P9_7_4', 'P9_7_5', 'P9_7_6', 'P9_9', 'P9_10', 'P9_11_1', 'P9_11_2', 'P9_11_3', 'P9_11_4', 'P9_11_5', 'P9_11_6', 'P9_11_7', 'P9_11_8', 'P9_11_9', 'P9_11_10', 'P9_11_11', 'P9_11_12', 'P9_11_13', 'P9_11_14', 'P9_11_15']\n",
      "65\n"
     ]
    }
   ],
   "source": [
    "float_values_usu2 = df_usuario_2.columns[df_usuario_2.dtypes == \"float\"].tolist()\n",
    "float_values_usu2.remove('P8_8')\n",
    "print(float_values_usu2)\n",
    "print(len(float_values_usu2))"
   ]
  },
  {
   "cell_type": "code",
   "execution_count": 78,
   "metadata": {},
   "outputs": [],
   "source": [
    "df_usuario_2[float_values_usu2] = df_usuario_2[float_values_usu2].astype(\"int\")"
   ]
  },
  {
   "attachments": {},
   "cell_type": "markdown",
   "metadata": {},
   "source": [
    "Comprobando los tipos de datos"
   ]
  },
  {
   "cell_type": "code",
   "execution_count": 79,
   "metadata": {},
   "outputs": [
    {
     "data": {
      "text/plain": [
       "int64      84\n",
       "object     10\n",
       "float64     1\n",
       "dtype: int64"
      ]
     },
     "execution_count": 79,
     "metadata": {},
     "output_type": "execute_result"
    }
   ],
   "source": [
    "df_usuario_2.dtypes.value_counts()"
   ]
  },
  {
   "attachments": {},
   "cell_type": "markdown",
   "metadata": {},
   "source": [
    "### Guardando los archivos \n",
    "<a id=\"27\"></a>\n",
    "\n",
    "#### Transformando a .CSV\n",
    "<a id=\"28\"></a>"
   ]
  },
  {
   "attachments": {},
   "cell_type": "markdown",
   "metadata": {},
   "source": [
    "Se utilizaran los métodos de pandas para guardar los archivos en .csv y .sql.  \n",
    "La razón de esto es que uno quede en su formato original y el otro sea subido a un manejador de bases de datos y pueda ser usada en un futuro."
   ]
  },
  {
   "cell_type": "code",
   "execution_count": 80,
   "metadata": {},
   "outputs": [],
   "source": [
    "#Save dataframes on .csv\n",
    "df_vivienda.to_csv(\"../data/ENDUTIH_2021_transformed/ENDUTIH_VIVIENDA_2021.csv\", index=False) \n",
    "df_residente.to_csv(\"../data/ENDUTIH_2021_transformed/ENDUTIH_RESIDENTE_2021.csv\", index=False)\n",
    "df_hogar.to_csv(\"../data/ENDUTIH_2021_transformed/ENDUTIH_HOGAR_2021.csv\", index=False)\n",
    "df_usuario_1.to_csv(\"../data/ENDUTIH_2021_transformed/ENDUTIH_USUARIO_2021.csv\", index=False)\n",
    "df_usuario_2.to_csv(\"../data/ENDUTIH_2021_transformed/ENDUTIH_USUARIO2_2021.csv\", index=False)"
   ]
  },
  {
   "attachments": {},
   "cell_type": "markdown",
   "metadata": {},
   "source": [
    "#### Transformando a SQL\n",
    "<a id=\"29\"></a>\n",
    "\n",
    "Se guardaran los archivos en sql cuando se tengan los datos necesarios"
   ]
  },
  {
   "cell_type": "code",
   "execution_count": null,
   "metadata": {},
   "outputs": [],
   "source": [
    "#Save dataframes on .sql\n",
    "df_vivienda.to_sql(\"../data/ENDUTIH_2021_transformed/vivienda.sql\", index=False) \n",
    "df_residente.to_sql(\"../data/ENDUTIH_2021_transformed/residente.sql\", index=False)\n",
    "df_hogar.to_sql(\"../data/ENDUTIH_2021_transformed/hogar.sql\", index=False)\n",
    "df_usuario_1.to_sql(\"../data/ENDUTIH_2021_transformed/usuario1.sql\", index=False)\n",
    "df_usuario_2.to_sql(\"../data/ENDUTIH_2021_transformed/usuario2.sql\", index=False)"
   ]
  }
 ],
 "metadata": {
  "kernelspec": {
   "display_name": "brechaea",
   "language": "python",
   "name": "python3"
  },
  "language_info": {
   "codemirror_mode": {
    "name": "ipython",
    "version": 3
   },
   "file_extension": ".py",
   "mimetype": "text/x-python",
   "name": "python",
   "nbconvert_exporter": "python",
   "pygments_lexer": "ipython3",
   "version": "3.9.12"
  },
  "orig_nbformat": 4,
  "vscode": {
   "interpreter": {
    "hash": "fc8e55641114c509743700a47a6d5a001f3325508b3252b023f1c383aa2c4988"
   }
  }
 },
 "nbformat": 4,
 "nbformat_minor": 2
}
